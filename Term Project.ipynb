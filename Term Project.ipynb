{
 "cells": [
  {
   "cell_type": "markdown",
   "metadata": {},
   "source": [
    "# Term Project\n",
    "# Understanding the Dataset"
   ]
  },
  {
   "cell_type": "code",
   "execution_count": 10,
   "metadata": {},
   "outputs": [],
   "source": [
    "import pandas as pd\n",
    "import numpy as np\n",
    "import sklearn as sk\n",
    "from pylab import *\n",
    "import matplotlib.pyplot as pt\n",
    "%matplotlib inline\n",
    "import seaborn as sns\n",
    "\n",
    "#Displays every line from the cell\n",
    "from IPython.core.interactiveshell import InteractiveShell\n",
    "InteractiveShell.ast_node_interactivity = \"all\""
   ]
  },
  {
   "cell_type": "code",
   "execution_count": 11,
   "metadata": {},
   "outputs": [],
   "source": [
    "credit_data = pd.read_csv('german_credit_card.csv')\n",
    "credit_card_data = credit_data.copy()"
   ]
  },
  {
   "cell_type": "code",
   "execution_count": 12,
   "metadata": {},
   "outputs": [
    {
     "data": {
      "text/html": [
       "<div>\n",
       "<style scoped>\n",
       "    .dataframe tbody tr th:only-of-type {\n",
       "        vertical-align: middle;\n",
       "    }\n",
       "\n",
       "    .dataframe tbody tr th {\n",
       "        vertical-align: top;\n",
       "    }\n",
       "\n",
       "    .dataframe thead th {\n",
       "        text-align: right;\n",
       "    }\n",
       "</style>\n",
       "<table border=\"1\" class=\"dataframe\">\n",
       "  <thead>\n",
       "    <tr style=\"text-align: right;\">\n",
       "      <th></th>\n",
       "      <th>Creditability</th>\n",
       "      <th>Account Balance</th>\n",
       "      <th>Duration of Credit (month)</th>\n",
       "      <th>Payment Status of Previous Credit</th>\n",
       "      <th>Purpose</th>\n",
       "      <th>Credit Amount</th>\n",
       "      <th>Value Savings/Stocks</th>\n",
       "      <th>Length of current employment</th>\n",
       "      <th>Instalment per cent</th>\n",
       "      <th>Sex &amp; Marital Status</th>\n",
       "      <th>...</th>\n",
       "      <th>Duration in Current address</th>\n",
       "      <th>Most valuable available asset</th>\n",
       "      <th>Age (years)</th>\n",
       "      <th>Concurrent Credits</th>\n",
       "      <th>Type of apartment</th>\n",
       "      <th>No of Credits at this Bank</th>\n",
       "      <th>Occupation</th>\n",
       "      <th>No of dependents</th>\n",
       "      <th>Telephone</th>\n",
       "      <th>Foreign Worker</th>\n",
       "    </tr>\n",
       "  </thead>\n",
       "  <tbody>\n",
       "    <tr>\n",
       "      <th>0</th>\n",
       "      <td>1</td>\n",
       "      <td>1</td>\n",
       "      <td>18</td>\n",
       "      <td>4</td>\n",
       "      <td>2</td>\n",
       "      <td>1049</td>\n",
       "      <td>1</td>\n",
       "      <td>2</td>\n",
       "      <td>4</td>\n",
       "      <td>2</td>\n",
       "      <td>...</td>\n",
       "      <td>4</td>\n",
       "      <td>2</td>\n",
       "      <td>21</td>\n",
       "      <td>3</td>\n",
       "      <td>1</td>\n",
       "      <td>1</td>\n",
       "      <td>3</td>\n",
       "      <td>1</td>\n",
       "      <td>1</td>\n",
       "      <td>1</td>\n",
       "    </tr>\n",
       "    <tr>\n",
       "      <th>1</th>\n",
       "      <td>1</td>\n",
       "      <td>1</td>\n",
       "      <td>9</td>\n",
       "      <td>4</td>\n",
       "      <td>0</td>\n",
       "      <td>2799</td>\n",
       "      <td>1</td>\n",
       "      <td>3</td>\n",
       "      <td>2</td>\n",
       "      <td>3</td>\n",
       "      <td>...</td>\n",
       "      <td>2</td>\n",
       "      <td>1</td>\n",
       "      <td>36</td>\n",
       "      <td>3</td>\n",
       "      <td>1</td>\n",
       "      <td>2</td>\n",
       "      <td>3</td>\n",
       "      <td>2</td>\n",
       "      <td>1</td>\n",
       "      <td>1</td>\n",
       "    </tr>\n",
       "    <tr>\n",
       "      <th>2</th>\n",
       "      <td>1</td>\n",
       "      <td>2</td>\n",
       "      <td>12</td>\n",
       "      <td>2</td>\n",
       "      <td>9</td>\n",
       "      <td>841</td>\n",
       "      <td>2</td>\n",
       "      <td>4</td>\n",
       "      <td>2</td>\n",
       "      <td>2</td>\n",
       "      <td>...</td>\n",
       "      <td>4</td>\n",
       "      <td>1</td>\n",
       "      <td>23</td>\n",
       "      <td>3</td>\n",
       "      <td>1</td>\n",
       "      <td>1</td>\n",
       "      <td>2</td>\n",
       "      <td>1</td>\n",
       "      <td>1</td>\n",
       "      <td>1</td>\n",
       "    </tr>\n",
       "    <tr>\n",
       "      <th>3</th>\n",
       "      <td>1</td>\n",
       "      <td>1</td>\n",
       "      <td>12</td>\n",
       "      <td>4</td>\n",
       "      <td>0</td>\n",
       "      <td>2122</td>\n",
       "      <td>1</td>\n",
       "      <td>3</td>\n",
       "      <td>3</td>\n",
       "      <td>3</td>\n",
       "      <td>...</td>\n",
       "      <td>2</td>\n",
       "      <td>1</td>\n",
       "      <td>39</td>\n",
       "      <td>3</td>\n",
       "      <td>1</td>\n",
       "      <td>2</td>\n",
       "      <td>2</td>\n",
       "      <td>2</td>\n",
       "      <td>1</td>\n",
       "      <td>2</td>\n",
       "    </tr>\n",
       "    <tr>\n",
       "      <th>4</th>\n",
       "      <td>1</td>\n",
       "      <td>1</td>\n",
       "      <td>12</td>\n",
       "      <td>4</td>\n",
       "      <td>0</td>\n",
       "      <td>2171</td>\n",
       "      <td>1</td>\n",
       "      <td>3</td>\n",
       "      <td>4</td>\n",
       "      <td>3</td>\n",
       "      <td>...</td>\n",
       "      <td>4</td>\n",
       "      <td>2</td>\n",
       "      <td>38</td>\n",
       "      <td>1</td>\n",
       "      <td>2</td>\n",
       "      <td>2</td>\n",
       "      <td>2</td>\n",
       "      <td>1</td>\n",
       "      <td>1</td>\n",
       "      <td>2</td>\n",
       "    </tr>\n",
       "  </tbody>\n",
       "</table>\n",
       "<p>5 rows × 21 columns</p>\n",
       "</div>"
      ],
      "text/plain": [
       "   Creditability  Account Balance  Duration of Credit (month)  \\\n",
       "0              1                1                          18   \n",
       "1              1                1                           9   \n",
       "2              1                2                          12   \n",
       "3              1                1                          12   \n",
       "4              1                1                          12   \n",
       "\n",
       "   Payment Status of Previous Credit  Purpose  Credit Amount  \\\n",
       "0                                  4        2           1049   \n",
       "1                                  4        0           2799   \n",
       "2                                  2        9            841   \n",
       "3                                  4        0           2122   \n",
       "4                                  4        0           2171   \n",
       "\n",
       "   Value Savings/Stocks  Length of current employment  Instalment per cent  \\\n",
       "0                     1                             2                    4   \n",
       "1                     1                             3                    2   \n",
       "2                     2                             4                    2   \n",
       "3                     1                             3                    3   \n",
       "4                     1                             3                    4   \n",
       "\n",
       "   Sex & Marital Status       ...        Duration in Current address  \\\n",
       "0                     2       ...                                  4   \n",
       "1                     3       ...                                  2   \n",
       "2                     2       ...                                  4   \n",
       "3                     3       ...                                  2   \n",
       "4                     3       ...                                  4   \n",
       "\n",
       "   Most valuable available asset  Age (years)  Concurrent Credits  \\\n",
       "0                              2           21                   3   \n",
       "1                              1           36                   3   \n",
       "2                              1           23                   3   \n",
       "3                              1           39                   3   \n",
       "4                              2           38                   1   \n",
       "\n",
       "   Type of apartment  No of Credits at this Bank  Occupation  \\\n",
       "0                  1                           1           3   \n",
       "1                  1                           2           3   \n",
       "2                  1                           1           2   \n",
       "3                  1                           2           2   \n",
       "4                  2                           2           2   \n",
       "\n",
       "   No of dependents  Telephone  Foreign Worker  \n",
       "0                 1          1               1  \n",
       "1                 2          1               1  \n",
       "2                 1          1               1  \n",
       "3                 2          1               2  \n",
       "4                 1          1               2  \n",
       "\n",
       "[5 rows x 21 columns]"
      ]
     },
     "execution_count": 12,
     "metadata": {},
     "output_type": "execute_result"
    }
   ],
   "source": [
    "credit_card_data.head()"
   ]
  },
  {
   "cell_type": "code",
   "execution_count": 13,
   "metadata": {},
   "outputs": [
    {
     "name": "stdout",
     "output_type": "stream",
     "text": [
      "<class 'pandas.core.frame.DataFrame'>\n",
      "RangeIndex: 1000 entries, 0 to 999\n",
      "Data columns (total 21 columns):\n",
      "Creditability                        1000 non-null int64\n",
      "Account Balance                      1000 non-null int64\n",
      "Duration of Credit (month)           1000 non-null int64\n",
      "Payment Status of Previous Credit    1000 non-null int64\n",
      "Purpose                              1000 non-null int64\n",
      "Credit Amount                        1000 non-null int64\n",
      "Value Savings/Stocks                 1000 non-null int64\n",
      "Length of current employment         1000 non-null int64\n",
      "Instalment per cent                  1000 non-null int64\n",
      "Sex & Marital Status                 1000 non-null int64\n",
      "Guarantors                           1000 non-null int64\n",
      "Duration in Current address          1000 non-null int64\n",
      "Most valuable available asset        1000 non-null int64\n",
      "Age (years)                          1000 non-null int64\n",
      "Concurrent Credits                   1000 non-null int64\n",
      "Type of apartment                    1000 non-null int64\n",
      "No of Credits at this Bank           1000 non-null int64\n",
      "Occupation                           1000 non-null int64\n",
      "No of dependents                     1000 non-null int64\n",
      "Telephone                            1000 non-null int64\n",
      "Foreign Worker                       1000 non-null int64\n",
      "dtypes: int64(21)\n",
      "memory usage: 164.1 KB\n"
     ]
    }
   ],
   "source": [
    "credit_card_data.info()"
   ]
  },
  {
   "cell_type": "markdown",
   "metadata": {},
   "source": [
    "### As we can see there is no missing data and all the data vlaues in each column are all integers.\n",
    "and from this dataframe and reading the data description Creditability is the dependent variable."
   ]
  },
  {
   "cell_type": "code",
   "execution_count": 14,
   "metadata": {},
   "outputs": [
    {
     "data": {
      "text/html": [
       "<div>\n",
       "<style scoped>\n",
       "    .dataframe tbody tr th:only-of-type {\n",
       "        vertical-align: middle;\n",
       "    }\n",
       "\n",
       "    .dataframe tbody tr th {\n",
       "        vertical-align: top;\n",
       "    }\n",
       "\n",
       "    .dataframe thead th {\n",
       "        text-align: right;\n",
       "    }\n",
       "</style>\n",
       "<table border=\"1\" class=\"dataframe\">\n",
       "  <thead>\n",
       "    <tr style=\"text-align: right;\">\n",
       "      <th></th>\n",
       "      <th>Creditability</th>\n",
       "      <th>Account Balance</th>\n",
       "      <th>Duration of Credit (month)</th>\n",
       "      <th>Payment Status of Previous Credit</th>\n",
       "      <th>Purpose</th>\n",
       "      <th>Credit Amount</th>\n",
       "      <th>Value Savings/Stocks</th>\n",
       "      <th>Length of current employment</th>\n",
       "      <th>Instalment per cent</th>\n",
       "      <th>Sex &amp; Marital Status</th>\n",
       "      <th>...</th>\n",
       "      <th>Duration in Current address</th>\n",
       "      <th>Most valuable available asset</th>\n",
       "      <th>Age (years)</th>\n",
       "      <th>Concurrent Credits</th>\n",
       "      <th>Type of apartment</th>\n",
       "      <th>No of Credits at this Bank</th>\n",
       "      <th>Occupation</th>\n",
       "      <th>No of dependents</th>\n",
       "      <th>Telephone</th>\n",
       "      <th>Foreign Worker</th>\n",
       "    </tr>\n",
       "  </thead>\n",
       "  <tbody>\n",
       "    <tr>\n",
       "      <th>count</th>\n",
       "      <td>1000.000000</td>\n",
       "      <td>1000.000000</td>\n",
       "      <td>1000.000000</td>\n",
       "      <td>1000.00000</td>\n",
       "      <td>1000.000000</td>\n",
       "      <td>1000.00000</td>\n",
       "      <td>1000.000000</td>\n",
       "      <td>1000.000000</td>\n",
       "      <td>1000.000000</td>\n",
       "      <td>1000.00000</td>\n",
       "      <td>...</td>\n",
       "      <td>1000.000000</td>\n",
       "      <td>1000.000000</td>\n",
       "      <td>1000.00000</td>\n",
       "      <td>1000.000000</td>\n",
       "      <td>1000.000000</td>\n",
       "      <td>1000.000000</td>\n",
       "      <td>1000.000000</td>\n",
       "      <td>1000.000000</td>\n",
       "      <td>1000.000000</td>\n",
       "      <td>1000.000000</td>\n",
       "    </tr>\n",
       "    <tr>\n",
       "      <th>mean</th>\n",
       "      <td>0.700000</td>\n",
       "      <td>2.577000</td>\n",
       "      <td>20.903000</td>\n",
       "      <td>2.54500</td>\n",
       "      <td>2.828000</td>\n",
       "      <td>3271.24800</td>\n",
       "      <td>2.105000</td>\n",
       "      <td>3.384000</td>\n",
       "      <td>2.973000</td>\n",
       "      <td>2.68200</td>\n",
       "      <td>...</td>\n",
       "      <td>2.845000</td>\n",
       "      <td>2.358000</td>\n",
       "      <td>35.54200</td>\n",
       "      <td>2.675000</td>\n",
       "      <td>1.928000</td>\n",
       "      <td>1.407000</td>\n",
       "      <td>2.904000</td>\n",
       "      <td>1.155000</td>\n",
       "      <td>1.404000</td>\n",
       "      <td>1.037000</td>\n",
       "    </tr>\n",
       "    <tr>\n",
       "      <th>std</th>\n",
       "      <td>0.458487</td>\n",
       "      <td>1.257638</td>\n",
       "      <td>12.058814</td>\n",
       "      <td>1.08312</td>\n",
       "      <td>2.744439</td>\n",
       "      <td>2822.75176</td>\n",
       "      <td>1.580023</td>\n",
       "      <td>1.208306</td>\n",
       "      <td>1.118715</td>\n",
       "      <td>0.70808</td>\n",
       "      <td>...</td>\n",
       "      <td>1.103718</td>\n",
       "      <td>1.050209</td>\n",
       "      <td>11.35267</td>\n",
       "      <td>0.705601</td>\n",
       "      <td>0.530186</td>\n",
       "      <td>0.577654</td>\n",
       "      <td>0.653614</td>\n",
       "      <td>0.362086</td>\n",
       "      <td>0.490943</td>\n",
       "      <td>0.188856</td>\n",
       "    </tr>\n",
       "    <tr>\n",
       "      <th>min</th>\n",
       "      <td>0.000000</td>\n",
       "      <td>1.000000</td>\n",
       "      <td>4.000000</td>\n",
       "      <td>0.00000</td>\n",
       "      <td>0.000000</td>\n",
       "      <td>250.00000</td>\n",
       "      <td>1.000000</td>\n",
       "      <td>1.000000</td>\n",
       "      <td>1.000000</td>\n",
       "      <td>1.00000</td>\n",
       "      <td>...</td>\n",
       "      <td>1.000000</td>\n",
       "      <td>1.000000</td>\n",
       "      <td>19.00000</td>\n",
       "      <td>1.000000</td>\n",
       "      <td>1.000000</td>\n",
       "      <td>1.000000</td>\n",
       "      <td>1.000000</td>\n",
       "      <td>1.000000</td>\n",
       "      <td>1.000000</td>\n",
       "      <td>1.000000</td>\n",
       "    </tr>\n",
       "    <tr>\n",
       "      <th>25%</th>\n",
       "      <td>0.000000</td>\n",
       "      <td>1.000000</td>\n",
       "      <td>12.000000</td>\n",
       "      <td>2.00000</td>\n",
       "      <td>1.000000</td>\n",
       "      <td>1365.50000</td>\n",
       "      <td>1.000000</td>\n",
       "      <td>3.000000</td>\n",
       "      <td>2.000000</td>\n",
       "      <td>2.00000</td>\n",
       "      <td>...</td>\n",
       "      <td>2.000000</td>\n",
       "      <td>1.000000</td>\n",
       "      <td>27.00000</td>\n",
       "      <td>3.000000</td>\n",
       "      <td>2.000000</td>\n",
       "      <td>1.000000</td>\n",
       "      <td>3.000000</td>\n",
       "      <td>1.000000</td>\n",
       "      <td>1.000000</td>\n",
       "      <td>1.000000</td>\n",
       "    </tr>\n",
       "    <tr>\n",
       "      <th>50%</th>\n",
       "      <td>1.000000</td>\n",
       "      <td>2.000000</td>\n",
       "      <td>18.000000</td>\n",
       "      <td>2.00000</td>\n",
       "      <td>2.000000</td>\n",
       "      <td>2319.50000</td>\n",
       "      <td>1.000000</td>\n",
       "      <td>3.000000</td>\n",
       "      <td>3.000000</td>\n",
       "      <td>3.00000</td>\n",
       "      <td>...</td>\n",
       "      <td>3.000000</td>\n",
       "      <td>2.000000</td>\n",
       "      <td>33.00000</td>\n",
       "      <td>3.000000</td>\n",
       "      <td>2.000000</td>\n",
       "      <td>1.000000</td>\n",
       "      <td>3.000000</td>\n",
       "      <td>1.000000</td>\n",
       "      <td>1.000000</td>\n",
       "      <td>1.000000</td>\n",
       "    </tr>\n",
       "    <tr>\n",
       "      <th>75%</th>\n",
       "      <td>1.000000</td>\n",
       "      <td>4.000000</td>\n",
       "      <td>24.000000</td>\n",
       "      <td>4.00000</td>\n",
       "      <td>3.000000</td>\n",
       "      <td>3972.25000</td>\n",
       "      <td>3.000000</td>\n",
       "      <td>5.000000</td>\n",
       "      <td>4.000000</td>\n",
       "      <td>3.00000</td>\n",
       "      <td>...</td>\n",
       "      <td>4.000000</td>\n",
       "      <td>3.000000</td>\n",
       "      <td>42.00000</td>\n",
       "      <td>3.000000</td>\n",
       "      <td>2.000000</td>\n",
       "      <td>2.000000</td>\n",
       "      <td>3.000000</td>\n",
       "      <td>1.000000</td>\n",
       "      <td>2.000000</td>\n",
       "      <td>1.000000</td>\n",
       "    </tr>\n",
       "    <tr>\n",
       "      <th>max</th>\n",
       "      <td>1.000000</td>\n",
       "      <td>4.000000</td>\n",
       "      <td>72.000000</td>\n",
       "      <td>4.00000</td>\n",
       "      <td>10.000000</td>\n",
       "      <td>18424.00000</td>\n",
       "      <td>5.000000</td>\n",
       "      <td>5.000000</td>\n",
       "      <td>4.000000</td>\n",
       "      <td>4.00000</td>\n",
       "      <td>...</td>\n",
       "      <td>4.000000</td>\n",
       "      <td>4.000000</td>\n",
       "      <td>75.00000</td>\n",
       "      <td>3.000000</td>\n",
       "      <td>3.000000</td>\n",
       "      <td>4.000000</td>\n",
       "      <td>4.000000</td>\n",
       "      <td>2.000000</td>\n",
       "      <td>2.000000</td>\n",
       "      <td>2.000000</td>\n",
       "    </tr>\n",
       "  </tbody>\n",
       "</table>\n",
       "<p>8 rows × 21 columns</p>\n",
       "</div>"
      ],
      "text/plain": [
       "       Creditability  Account Balance  Duration of Credit (month)  \\\n",
       "count    1000.000000      1000.000000                 1000.000000   \n",
       "mean        0.700000         2.577000                   20.903000   \n",
       "std         0.458487         1.257638                   12.058814   \n",
       "min         0.000000         1.000000                    4.000000   \n",
       "25%         0.000000         1.000000                   12.000000   \n",
       "50%         1.000000         2.000000                   18.000000   \n",
       "75%         1.000000         4.000000                   24.000000   \n",
       "max         1.000000         4.000000                   72.000000   \n",
       "\n",
       "       Payment Status of Previous Credit      Purpose  Credit Amount  \\\n",
       "count                         1000.00000  1000.000000     1000.00000   \n",
       "mean                             2.54500     2.828000     3271.24800   \n",
       "std                              1.08312     2.744439     2822.75176   \n",
       "min                              0.00000     0.000000      250.00000   \n",
       "25%                              2.00000     1.000000     1365.50000   \n",
       "50%                              2.00000     2.000000     2319.50000   \n",
       "75%                              4.00000     3.000000     3972.25000   \n",
       "max                              4.00000    10.000000    18424.00000   \n",
       "\n",
       "       Value Savings/Stocks  Length of current employment  \\\n",
       "count           1000.000000                   1000.000000   \n",
       "mean               2.105000                      3.384000   \n",
       "std                1.580023                      1.208306   \n",
       "min                1.000000                      1.000000   \n",
       "25%                1.000000                      3.000000   \n",
       "50%                1.000000                      3.000000   \n",
       "75%                3.000000                      5.000000   \n",
       "max                5.000000                      5.000000   \n",
       "\n",
       "       Instalment per cent  Sex & Marital Status       ...        \\\n",
       "count          1000.000000            1000.00000       ...         \n",
       "mean              2.973000               2.68200       ...         \n",
       "std               1.118715               0.70808       ...         \n",
       "min               1.000000               1.00000       ...         \n",
       "25%               2.000000               2.00000       ...         \n",
       "50%               3.000000               3.00000       ...         \n",
       "75%               4.000000               3.00000       ...         \n",
       "max               4.000000               4.00000       ...         \n",
       "\n",
       "       Duration in Current address  Most valuable available asset  \\\n",
       "count                  1000.000000                    1000.000000   \n",
       "mean                      2.845000                       2.358000   \n",
       "std                       1.103718                       1.050209   \n",
       "min                       1.000000                       1.000000   \n",
       "25%                       2.000000                       1.000000   \n",
       "50%                       3.000000                       2.000000   \n",
       "75%                       4.000000                       3.000000   \n",
       "max                       4.000000                       4.000000   \n",
       "\n",
       "       Age (years)  Concurrent Credits  Type of apartment  \\\n",
       "count   1000.00000         1000.000000        1000.000000   \n",
       "mean      35.54200            2.675000           1.928000   \n",
       "std       11.35267            0.705601           0.530186   \n",
       "min       19.00000            1.000000           1.000000   \n",
       "25%       27.00000            3.000000           2.000000   \n",
       "50%       33.00000            3.000000           2.000000   \n",
       "75%       42.00000            3.000000           2.000000   \n",
       "max       75.00000            3.000000           3.000000   \n",
       "\n",
       "       No of Credits at this Bank   Occupation  No of dependents    Telephone  \\\n",
       "count                 1000.000000  1000.000000       1000.000000  1000.000000   \n",
       "mean                     1.407000     2.904000          1.155000     1.404000   \n",
       "std                      0.577654     0.653614          0.362086     0.490943   \n",
       "min                      1.000000     1.000000          1.000000     1.000000   \n",
       "25%                      1.000000     3.000000          1.000000     1.000000   \n",
       "50%                      1.000000     3.000000          1.000000     1.000000   \n",
       "75%                      2.000000     3.000000          1.000000     2.000000   \n",
       "max                      4.000000     4.000000          2.000000     2.000000   \n",
       "\n",
       "       Foreign Worker  \n",
       "count     1000.000000  \n",
       "mean         1.037000  \n",
       "std          0.188856  \n",
       "min          1.000000  \n",
       "25%          1.000000  \n",
       "50%          1.000000  \n",
       "75%          1.000000  \n",
       "max          2.000000  \n",
       "\n",
       "[8 rows x 21 columns]"
      ]
     },
     "execution_count": 14,
     "metadata": {},
     "output_type": "execute_result"
    },
    {
     "data": {
      "text/plain": [
       "count    1000.000000\n",
       "mean        1.145000\n",
       "std         0.477706\n",
       "min         1.000000\n",
       "25%         1.000000\n",
       "50%         1.000000\n",
       "75%         1.000000\n",
       "max         3.000000\n",
       "Name: Guarantors, dtype: float64"
      ]
     },
     "execution_count": 14,
     "metadata": {},
     "output_type": "execute_result"
    }
   ],
   "source": [
    "# This shows all the mean, std, min, and max of each column\n",
    "credit_card_data.describe() # this is missing the column details for Guarantors\n",
    "credit_card_data['Guarantors'].describe()"
   ]
  },
  {
   "cell_type": "markdown",
   "metadata": {},
   "source": [
    "## From the cell above\n",
    "The dependent variable that we will be solving for is Creditability\n",
    "As we can see in the cell above Creditability has a mean of 70%\n",
    "Since Creditability is only 0 and 1 where 1 means good credit and 0 means bad credit it is qualitative.\n",
    "70% of the people from the dataset have good credit.\n",
    "We will need to randomize the data when choosing test and validation set since the data set is in order (all good credits first in the list)"
   ]
  },
  {
   "cell_type": "code",
   "execution_count": null,
   "metadata": {},
   "outputs": [],
   "source": []
  },
  {
   "cell_type": "markdown",
   "metadata": {},
   "source": [
    "# Looking at each individual column\n",
    "## Account Balance"
   ]
  },
  {
   "cell_type": "code",
   "execution_count": 15,
   "metadata": {},
   "outputs": [
    {
     "data": {
      "text/plain": [
       "{'boxes': [<matplotlib.lines.Line2D at 0x1a15543208>],\n",
       " 'caps': [<matplotlib.lines.Line2D at 0x1a15543c18>,\n",
       "  <matplotlib.lines.Line2D at 0x1a1554c080>],\n",
       " 'fliers': [<matplotlib.lines.Line2D at 0x1a1554c8d0>],\n",
       " 'means': [],\n",
       " 'medians': [<matplotlib.lines.Line2D at 0x1a1554c4a8>],\n",
       " 'whiskers': [<matplotlib.lines.Line2D at 0x1a15543358>,\n",
       "  <matplotlib.lines.Line2D at 0x1a155437f0>]}"
      ]
     },
     "execution_count": 15,
     "metadata": {},
     "output_type": "execute_result"
    },
    {
     "data": {
      "image/png": "[encoded data removed]",
      "text/plain": [
       "<matplotlib.figure.Figure at 0x1a14e0ac88>"
      ]
     },
     "metadata": {},
     "output_type": "display_data"
    }
   ],
   "source": [
    "matplotlib.pyplot.boxplot(credit_card_data['Account Balance'], notch=True)\n",
    "# Looking this plot it shows that the median is 2 and that there are no outliers."
   ]
  },
  {
   "cell_type": "code",
   "execution_count": 16,
   "metadata": {},
   "outputs": [
    {
     "name": "stdout",
     "output_type": "stream",
     "text": [
      "2.0\n"
     ]
    },
    {
     "data": {
      "text/plain": [
       "394"
      ]
     },
     "execution_count": 16,
     "metadata": {},
     "output_type": "execute_result"
    },
    {
     "data": {
      "text/html": [
       "<div>\n",
       "<style scoped>\n",
       "    .dataframe tbody tr th:only-of-type {\n",
       "        vertical-align: middle;\n",
       "    }\n",
       "\n",
       "    .dataframe tbody tr th {\n",
       "        vertical-align: top;\n",
       "    }\n",
       "\n",
       "    .dataframe thead th {\n",
       "        text-align: right;\n",
       "    }\n",
       "</style>\n",
       "<table border=\"1\" class=\"dataframe\">\n",
       "  <thead>\n",
       "    <tr style=\"text-align: right;\">\n",
       "      <th></th>\n",
       "      <th>Account Balance</th>\n",
       "    </tr>\n",
       "    <tr>\n",
       "      <th>Account Balance</th>\n",
       "      <th></th>\n",
       "    </tr>\n",
       "  </thead>\n",
       "  <tbody>\n",
       "    <tr>\n",
       "      <th>1</th>\n",
       "      <td>274</td>\n",
       "    </tr>\n",
       "    <tr>\n",
       "      <th>2</th>\n",
       "      <td>269</td>\n",
       "    </tr>\n",
       "    <tr>\n",
       "      <th>3</th>\n",
       "      <td>63</td>\n",
       "    </tr>\n",
       "    <tr>\n",
       "      <th>4</th>\n",
       "      <td>394</td>\n",
       "    </tr>\n",
       "  </tbody>\n",
       "</table>\n",
       "</div>"
      ],
      "text/plain": [
       "                 Account Balance\n",
       "Account Balance                 \n",
       "1                            274\n",
       "2                            269\n",
       "3                             63\n",
       "4                            394"
      ]
     },
     "execution_count": 16,
     "metadata": {},
     "output_type": "execute_result"
    }
   ],
   "source": [
    "# Account balance  mean is 2.577\n",
    "print(credit_card_data['Account Balance'].median())\n",
    "# 2 is the most common so the account balance for most of the people in the dataset is between 0 (inclusive) and 200 (exclusive)\n",
    "\n",
    "credit_card_data.groupby(['Account Balance'])[['Account Balance']].count()\n",
    "# This means that 394 people do not have a checking account\n"
   ]
  },
  {
   "cell_type": "code",
   "execution_count": 17,
   "metadata": {},
   "outputs": [
    {
     "data": {
      "text/html": [
       "<div>\n",
       "<style scoped>\n",
       "    .dataframe tbody tr th:only-of-type {\n",
       "        vertical-align: middle;\n",
       "    }\n",
       "\n",
       "    .dataframe tbody tr th {\n",
       "        vertical-align: top;\n",
       "    }\n",
       "\n",
       "    .dataframe thead th {\n",
       "        text-align: right;\n",
       "    }\n",
       "</style>\n",
       "<table border=\"1\" class=\"dataframe\">\n",
       "  <thead>\n",
       "    <tr style=\"text-align: right;\">\n",
       "      <th></th>\n",
       "      <th>Creditability</th>\n",
       "    </tr>\n",
       "    <tr>\n",
       "      <th>Account Balance</th>\n",
       "      <th></th>\n",
       "    </tr>\n",
       "  </thead>\n",
       "  <tbody>\n",
       "    <tr>\n",
       "      <th>1</th>\n",
       "      <td>0.507299</td>\n",
       "    </tr>\n",
       "    <tr>\n",
       "      <th>2</th>\n",
       "      <td>0.609665</td>\n",
       "    </tr>\n",
       "    <tr>\n",
       "      <th>3</th>\n",
       "      <td>0.777778</td>\n",
       "    </tr>\n",
       "    <tr>\n",
       "      <th>4</th>\n",
       "      <td>0.883249</td>\n",
       "    </tr>\n",
       "  </tbody>\n",
       "</table>\n",
       "</div>"
      ],
      "text/plain": [
       "                 Creditability\n",
       "Account Balance               \n",
       "1                     0.507299\n",
       "2                     0.609665\n",
       "3                     0.777778\n",
       "4                     0.883249"
      ]
     },
     "execution_count": 17,
     "metadata": {},
     "output_type": "execute_result"
    },
    {
     "data": {
      "text/plain": [
       "<matplotlib.axes._subplots.AxesSubplot at 0x1a15b075f8>"
      ]
     },
     "execution_count": 17,
     "metadata": {},
     "output_type": "execute_result"
    },
    {
     "data": {
      "text/plain": [
       "Text(0,0.5,'rate')"
      ]
     },
     "execution_count": 17,
     "metadata": {},
     "output_type": "execute_result"
    },
    {
     "data": {
      "text/plain": [
       "Text(0.5,1,'Account Balance and Creditability')"
      ]
     },
     "execution_count": 17,
     "metadata": {},
     "output_type": "execute_result"
    },
    {
     "data": {
      "image/png": "[encoded data removed]",
      "text/plain": [
       "<matplotlib.figure.Figure at 0x1a15563128>"
      ]
     },
     "metadata": {},
     "output_type": "display_data"
    }
   ],
   "source": [
    "acct_plot = credit_card_data.pivot_table(index='Account Balance', values='Creditability')\n",
    "acct_grp = credit_card_data.groupby(['Account Balance'])[['Creditability']]\n",
    "acct_grp.mean()\n",
    "acct_plot.plot.bar()\n",
    "plt.ylabel('rate')\n",
    "plt.title('Account Balance and Creditability')\n",
    "plt.show()\n",
    "\n",
    "# This shows that people with not checking account have the highest creditability rate"
   ]
  },
  {
   "cell_type": "markdown",
   "metadata": {},
   "source": [
    "## Duration of Credit"
   ]
  },
  {
   "cell_type": "code",
   "execution_count": 26,
   "metadata": {},
   "outputs": [
    {
     "data": {
      "text/plain": [
       "{'boxes': [<matplotlib.lines.Line2D at 0x1a15460358>],\n",
       " 'caps': [<matplotlib.lines.Line2D at 0x1a15460d68>,\n",
       "  <matplotlib.lines.Line2D at 0x1a154711d0>],\n",
       " 'fliers': [<matplotlib.lines.Line2D at 0x1a15471a20>],\n",
       " 'means': [],\n",
       " 'medians': [<matplotlib.lines.Line2D at 0x1a154715f8>],\n",
       " 'whiskers': [<matplotlib.lines.Line2D at 0x1a154604a8>,\n",
       "  <matplotlib.lines.Line2D at 0x1a15460940>]}"
      ]
     },
     "execution_count": 26,
     "metadata": {},
     "output_type": "execute_result"
    },
    {
     "data": {
      "image/png": "[encoded data removed]",
      "text/plain": [
       "<matplotlib.figure.Figure at 0x1a152b3c88>"
      ]
     },
     "metadata": {},
     "output_type": "display_data"
    }
   ],
   "source": [
    "# Scatter plot to see if there are any outliers\n",
    "matplotlib.pyplot.boxplot(credit_card_data['Duration of Credit (month)'], notch=True)\n",
    "\n",
    "#This shows that this column contains outliers duration is more than 45 months."
   ]
  },
  {
   "cell_type": "code",
   "execution_count": 27,
   "metadata": {},
   "outputs": [
    {
     "data": {
      "text/plain": [
       "18.0"
      ]
     },
     "execution_count": 27,
     "metadata": {},
     "output_type": "execute_result"
    }
   ],
   "source": [
    "credit_card_data['Duration of Credit (month)'].median()\n",
    "# a year and a half is the most common lenght of credit and mean is 20\n"
   ]
  },
  {
   "cell_type": "code",
   "execution_count": 28,
   "metadata": {},
   "outputs": [
    {
     "data": {
      "text/plain": [
       "<matplotlib.axes._subplots.AxesSubplot at 0x1a158437f0>"
      ]
     },
     "execution_count": 28,
     "metadata": {},
     "output_type": "execute_result"
    },
    {
     "data": {
      "text/plain": [
       "Text(0,0.5,'rate')"
      ]
     },
     "execution_count": 28,
     "metadata": {},
     "output_type": "execute_result"
    },
    {
     "data": {
      "text/plain": [
       "Text(0.5,1,'Duration and Creditability')"
      ]
     },
     "execution_count": 28,
     "metadata": {},
     "output_type": "execute_result"
    },
    {
     "data": {
      "image/png": "[encoded data removed]",
      "text/plain": [
       "<matplotlib.figure.Figure at 0x1a15570dd8>"
      ]
     },
     "metadata": {},
     "output_type": "display_data"
    },
    {
     "data": {
      "text/plain": [
       "Creditability    0.708859\n",
       "dtype: float64"
      ]
     },
     "execution_count": 28,
     "metadata": {},
     "output_type": "execute_result"
    },
    {
     "name": "stdout",
     "output_type": "stream",
     "text": [
      "\n",
      "                             Creditability\n",
      "Duration of Credit (month)               \n",
      "4                                1.000000\n",
      "5                                1.000000\n",
      "6                                0.880000\n",
      "7                                1.000000\n",
      "8                                0.857143\n",
      "9                                0.714286\n",
      "10                               0.892857\n",
      "11                               1.000000\n",
      "12                               0.726257\n",
      "13                               1.000000\n",
      "14                               0.750000\n",
      "15                               0.812500\n",
      "16                               0.500000\n",
      "18                               0.628319\n",
      "20                               0.875000\n",
      "21                               0.700000\n",
      "22                               1.000000\n",
      "24                               0.695652\n",
      "26                               1.000000\n",
      "27                               0.615385\n",
      "28                               0.666667\n",
      "30                               0.675000\n",
      "33                               0.666667\n",
      "36                               0.554217\n",
      "39                               0.800000\n",
      "40                               0.000000\n",
      "42                               0.727273\n",
      "45                               0.200000\n",
      "47                               1.000000\n",
      "48                               0.416667\n",
      "54                               0.500000\n",
      "60                               0.538462\n",
      "72                               0.000000\n"
     ]
    }
   ],
   "source": [
    "duration_plot = credit_card_data.pivot_table(index='Duration of Credit (month)', values='Creditability')\n",
    "duration_plot.plot.bar()\n",
    "plt.ylabel('rate')\n",
    "plt.title('Duration and Creditability')\n",
    "plt.show()\n",
    "duration_plot.mean()\n",
    "duration_grp = credit_card_data.groupby(['Duration of Credit (month)'])[['Creditability']]\n",
    "print(\"\\n\",duration_grp.mean())"
   ]
  },
  {
   "cell_type": "code",
   "execution_count": 23,
   "metadata": {},
   "outputs": [
    {
     "data": {
      "text/html": [
       "<div>\n",
       "<style scoped>\n",
       "    .dataframe tbody tr th:only-of-type {\n",
       "        vertical-align: middle;\n",
       "    }\n",
       "\n",
       "    .dataframe tbody tr th {\n",
       "        vertical-align: top;\n",
       "    }\n",
       "\n",
       "    .dataframe thead th {\n",
       "        text-align: right;\n",
       "    }\n",
       "</style>\n",
       "<table border=\"1\" class=\"dataframe\">\n",
       "  <thead>\n",
       "    <tr style=\"text-align: right;\">\n",
       "      <th></th>\n",
       "      <th>Creditability</th>\n",
       "      <th>Account Balance</th>\n",
       "      <th>Duration of Credit (month)</th>\n",
       "      <th>Payment Status of Previous Credit</th>\n",
       "      <th>Purpose</th>\n",
       "      <th>Credit Amount</th>\n",
       "      <th>Value Savings/Stocks</th>\n",
       "      <th>Length of current employment</th>\n",
       "      <th>Instalment per cent</th>\n",
       "      <th>Sex &amp; Marital Status</th>\n",
       "      <th>...</th>\n",
       "      <th>Most valuable available asset</th>\n",
       "      <th>Age (years)</th>\n",
       "      <th>Concurrent Credits</th>\n",
       "      <th>Type of apartment</th>\n",
       "      <th>No of Credits at this Bank</th>\n",
       "      <th>Occupation</th>\n",
       "      <th>No of dependents</th>\n",
       "      <th>Telephone</th>\n",
       "      <th>Foreign Worker</th>\n",
       "      <th>Credit Duration</th>\n",
       "    </tr>\n",
       "  </thead>\n",
       "  <tbody>\n",
       "    <tr>\n",
       "      <th>0</th>\n",
       "      <td>1</td>\n",
       "      <td>1</td>\n",
       "      <td>18</td>\n",
       "      <td>4</td>\n",
       "      <td>2</td>\n",
       "      <td>1049</td>\n",
       "      <td>1</td>\n",
       "      <td>2</td>\n",
       "      <td>4</td>\n",
       "      <td>2</td>\n",
       "      <td>...</td>\n",
       "      <td>2</td>\n",
       "      <td>21</td>\n",
       "      <td>3</td>\n",
       "      <td>1</td>\n",
       "      <td>1</td>\n",
       "      <td>3</td>\n",
       "      <td>1</td>\n",
       "      <td>1</td>\n",
       "      <td>1</td>\n",
       "      <td>2</td>\n",
       "    </tr>\n",
       "    <tr>\n",
       "      <th>1</th>\n",
       "      <td>1</td>\n",
       "      <td>1</td>\n",
       "      <td>9</td>\n",
       "      <td>4</td>\n",
       "      <td>0</td>\n",
       "      <td>2799</td>\n",
       "      <td>1</td>\n",
       "      <td>3</td>\n",
       "      <td>2</td>\n",
       "      <td>3</td>\n",
       "      <td>...</td>\n",
       "      <td>1</td>\n",
       "      <td>36</td>\n",
       "      <td>3</td>\n",
       "      <td>1</td>\n",
       "      <td>2</td>\n",
       "      <td>3</td>\n",
       "      <td>2</td>\n",
       "      <td>1</td>\n",
       "      <td>1</td>\n",
       "      <td>1</td>\n",
       "    </tr>\n",
       "    <tr>\n",
       "      <th>2</th>\n",
       "      <td>1</td>\n",
       "      <td>2</td>\n",
       "      <td>12</td>\n",
       "      <td>2</td>\n",
       "      <td>9</td>\n",
       "      <td>841</td>\n",
       "      <td>2</td>\n",
       "      <td>4</td>\n",
       "      <td>2</td>\n",
       "      <td>2</td>\n",
       "      <td>...</td>\n",
       "      <td>1</td>\n",
       "      <td>23</td>\n",
       "      <td>3</td>\n",
       "      <td>1</td>\n",
       "      <td>1</td>\n",
       "      <td>2</td>\n",
       "      <td>1</td>\n",
       "      <td>1</td>\n",
       "      <td>1</td>\n",
       "      <td>1</td>\n",
       "    </tr>\n",
       "    <tr>\n",
       "      <th>3</th>\n",
       "      <td>1</td>\n",
       "      <td>1</td>\n",
       "      <td>12</td>\n",
       "      <td>4</td>\n",
       "      <td>0</td>\n",
       "      <td>2122</td>\n",
       "      <td>1</td>\n",
       "      <td>3</td>\n",
       "      <td>3</td>\n",
       "      <td>3</td>\n",
       "      <td>...</td>\n",
       "      <td>1</td>\n",
       "      <td>39</td>\n",
       "      <td>3</td>\n",
       "      <td>1</td>\n",
       "      <td>2</td>\n",
       "      <td>2</td>\n",
       "      <td>2</td>\n",
       "      <td>1</td>\n",
       "      <td>2</td>\n",
       "      <td>1</td>\n",
       "    </tr>\n",
       "    <tr>\n",
       "      <th>4</th>\n",
       "      <td>1</td>\n",
       "      <td>1</td>\n",
       "      <td>12</td>\n",
       "      <td>4</td>\n",
       "      <td>0</td>\n",
       "      <td>2171</td>\n",
       "      <td>1</td>\n",
       "      <td>3</td>\n",
       "      <td>4</td>\n",
       "      <td>3</td>\n",
       "      <td>...</td>\n",
       "      <td>2</td>\n",
       "      <td>38</td>\n",
       "      <td>1</td>\n",
       "      <td>2</td>\n",
       "      <td>2</td>\n",
       "      <td>2</td>\n",
       "      <td>1</td>\n",
       "      <td>1</td>\n",
       "      <td>2</td>\n",
       "      <td>1</td>\n",
       "    </tr>\n",
       "  </tbody>\n",
       "</table>\n",
       "<p>5 rows × 22 columns</p>\n",
       "</div>"
      ],
      "text/plain": [
       "   Creditability  Account Balance  Duration of Credit (month)  \\\n",
       "0              1                1                          18   \n",
       "1              1                1                           9   \n",
       "2              1                2                          12   \n",
       "3              1                1                          12   \n",
       "4              1                1                          12   \n",
       "\n",
       "   Payment Status of Previous Credit  Purpose  Credit Amount  \\\n",
       "0                                  4        2           1049   \n",
       "1                                  4        0           2799   \n",
       "2                                  2        9            841   \n",
       "3                                  4        0           2122   \n",
       "4                                  4        0           2171   \n",
       "\n",
       "   Value Savings/Stocks  Length of current employment  Instalment per cent  \\\n",
       "0                     1                             2                    4   \n",
       "1                     1                             3                    2   \n",
       "2                     2                             4                    2   \n",
       "3                     1                             3                    3   \n",
       "4                     1                             3                    4   \n",
       "\n",
       "   Sex & Marital Status       ...         Most valuable available asset  \\\n",
       "0                     2       ...                                     2   \n",
       "1                     3       ...                                     1   \n",
       "2                     2       ...                                     1   \n",
       "3                     3       ...                                     1   \n",
       "4                     3       ...                                     2   \n",
       "\n",
       "   Age (years)  Concurrent Credits  Type of apartment  \\\n",
       "0           21                   3                  1   \n",
       "1           36                   3                  1   \n",
       "2           23                   3                  1   \n",
       "3           39                   3                  1   \n",
       "4           38                   1                  2   \n",
       "\n",
       "   No of Credits at this Bank  Occupation  No of dependents  Telephone  \\\n",
       "0                           1           3                 1          1   \n",
       "1                           2           3                 2          1   \n",
       "2                           1           2                 1          1   \n",
       "3                           2           2                 2          1   \n",
       "4                           2           2                 1          1   \n",
       "\n",
       "   Foreign Worker  Credit Duration  \n",
       "0               1                2  \n",
       "1               1                1  \n",
       "2               1                1  \n",
       "3               2                1  \n",
       "4               2                1  \n",
       "\n",
       "[5 rows x 22 columns]"
      ]
     },
     "execution_count": 23,
     "metadata": {},
     "output_type": "execute_result"
    }
   ],
   "source": [
    "# bin the durations into groups to interpret the creditability between durations groups, if there is one\n",
    "bins = [0,15,30,45,75]\n",
    "binned_grp = pd.cut(credit_card_data['Duration of Credit (month)'], bins, labels=[1,2,3,4])\n",
    "binned_accepted = pd.cut(credit_card_data[credit_card_data['Creditability']==1]['Duration of Credit (month)'], bins)\n",
    "credit_card_data['Credit Duration'] = binned_grp\n",
    "# print('binned accepted\\n',binned_accepted)\n",
    "credit_card_data.head()"
   ]
  },
  {
   "cell_type": "code",
   "execution_count": 24,
   "metadata": {},
   "outputs": [
    {
     "data": {
      "text/plain": [
       "<matplotlib.axes._subplots.AxesSubplot at 0x10b187a58>"
      ]
     },
     "execution_count": 24,
     "metadata": {},
     "output_type": "execute_result"
    },
    {
     "data": {
      "text/plain": [
       "Text(0,0.5,'rate')"
      ]
     },
     "execution_count": 24,
     "metadata": {},
     "output_type": "execute_result"
    },
    {
     "data": {
      "text/plain": [
       "Text(0.5,1,'Creditability based on Duration')"
      ]
     },
     "execution_count": 24,
     "metadata": {},
     "output_type": "execute_result"
    },
    {
     "data": {
      "image/png": "[encoded data removed]",
      "text/plain": [
       "<matplotlib.figure.Figure at 0x1a1492ba58>"
      ]
     },
     "metadata": {},
     "output_type": "display_data"
    },
    {
     "data": {
      "text/plain": [
       "Creditability    0.62031\n",
       "dtype: float64"
      ]
     },
     "execution_count": 24,
     "metadata": {},
     "output_type": "execute_result"
    }
   ],
   "source": [
    "duration_plot = credit_card_data.pivot_table(index='Credit Duration', values=\"Creditability\")\n",
    "duration_plot.plot.bar()\n",
    "plt.ylabel('rate')\n",
    "plt.title('Creditability based on Duration')\n",
    "plt.show()\n",
    "\n",
    "\n",
    "duration_plot.mean()\n"
   ]
  },
  {
   "cell_type": "code",
   "execution_count": 31,
   "metadata": {},
   "outputs": [
    {
     "name": "stdout",
     "output_type": "stream",
     "text": [
      "Number of customers in the credit duration\n"
     ]
    },
    {
     "data": {
      "text/html": [
       "<div>\n",
       "<style scoped>\n",
       "    .dataframe tbody tr th:only-of-type {\n",
       "        vertical-align: middle;\n",
       "    }\n",
       "\n",
       "    .dataframe tbody tr th {\n",
       "        vertical-align: top;\n",
       "    }\n",
       "\n",
       "    .dataframe thead th {\n",
       "        text-align: right;\n",
       "    }\n",
       "</style>\n",
       "<table border=\"1\" class=\"dataframe\">\n",
       "  <thead>\n",
       "    <tr style=\"text-align: right;\">\n",
       "      <th></th>\n",
       "      <th>Credit Duration</th>\n",
       "    </tr>\n",
       "    <tr>\n",
       "      <th>Credit Duration</th>\n",
       "      <th></th>\n",
       "    </tr>\n",
       "  </thead>\n",
       "  <tbody>\n",
       "    <tr>\n",
       "      <th>1</th>\n",
       "      <td>431</td>\n",
       "    </tr>\n",
       "    <tr>\n",
       "      <th>2</th>\n",
       "      <td>396</td>\n",
       "    </tr>\n",
       "    <tr>\n",
       "      <th>3</th>\n",
       "      <td>108</td>\n",
       "    </tr>\n",
       "    <tr>\n",
       "      <th>4</th>\n",
       "      <td>65</td>\n",
       "    </tr>\n",
       "  </tbody>\n",
       "</table>\n",
       "</div>"
      ],
      "text/plain": [
       "                 Credit Duration\n",
       "Credit Duration                 \n",
       "1                            431\n",
       "2                            396\n",
       "3                            108\n",
       "4                             65"
      ]
     },
     "execution_count": 31,
     "metadata": {},
     "output_type": "execute_result"
    },
    {
     "name": "stdout",
     "output_type": "stream",
     "text": [
      "\n",
      "The creditability rate:\n"
     ]
    },
    {
     "data": {
      "text/html": [
       "<div>\n",
       "<style scoped>\n",
       "    .dataframe tbody tr th:only-of-type {\n",
       "        vertical-align: middle;\n",
       "    }\n",
       "\n",
       "    .dataframe tbody tr th {\n",
       "        vertical-align: top;\n",
       "    }\n",
       "\n",
       "    .dataframe thead th {\n",
       "        text-align: right;\n",
       "    }\n",
       "</style>\n",
       "<table border=\"1\" class=\"dataframe\">\n",
       "  <thead>\n",
       "    <tr style=\"text-align: right;\">\n",
       "      <th></th>\n",
       "      <th>Creditability</th>\n",
       "    </tr>\n",
       "    <tr>\n",
       "      <th>Credit Duration</th>\n",
       "      <th></th>\n",
       "    </tr>\n",
       "  </thead>\n",
       "  <tbody>\n",
       "    <tr>\n",
       "      <th>1</th>\n",
       "      <td>0.793503</td>\n",
       "    </tr>\n",
       "    <tr>\n",
       "      <th>2</th>\n",
       "      <td>0.676768</td>\n",
       "    </tr>\n",
       "    <tr>\n",
       "      <th>3</th>\n",
       "      <td>0.564815</td>\n",
       "    </tr>\n",
       "    <tr>\n",
       "      <th>4</th>\n",
       "      <td>0.446154</td>\n",
       "    </tr>\n",
       "  </tbody>\n",
       "</table>\n",
       "</div>"
      ],
      "text/plain": [
       "                 Creditability\n",
       "Credit Duration               \n",
       "1                     0.793503\n",
       "2                     0.676768\n",
       "3                     0.564815\n",
       "4                     0.446154"
      ]
     },
     "execution_count": 31,
     "metadata": {},
     "output_type": "execute_result"
    }
   ],
   "source": [
    "print(\"Number of customers in the credit duration\")\n",
    "credit_card_data.groupby(['Credit Duration'])[['Credit Duration']].count()\n",
    "\n",
    "print(\"\\nThe creditability rate:\")\n",
    "accept_grp = credit_card_data.groupby(['Credit Duration'])[['Creditability']]\n",
    "accept_grp.mean()\n",
    "\n",
    "# this shows that cutomers with in the first group with duration from 0 to 15\n",
    "# has the largest number of customers in its group and it has the highest creditability rating "
   ]
  },
  {
   "cell_type": "markdown",
   "metadata": {},
   "source": [
    "## Payment Status of Previous Credit"
   ]
  },
  {
   "cell_type": "code",
   "execution_count": 36,
   "metadata": {},
   "outputs": [
    {
     "data": {
      "text/plain": [
       "<matplotlib.axes._subplots.AxesSubplot at 0x1a15cdf320>"
      ]
     },
     "execution_count": 36,
     "metadata": {},
     "output_type": "execute_result"
    },
    {
     "data": {
      "text/plain": [
       "Text(0,0.5,'rate')"
      ]
     },
     "execution_count": 36,
     "metadata": {},
     "output_type": "execute_result"
    },
    {
     "data": {
      "text/plain": [
       "Text(0.5,1,'Payment and Creditability')"
      ]
     },
     "execution_count": 36,
     "metadata": {},
     "output_type": "execute_result"
    },
    {
     "data": {
      "image/png": "[encoded data removed]",
      "text/plain": [
       "<matplotlib.figure.Figure at 0x1a15cf2668>"
      ]
     },
     "metadata": {},
     "output_type": "display_data"
    },
    {
     "name": "stdout",
     "output_type": "stream",
     "text": [
      "\n",
      "mean Creditability    0.599175\n",
      "dtype: float64\n",
      "median 2.0\n",
      "The number of cutomers in each payment status\n"
     ]
    },
    {
     "data": {
      "text/html": [
       "<div>\n",
       "<style scoped>\n",
       "    .dataframe tbody tr th:only-of-type {\n",
       "        vertical-align: middle;\n",
       "    }\n",
       "\n",
       "    .dataframe tbody tr th {\n",
       "        vertical-align: top;\n",
       "    }\n",
       "\n",
       "    .dataframe thead th {\n",
       "        text-align: right;\n",
       "    }\n",
       "</style>\n",
       "<table border=\"1\" class=\"dataframe\">\n",
       "  <thead>\n",
       "    <tr style=\"text-align: right;\">\n",
       "      <th></th>\n",
       "      <th>Payment Status of Previous Credit</th>\n",
       "    </tr>\n",
       "    <tr>\n",
       "      <th>Payment Status of Previous Credit</th>\n",
       "      <th></th>\n",
       "    </tr>\n",
       "  </thead>\n",
       "  <tbody>\n",
       "    <tr>\n",
       "      <th>0</th>\n",
       "      <td>40</td>\n",
       "    </tr>\n",
       "    <tr>\n",
       "      <th>1</th>\n",
       "      <td>49</td>\n",
       "    </tr>\n",
       "    <tr>\n",
       "      <th>2</th>\n",
       "      <td>530</td>\n",
       "    </tr>\n",
       "    <tr>\n",
       "      <th>3</th>\n",
       "      <td>88</td>\n",
       "    </tr>\n",
       "    <tr>\n",
       "      <th>4</th>\n",
       "      <td>293</td>\n",
       "    </tr>\n",
       "  </tbody>\n",
       "</table>\n",
       "</div>"
      ],
      "text/plain": [
       "                                   Payment Status of Previous Credit\n",
       "Payment Status of Previous Credit                                   \n",
       "0                                                                 40\n",
       "1                                                                 49\n",
       "2                                                                530\n",
       "3                                                                 88\n",
       "4                                                                293"
      ]
     },
     "execution_count": 36,
     "metadata": {},
     "output_type": "execute_result"
    },
    {
     "name": "stdout",
     "output_type": "stream",
     "text": [
      "\n",
      "                                    Creditability\n",
      "Payment Status of Previous Credit               \n",
      "0                                       0.375000\n",
      "1                                       0.428571\n",
      "2                                       0.681132\n",
      "3                                       0.681818\n",
      "4                                       0.829352\n"
     ]
    }
   ],
   "source": [
    "payment_plot = credit_card_data.pivot_table(index='Payment Status of Previous Credit', values='Creditability')\n",
    "payment_plot.plot.bar()\n",
    "plt.ylabel('rate')\n",
    "plt.title('Payment and Creditability')\n",
    "plt.show()\n",
    "print()\n",
    "print('mean',payment_plot.mean())\n",
    "print('median',credit_card_data['Payment Status of Previous Credit'].median())\n",
    "\n",
    "print(\"The number of cutomers in each payment status\")\n",
    "credit_card_data.groupby(['Payment Status of Previous Credit'])[['Payment Status of Previous Credit']].count()\n",
    "\n",
    "\n",
    "payment_grp = credit_card_data.groupby(['Payment Status of Previous Credit'])[['Creditability']]\n",
    "print(\"\\n\",payment_grp.mean())"
   ]
  },
  {
   "cell_type": "code",
   "execution_count": 18,
   "metadata": {},
   "outputs": [
    {
     "data": {
      "text/plain": [
       "{'boxes': [<matplotlib.lines.Line2D at 0x151dc0dac8>],\n",
       " 'caps': [<matplotlib.lines.Line2D at 0x151dc17518>,\n",
       "  <matplotlib.lines.Line2D at 0x151dc17940>],\n",
       " 'fliers': [<matplotlib.lines.Line2D at 0x151db661d0>],\n",
       " 'means': [],\n",
       " 'medians': [<matplotlib.lines.Line2D at 0x151dc17d68>],\n",
       " 'whiskers': [<matplotlib.lines.Line2D at 0x151dc0dc18>,\n",
       "  <matplotlib.lines.Line2D at 0x151dc170f0>]}"
      ]
     },
     "execution_count": 18,
     "metadata": {},
     "output_type": "execute_result"
    },
    {
     "data": {
      "image/png": "[encoded data removed]",
      "text/plain": [
       "<matplotlib.figure.Figure at 0x151d6a52b0>"
      ]
     },
     "metadata": {},
     "output_type": "display_data"
    }
   ],
   "source": [
    "matplotlib.pyplot.boxplot(credit_card_data['Payment Status of Previous Credit'], notch=True)"
   ]
  },
  {
   "cell_type": "code",
   "execution_count": 37,
   "metadata": {},
   "outputs": [],
   "source": [
    "# this shows that customers that have a critical account have the highest creditability rating\n",
    "# and that this column does not contain any outliers"
   ]
  },
  {
   "cell_type": "markdown",
   "metadata": {},
   "source": [
    "## Purpose"
   ]
  },
  {
   "cell_type": "code",
   "execution_count": 38,
   "metadata": {},
   "outputs": [
    {
     "data": {
      "text/plain": [
       "<matplotlib.axes._subplots.AxesSubplot at 0x1a159e1278>"
      ]
     },
     "execution_count": 38,
     "metadata": {},
     "output_type": "execute_result"
    },
    {
     "data": {
      "text/plain": [
       "Text(0,0.5,'rate')"
      ]
     },
     "execution_count": 38,
     "metadata": {},
     "output_type": "execute_result"
    },
    {
     "data": {
      "text/plain": [
       "Text(0.5,1,'Purpose and Creditability')"
      ]
     },
     "execution_count": 38,
     "metadata": {},
     "output_type": "execute_result"
    },
    {
     "data": {
      "image/png": "[encoded data removed]",
      "text/plain": [
       "<matplotlib.figure.Figure at 0x1051a85f8>"
      ]
     },
     "metadata": {},
     "output_type": "display_data"
    },
    {
     "data": {
      "text/plain": [
       "Creditability    0.689748\n",
       "dtype: float64"
      ]
     },
     "execution_count": 38,
     "metadata": {},
     "output_type": "execute_result"
    },
    {
     "name": "stdout",
     "output_type": "stream",
     "text": [
      "\n",
      "The number of cutomers in each purpose group\n"
     ]
    },
    {
     "data": {
      "text/html": [
       "<div>\n",
       "<style scoped>\n",
       "    .dataframe tbody tr th:only-of-type {\n",
       "        vertical-align: middle;\n",
       "    }\n",
       "\n",
       "    .dataframe tbody tr th {\n",
       "        vertical-align: top;\n",
       "    }\n",
       "\n",
       "    .dataframe thead th {\n",
       "        text-align: right;\n",
       "    }\n",
       "</style>\n",
       "<table border=\"1\" class=\"dataframe\">\n",
       "  <thead>\n",
       "    <tr style=\"text-align: right;\">\n",
       "      <th></th>\n",
       "      <th>Purpose</th>\n",
       "    </tr>\n",
       "    <tr>\n",
       "      <th>Purpose</th>\n",
       "      <th></th>\n",
       "    </tr>\n",
       "  </thead>\n",
       "  <tbody>\n",
       "    <tr>\n",
       "      <th>0</th>\n",
       "      <td>234</td>\n",
       "    </tr>\n",
       "    <tr>\n",
       "      <th>1</th>\n",
       "      <td>103</td>\n",
       "    </tr>\n",
       "    <tr>\n",
       "      <th>2</th>\n",
       "      <td>181</td>\n",
       "    </tr>\n",
       "    <tr>\n",
       "      <th>3</th>\n",
       "      <td>280</td>\n",
       "    </tr>\n",
       "    <tr>\n",
       "      <th>4</th>\n",
       "      <td>12</td>\n",
       "    </tr>\n",
       "    <tr>\n",
       "      <th>5</th>\n",
       "      <td>22</td>\n",
       "    </tr>\n",
       "    <tr>\n",
       "      <th>6</th>\n",
       "      <td>50</td>\n",
       "    </tr>\n",
       "    <tr>\n",
       "      <th>8</th>\n",
       "      <td>9</td>\n",
       "    </tr>\n",
       "    <tr>\n",
       "      <th>9</th>\n",
       "      <td>97</td>\n",
       "    </tr>\n",
       "    <tr>\n",
       "      <th>10</th>\n",
       "      <td>12</td>\n",
       "    </tr>\n",
       "  </tbody>\n",
       "</table>\n",
       "</div>"
      ],
      "text/plain": [
       "         Purpose\n",
       "Purpose         \n",
       "0            234\n",
       "1            103\n",
       "2            181\n",
       "3            280\n",
       "4             12\n",
       "5             22\n",
       "6             50\n",
       "8              9\n",
       "9             97\n",
       "10            12"
      ]
     },
     "execution_count": 38,
     "metadata": {},
     "output_type": "execute_result"
    },
    {
     "name": "stdout",
     "output_type": "stream",
     "text": [
      "\n",
      "\n",
      "          Creditability\n",
      "Purpose               \n",
      "0             0.619658\n",
      "1             0.834951\n",
      "2             0.679558\n",
      "3             0.778571\n",
      "4             0.666667\n",
      "5             0.636364\n",
      "6             0.560000\n",
      "8             0.888889\n",
      "9             0.649485\n",
      "10            0.583333\n"
     ]
    }
   ],
   "source": [
    "purpose_plot = credit_card_data.pivot_table(index='Purpose', values='Creditability')\n",
    "purpose_plot.plot.bar()\n",
    "plt.ylabel('rate')\n",
    "plt.title('Purpose and Creditability')\n",
    "plt.show()\n",
    "\n",
    "purpose_plot.mean()\n",
    "\n",
    "print()\n",
    "print(\"The number of cutomers in each purpose group\")\n",
    "credit_card_data.groupby(['Purpose'])[['Purpose']].count()\n",
    "print()\n",
    "purpose_grp = credit_card_data.groupby(['Purpose'])[['Creditability']]\n",
    "print(\"\\n\",purpose_grp.mean())"
   ]
  },
  {
   "cell_type": "code",
   "execution_count": 20,
   "metadata": {},
   "outputs": [
    {
     "data": {
      "text/plain": [
       "{'boxes': [<matplotlib.lines.Line2D at 0x151ddb54e0>],\n",
       " 'caps': [<matplotlib.lines.Line2D at 0x151ddb5ef0>,\n",
       "  <matplotlib.lines.Line2D at 0x151ddbf358>],\n",
       " 'fliers': [<matplotlib.lines.Line2D at 0x151ddbfba8>],\n",
       " 'means': [],\n",
       " 'medians': [<matplotlib.lines.Line2D at 0x151ddbf780>],\n",
       " 'whiskers': [<matplotlib.lines.Line2D at 0x151ddb5630>,\n",
       "  <matplotlib.lines.Line2D at 0x151ddb5ac8>]}"
      ]
     },
     "execution_count": 20,
     "metadata": {},
     "output_type": "execute_result"
    },
    {
     "data": {
      "image/png": "[encoded data removed]",
      "text/plain": [
       "<matplotlib.figure.Figure at 0x151d7231d0>"
      ]
     },
     "metadata": {},
     "output_type": "display_data"
    }
   ],
   "source": [
    "matplotlib.pyplot.boxplot(credit_card_data['Purpose'], notch=True)"
   ]
  },
  {
   "cell_type": "code",
   "execution_count": 39,
   "metadata": {},
   "outputs": [],
   "source": [
    "# This shows that there are outliers 8,9,10 looking at the creditability rating 8 has the higest rate,\n",
    "# however it is an outlier and doesn't truly represent the Retraining well. \n",
    "# Hence group 1 (Used cars) and 3(Radio/Television) have a better idea for high rating with 83% and 77% respectfully."
   ]
  },
  {
   "cell_type": "markdown",
   "metadata": {},
   "source": [
    "## Credit Amount"
   ]
  },
  {
   "cell_type": "code",
   "execution_count": 40,
   "metadata": {},
   "outputs": [
    {
     "data": {
      "text/plain": [
       "Creditability    0.697003\n",
       "dtype: float64"
      ]
     },
     "execution_count": 40,
     "metadata": {},
     "output_type": "execute_result"
    },
    {
     "name": "stdout",
     "output_type": "stream",
     "text": [
      "\n",
      "                Creditability\n",
      "Credit Amount               \n",
      "250                      1.0\n",
      "276                      1.0\n",
      "338                      1.0\n",
      "339                      1.0\n",
      "343                      1.0\n",
      "362                      1.0\n",
      "368                      1.0\n",
      "385                      1.0\n",
      "392                      1.0\n",
      "409                      1.0\n",
      "426                      1.0\n",
      "428                      1.0\n",
      "433                      0.0\n",
      "448                      0.0\n",
      "454                      1.0\n",
      "458                      1.0\n",
      "484                      1.0\n",
      "518                      1.0\n",
      "522                      1.0\n",
      "571                      1.0\n",
      "585                      1.0\n",
      "590                      1.0\n",
      "601                      1.0\n",
      "609                      0.5\n",
      "618                      1.0\n",
      "625                      1.0\n",
      "626                      0.0\n",
      "629                      1.0\n",
      "639                      0.0\n",
      "640                      1.0\n",
      "...                      ...\n",
      "10974                    0.0\n",
      "11054                    1.0\n",
      "11328                    0.0\n",
      "11560                    0.0\n",
      "11590                    0.0\n",
      "11760                    1.0\n",
      "11816                    0.0\n",
      "11938                    0.0\n",
      "11998                    0.0\n",
      "12169                    1.0\n",
      "12204                    1.0\n",
      "12389                    0.0\n",
      "12579                    0.0\n",
      "12612                    0.0\n",
      "12680                    0.0\n",
      "12749                    1.0\n",
      "12976                    0.0\n",
      "13756                    1.0\n",
      "14027                    0.0\n",
      "14179                    1.0\n",
      "14318                    0.0\n",
      "14421                    0.0\n",
      "14555                    0.0\n",
      "14782                    0.0\n",
      "14896                    0.0\n",
      "15653                    1.0\n",
      "15672                    0.0\n",
      "15857                    1.0\n",
      "15945                    0.0\n",
      "18424                    0.0\n",
      "\n",
      "[923 rows x 1 columns]\n"
     ]
    }
   ],
   "source": [
    "cr_amt_plot = credit_card_data.pivot_table(index='Credit Amount', values='Creditability')\n",
    "\n",
    "cr_amt_plot.mean()\n",
    "cr_amt_grp = credit_card_data.groupby(['Credit Amount'])[['Creditability']]\n",
    "print(\"\\n\",cr_amt_grp.mean())"
   ]
  },
  {
   "cell_type": "code",
   "execution_count": 41,
   "metadata": {},
   "outputs": [
    {
     "data": {
      "text/plain": [
       "{'boxes': [<matplotlib.lines.Line2D at 0x1a153bed30>],\n",
       " 'caps': [<matplotlib.lines.Line2D at 0x1a153d3780>,\n",
       "  <matplotlib.lines.Line2D at 0x1a153d3ba8>],\n",
       " 'fliers': [<matplotlib.lines.Line2D at 0x1a153de438>],\n",
       " 'means': [],\n",
       " 'medians': [<matplotlib.lines.Line2D at 0x1a153d3fd0>],\n",
       " 'whiskers': [<matplotlib.lines.Line2D at 0x1a153bee80>,\n",
       "  <matplotlib.lines.Line2D at 0x1a153d3358>]}"
      ]
     },
     "execution_count": 41,
     "metadata": {},
     "output_type": "execute_result"
    },
    {
     "data": {
      "image/png": "[encoded data removed]",
      "text/plain": [
       "<matplotlib.figure.Figure at 0x1a153024a8>"
      ]
     },
     "metadata": {},
     "output_type": "display_data"
    }
   ],
   "source": [
    "matplotlib.pyplot.boxplot(credit_card_data['Credit Amount'], notch=True)"
   ]
  },
  {
   "cell_type": "code",
   "execution_count": 42,
   "metadata": {},
   "outputs": [
    {
     "data": {
      "text/html": [
       "<div>\n",
       "<style scoped>\n",
       "    .dataframe tbody tr th:only-of-type {\n",
       "        vertical-align: middle;\n",
       "    }\n",
       "\n",
       "    .dataframe tbody tr th {\n",
       "        vertical-align: top;\n",
       "    }\n",
       "\n",
       "    .dataframe thead th {\n",
       "        text-align: right;\n",
       "    }\n",
       "</style>\n",
       "<table border=\"1\" class=\"dataframe\">\n",
       "  <thead>\n",
       "    <tr style=\"text-align: right;\">\n",
       "      <th></th>\n",
       "      <th>Creditability</th>\n",
       "      <th>Account Balance</th>\n",
       "      <th>Duration of Credit (month)</th>\n",
       "      <th>Payment Status of Previous Credit</th>\n",
       "      <th>Purpose</th>\n",
       "      <th>Credit Amount</th>\n",
       "      <th>Value Savings/Stocks</th>\n",
       "      <th>Length of current employment</th>\n",
       "      <th>Instalment per cent</th>\n",
       "      <th>Sex &amp; Marital Status</th>\n",
       "      <th>...</th>\n",
       "      <th>Age (years)</th>\n",
       "      <th>Concurrent Credits</th>\n",
       "      <th>Type of apartment</th>\n",
       "      <th>No of Credits at this Bank</th>\n",
       "      <th>Occupation</th>\n",
       "      <th>No of dependents</th>\n",
       "      <th>Telephone</th>\n",
       "      <th>Foreign Worker</th>\n",
       "      <th>Credit Duration</th>\n",
       "      <th>Credit Amount Grp</th>\n",
       "    </tr>\n",
       "  </thead>\n",
       "  <tbody>\n",
       "    <tr>\n",
       "      <th>0</th>\n",
       "      <td>1</td>\n",
       "      <td>1</td>\n",
       "      <td>18</td>\n",
       "      <td>4</td>\n",
       "      <td>2</td>\n",
       "      <td>1049</td>\n",
       "      <td>1</td>\n",
       "      <td>2</td>\n",
       "      <td>4</td>\n",
       "      <td>2</td>\n",
       "      <td>...</td>\n",
       "      <td>21</td>\n",
       "      <td>3</td>\n",
       "      <td>1</td>\n",
       "      <td>1</td>\n",
       "      <td>3</td>\n",
       "      <td>1</td>\n",
       "      <td>1</td>\n",
       "      <td>1</td>\n",
       "      <td>2</td>\n",
       "      <td>1</td>\n",
       "    </tr>\n",
       "    <tr>\n",
       "      <th>1</th>\n",
       "      <td>1</td>\n",
       "      <td>1</td>\n",
       "      <td>9</td>\n",
       "      <td>4</td>\n",
       "      <td>0</td>\n",
       "      <td>2799</td>\n",
       "      <td>1</td>\n",
       "      <td>3</td>\n",
       "      <td>2</td>\n",
       "      <td>3</td>\n",
       "      <td>...</td>\n",
       "      <td>36</td>\n",
       "      <td>3</td>\n",
       "      <td>1</td>\n",
       "      <td>2</td>\n",
       "      <td>3</td>\n",
       "      <td>2</td>\n",
       "      <td>1</td>\n",
       "      <td>1</td>\n",
       "      <td>1</td>\n",
       "      <td>2</td>\n",
       "    </tr>\n",
       "    <tr>\n",
       "      <th>2</th>\n",
       "      <td>1</td>\n",
       "      <td>2</td>\n",
       "      <td>12</td>\n",
       "      <td>2</td>\n",
       "      <td>9</td>\n",
       "      <td>841</td>\n",
       "      <td>2</td>\n",
       "      <td>4</td>\n",
       "      <td>2</td>\n",
       "      <td>2</td>\n",
       "      <td>...</td>\n",
       "      <td>23</td>\n",
       "      <td>3</td>\n",
       "      <td>1</td>\n",
       "      <td>1</td>\n",
       "      <td>2</td>\n",
       "      <td>1</td>\n",
       "      <td>1</td>\n",
       "      <td>1</td>\n",
       "      <td>1</td>\n",
       "      <td>1</td>\n",
       "    </tr>\n",
       "    <tr>\n",
       "      <th>3</th>\n",
       "      <td>1</td>\n",
       "      <td>1</td>\n",
       "      <td>12</td>\n",
       "      <td>4</td>\n",
       "      <td>0</td>\n",
       "      <td>2122</td>\n",
       "      <td>1</td>\n",
       "      <td>3</td>\n",
       "      <td>3</td>\n",
       "      <td>3</td>\n",
       "      <td>...</td>\n",
       "      <td>39</td>\n",
       "      <td>3</td>\n",
       "      <td>1</td>\n",
       "      <td>2</td>\n",
       "      <td>2</td>\n",
       "      <td>2</td>\n",
       "      <td>1</td>\n",
       "      <td>2</td>\n",
       "      <td>1</td>\n",
       "      <td>1</td>\n",
       "    </tr>\n",
       "    <tr>\n",
       "      <th>4</th>\n",
       "      <td>1</td>\n",
       "      <td>1</td>\n",
       "      <td>12</td>\n",
       "      <td>4</td>\n",
       "      <td>0</td>\n",
       "      <td>2171</td>\n",
       "      <td>1</td>\n",
       "      <td>3</td>\n",
       "      <td>4</td>\n",
       "      <td>3</td>\n",
       "      <td>...</td>\n",
       "      <td>38</td>\n",
       "      <td>1</td>\n",
       "      <td>2</td>\n",
       "      <td>2</td>\n",
       "      <td>2</td>\n",
       "      <td>1</td>\n",
       "      <td>1</td>\n",
       "      <td>2</td>\n",
       "      <td>1</td>\n",
       "      <td>1</td>\n",
       "    </tr>\n",
       "  </tbody>\n",
       "</table>\n",
       "<p>5 rows × 23 columns</p>\n",
       "</div>"
      ],
      "text/plain": [
       "   Creditability  Account Balance  Duration of Credit (month)  \\\n",
       "0              1                1                          18   \n",
       "1              1                1                           9   \n",
       "2              1                2                          12   \n",
       "3              1                1                          12   \n",
       "4              1                1                          12   \n",
       "\n",
       "   Payment Status of Previous Credit  Purpose  Credit Amount  \\\n",
       "0                                  4        2           1049   \n",
       "1                                  4        0           2799   \n",
       "2                                  2        9            841   \n",
       "3                                  4        0           2122   \n",
       "4                                  4        0           2171   \n",
       "\n",
       "   Value Savings/Stocks  Length of current employment  Instalment per cent  \\\n",
       "0                     1                             2                    4   \n",
       "1                     1                             3                    2   \n",
       "2                     2                             4                    2   \n",
       "3                     1                             3                    3   \n",
       "4                     1                             3                    4   \n",
       "\n",
       "   Sex & Marital Status        ...          Age (years)  Concurrent Credits  \\\n",
       "0                     2        ...                   21                   3   \n",
       "1                     3        ...                   36                   3   \n",
       "2                     2        ...                   23                   3   \n",
       "3                     3        ...                   39                   3   \n",
       "4                     3        ...                   38                   1   \n",
       "\n",
       "   Type of apartment  No of Credits at this Bank  Occupation  \\\n",
       "0                  1                           1           3   \n",
       "1                  1                           2           3   \n",
       "2                  1                           1           2   \n",
       "3                  1                           2           2   \n",
       "4                  2                           2           2   \n",
       "\n",
       "   No of dependents  Telephone  Foreign Worker  Credit Duration  \\\n",
       "0                 1          1               1                2   \n",
       "1                 2          1               1                1   \n",
       "2                 1          1               1                1   \n",
       "3                 2          1               2                1   \n",
       "4                 1          1               2                1   \n",
       "\n",
       "   Credit Amount Grp  \n",
       "0                  1  \n",
       "1                  2  \n",
       "2                  1  \n",
       "3                  1  \n",
       "4                  1  \n",
       "\n",
       "[5 rows x 23 columns]"
      ]
     },
     "execution_count": 42,
     "metadata": {},
     "output_type": "execute_result"
    }
   ],
   "source": [
    "cr_amt_bins = [200,2200,4200,6200,8200,10200,12200,14200,18500]\n",
    "cr_amt_grp = pd.cut(credit_card_data['Credit Amount'], cr_amt_bins, labels=[1,2,3,4,5,6,7,8])\n",
    "cr_amt_accepted = pd.cut(credit_card_data[credit_card_data['Creditability']==1]['Credit Amount'], cr_amt_bins, labels=[1,2,3,4,5,6,7,8])\n",
    "credit_card_data['Credit Amount Grp'] = cr_amt_grp\n",
    "credit_card_data.head()"
   ]
  },
  {
   "cell_type": "code",
   "execution_count": 43,
   "metadata": {},
   "outputs": [
    {
     "data": {
      "text/plain": [
       "<matplotlib.axes._subplots.AxesSubplot at 0x1a153f1400>"
      ]
     },
     "execution_count": 43,
     "metadata": {},
     "output_type": "execute_result"
    },
    {
     "data": {
      "text/plain": [
       "Text(0,0.5,'rate')"
      ]
     },
     "execution_count": 43,
     "metadata": {},
     "output_type": "execute_result"
    },
    {
     "data": {
      "text/plain": [
       "Text(0.5,1,'Creditability based on Credit Amount')"
      ]
     },
     "execution_count": 43,
     "metadata": {},
     "output_type": "execute_result"
    },
    {
     "data": {
      "image/png": "[encoded data removed]",
      "text/plain": [
       "<matplotlib.figure.Figure at 0x1a15302cf8>"
      ]
     },
     "metadata": {},
     "output_type": "display_data"
    }
   ],
   "source": [
    "cr_amt_plot = credit_card_data.pivot_table(index='Credit Amount Grp', values=\"Creditability\")\n",
    "cr_amt_plot.plot.bar()\n",
    "plt.ylabel('rate')\n",
    "plt.title('Creditability based on Credit Amount')\n",
    "plt.show()\n",
    "\n",
    "\n"
   ]
  },
  {
   "cell_type": "code",
   "execution_count": 44,
   "metadata": {},
   "outputs": [
    {
     "name": "stdout",
     "output_type": "stream",
     "text": [
      "The number of cutomers in each Credit Amount Grp\n"
     ]
    },
    {
     "data": {
      "text/html": [
       "<div>\n",
       "<style scoped>\n",
       "    .dataframe tbody tr th:only-of-type {\n",
       "        vertical-align: middle;\n",
       "    }\n",
       "\n",
       "    .dataframe tbody tr th {\n",
       "        vertical-align: top;\n",
       "    }\n",
       "\n",
       "    .dataframe thead th {\n",
       "        text-align: right;\n",
       "    }\n",
       "</style>\n",
       "<table border=\"1\" class=\"dataframe\">\n",
       "  <thead>\n",
       "    <tr style=\"text-align: right;\">\n",
       "      <th></th>\n",
       "      <th>Credit Amount Grp</th>\n",
       "    </tr>\n",
       "    <tr>\n",
       "      <th>Credit Amount Grp</th>\n",
       "      <th></th>\n",
       "    </tr>\n",
       "  </thead>\n",
       "  <tbody>\n",
       "    <tr>\n",
       "      <th>1</th>\n",
       "      <td>473</td>\n",
       "    </tr>\n",
       "    <tr>\n",
       "      <th>2</th>\n",
       "      <td>293</td>\n",
       "    </tr>\n",
       "    <tr>\n",
       "      <th>3</th>\n",
       "      <td>92</td>\n",
       "    </tr>\n",
       "    <tr>\n",
       "      <th>4</th>\n",
       "      <td>76</td>\n",
       "    </tr>\n",
       "    <tr>\n",
       "      <th>5</th>\n",
       "      <td>28</td>\n",
       "    </tr>\n",
       "    <tr>\n",
       "      <th>6</th>\n",
       "      <td>18</td>\n",
       "    </tr>\n",
       "    <tr>\n",
       "      <th>7</th>\n",
       "      <td>10</td>\n",
       "    </tr>\n",
       "    <tr>\n",
       "      <th>8</th>\n",
       "      <td>10</td>\n",
       "    </tr>\n",
       "  </tbody>\n",
       "</table>\n",
       "</div>"
      ],
      "text/plain": [
       "                   Credit Amount Grp\n",
       "Credit Amount Grp                   \n",
       "1                                473\n",
       "2                                293\n",
       "3                                 92\n",
       "4                                 76\n",
       "5                                 28\n",
       "6                                 18\n",
       "7                                 10\n",
       "8                                 10"
      ]
     },
     "execution_count": 44,
     "metadata": {},
     "output_type": "execute_result"
    },
    {
     "name": "stdout",
     "output_type": "stream",
     "text": [
      "\n"
     ]
    },
    {
     "data": {
      "text/html": [
       "<div>\n",
       "<style scoped>\n",
       "    .dataframe tbody tr th:only-of-type {\n",
       "        vertical-align: middle;\n",
       "    }\n",
       "\n",
       "    .dataframe tbody tr th {\n",
       "        vertical-align: top;\n",
       "    }\n",
       "\n",
       "    .dataframe thead th {\n",
       "        text-align: right;\n",
       "    }\n",
       "</style>\n",
       "<table border=\"1\" class=\"dataframe\">\n",
       "  <thead>\n",
       "    <tr style=\"text-align: right;\">\n",
       "      <th></th>\n",
       "      <th>Creditability</th>\n",
       "    </tr>\n",
       "    <tr>\n",
       "      <th>Credit Amount Grp</th>\n",
       "      <th></th>\n",
       "    </tr>\n",
       "  </thead>\n",
       "  <tbody>\n",
       "    <tr>\n",
       "      <th>1</th>\n",
       "      <td>0.725159</td>\n",
       "    </tr>\n",
       "    <tr>\n",
       "      <th>2</th>\n",
       "      <td>0.757679</td>\n",
       "    </tr>\n",
       "    <tr>\n",
       "      <th>3</th>\n",
       "      <td>0.641304</td>\n",
       "    </tr>\n",
       "    <tr>\n",
       "      <th>4</th>\n",
       "      <td>0.605263</td>\n",
       "    </tr>\n",
       "    <tr>\n",
       "      <th>5</th>\n",
       "      <td>0.535714</td>\n",
       "    </tr>\n",
       "    <tr>\n",
       "      <th>6</th>\n",
       "      <td>0.500000</td>\n",
       "    </tr>\n",
       "    <tr>\n",
       "      <th>7</th>\n",
       "      <td>0.400000</td>\n",
       "    </tr>\n",
       "    <tr>\n",
       "      <th>8</th>\n",
       "      <td>0.200000</td>\n",
       "    </tr>\n",
       "  </tbody>\n",
       "</table>\n",
       "</div>"
      ],
      "text/plain": [
       "                   Creditability\n",
       "Credit Amount Grp               \n",
       "1                       0.725159\n",
       "2                       0.757679\n",
       "3                       0.641304\n",
       "4                       0.605263\n",
       "5                       0.535714\n",
       "6                       0.500000\n",
       "7                       0.400000\n",
       "8                       0.200000"
      ]
     },
     "execution_count": 44,
     "metadata": {},
     "output_type": "execute_result"
    }
   ],
   "source": [
    "print(\"The number of cutomers in each Credit Amount Grp\")\n",
    "credit_card_data.groupby(['Credit Amount Grp'])[['Credit Amount Grp']].count()\n",
    "print()\n",
    "cr_amt_grpby = credit_card_data.groupby(['Credit Amount Grp'])[['Creditability']]\n",
    "cr_amt_grpby.mean()"
   ]
  },
  {
   "cell_type": "code",
   "execution_count": 45,
   "metadata": {},
   "outputs": [],
   "source": [
    "# this shows that group 2 that holds credit amount from 2200 to 4200 has the highest creditability rate of 75.8%"
   ]
  },
  {
   "cell_type": "markdown",
   "metadata": {},
   "source": [
    "## Value Savings/Stocks"
   ]
  },
  {
   "cell_type": "code",
   "execution_count": 47,
   "metadata": {},
   "outputs": [
    {
     "data": {
      "text/plain": [
       "<matplotlib.axes._subplots.AxesSubplot at 0x1a15e8b6d8>"
      ]
     },
     "execution_count": 47,
     "metadata": {},
     "output_type": "execute_result"
    },
    {
     "data": {
      "text/plain": [
       "Text(0,0.5,'rate')"
      ]
     },
     "execution_count": 47,
     "metadata": {},
     "output_type": "execute_result"
    },
    {
     "data": {
      "text/plain": [
       "Text(0.5,1,'Value Savings/Stocks and Creditability')"
      ]
     },
     "execution_count": 47,
     "metadata": {},
     "output_type": "execute_result"
    },
    {
     "data": {
      "image/png": "[encoded data removed]",
      "text/plain": [
       "<matplotlib.figure.Figure at 0x1a15d4ee48>"
      ]
     },
     "metadata": {},
     "output_type": "display_data"
    },
    {
     "data": {
      "text/plain": [
       "Creditability    0.689748\n",
       "dtype: float64"
      ]
     },
     "execution_count": 47,
     "metadata": {},
     "output_type": "execute_result"
    },
    {
     "name": "stdout",
     "output_type": "stream",
     "text": [
      "\n",
      "The number of cutomers in each Value Savings/Stocks group\n"
     ]
    },
    {
     "data": {
      "text/html": [
       "<div>\n",
       "<style scoped>\n",
       "    .dataframe tbody tr th:only-of-type {\n",
       "        vertical-align: middle;\n",
       "    }\n",
       "\n",
       "    .dataframe tbody tr th {\n",
       "        vertical-align: top;\n",
       "    }\n",
       "\n",
       "    .dataframe thead th {\n",
       "        text-align: right;\n",
       "    }\n",
       "</style>\n",
       "<table border=\"1\" class=\"dataframe\">\n",
       "  <thead>\n",
       "    <tr style=\"text-align: right;\">\n",
       "      <th></th>\n",
       "      <th>Value Savings/Stocks</th>\n",
       "    </tr>\n",
       "    <tr>\n",
       "      <th>Value Savings/Stocks</th>\n",
       "      <th></th>\n",
       "    </tr>\n",
       "  </thead>\n",
       "  <tbody>\n",
       "    <tr>\n",
       "      <th>1</th>\n",
       "      <td>603</td>\n",
       "    </tr>\n",
       "    <tr>\n",
       "      <th>2</th>\n",
       "      <td>103</td>\n",
       "    </tr>\n",
       "    <tr>\n",
       "      <th>3</th>\n",
       "      <td>63</td>\n",
       "    </tr>\n",
       "    <tr>\n",
       "      <th>4</th>\n",
       "      <td>48</td>\n",
       "    </tr>\n",
       "    <tr>\n",
       "      <th>5</th>\n",
       "      <td>183</td>\n",
       "    </tr>\n",
       "  </tbody>\n",
       "</table>\n",
       "</div>"
      ],
      "text/plain": [
       "                      Value Savings/Stocks\n",
       "Value Savings/Stocks                      \n",
       "1                                      603\n",
       "2                                      103\n",
       "3                                       63\n",
       "4                                       48\n",
       "5                                      183"
      ]
     },
     "execution_count": 47,
     "metadata": {},
     "output_type": "execute_result"
    },
    {
     "name": "stdout",
     "output_type": "stream",
     "text": [
      "\n",
      "\n",
      "                       Creditability\n",
      "Value Savings/Stocks               \n",
      "1                          0.640133\n",
      "2                          0.669903\n",
      "3                          0.825397\n",
      "4                          0.875000\n",
      "5                          0.825137\n"
     ]
    }
   ],
   "source": [
    "sav_plot = credit_card_data.pivot_table(index='Value Savings/Stocks', values='Creditability')\n",
    "sav_plot.plot.bar()\n",
    "plt.ylabel('rate')\n",
    "plt.title('Value Savings/Stocks and Creditability')\n",
    "plt.show()\n",
    "\n",
    "purpose_plot.mean()\n",
    "print()\n",
    "\n",
    "print(\"The number of cutomers in each Value Savings/Stocks group\")\n",
    "credit_card_data.groupby(['Value Savings/Stocks'])[['Value Savings/Stocks']].count()\n",
    "print()\n",
    "\n",
    "sav_grp = credit_card_data.groupby(['Value Savings/Stocks'])[['Creditability']]\n",
    "print(\"\\n\",sav_grp.mean())"
   ]
  },
  {
   "cell_type": "code",
   "execution_count": 27,
   "metadata": {},
   "outputs": [
    {
     "data": {
      "text/plain": [
       "{'boxes': [<matplotlib.lines.Line2D at 0x151da6d588>],\n",
       " 'caps': [<matplotlib.lines.Line2D at 0x151da6deb8>,\n",
       "  <matplotlib.lines.Line2D at 0x151da6d630>],\n",
       " 'fliers': [<matplotlib.lines.Line2D at 0x151daa1da0>],\n",
       " 'means': [],\n",
       " 'medians': [<matplotlib.lines.Line2D at 0x151daa12e8>],\n",
       " 'whiskers': [<matplotlib.lines.Line2D at 0x151da6de80>,\n",
       "  <matplotlib.lines.Line2D at 0x151da6d128>]}"
      ]
     },
     "execution_count": 27,
     "metadata": {},
     "output_type": "execute_result"
    },
    {
     "data": {
      "image/png": "[encoded data removed]",
      "text/plain": [
       "<matplotlib.figure.Figure at 0x151e07ce10>"
      ]
     },
     "metadata": {},
     "output_type": "display_data"
    }
   ],
   "source": [
    "matplotlib.pyplot.boxplot(credit_card_data['Value Savings/Stocks'], notch=True)"
   ]
  },
  {
   "cell_type": "code",
   "execution_count": null,
   "metadata": {},
   "outputs": [],
   "source": [
    "# This shows that there are not outliers to skew the rates and customersin group 4 has the highest rate,\n",
    "# but also has the lowest number of customer to get the data from.\n",
    "# a better understanding of this data would be customers that have\n",
    "# a either no saving account or a saving account above 500DM have the highest probability of getting credit"
   ]
  },
  {
   "cell_type": "markdown",
   "metadata": {},
   "source": [
    "## Length of current employment"
   ]
  },
  {
   "cell_type": "code",
   "execution_count": 48,
   "metadata": {},
   "outputs": [
    {
     "data": {
      "text/plain": [
       "<matplotlib.axes._subplots.AxesSubplot at 0x1a151f7b70>"
      ]
     },
     "execution_count": 48,
     "metadata": {},
     "output_type": "execute_result"
    },
    {
     "data": {
      "text/plain": [
       "Text(0,0.5,'rate')"
      ]
     },
     "execution_count": 48,
     "metadata": {},
     "output_type": "execute_result"
    },
    {
     "data": {
      "text/plain": [
       "Text(0.5,1,'Length of current employment and Creditability')"
      ]
     },
     "execution_count": 48,
     "metadata": {},
     "output_type": "execute_result"
    },
    {
     "data": {
      "image/png": "[encoded data removed]",
      "text/plain": [
       "<matplotlib.figure.Figure at 0x1a151e1d68>"
      ]
     },
     "metadata": {},
     "output_type": "display_data"
    },
    {
     "data": {
      "text/plain": [
       "Creditability    0.687634\n",
       "dtype: float64"
      ]
     },
     "execution_count": 48,
     "metadata": {},
     "output_type": "execute_result"
    },
    {
     "name": "stdout",
     "output_type": "stream",
     "text": [
      "\n",
      "The number of cutomers in each Length of current employment group\n"
     ]
    },
    {
     "data": {
      "text/html": [
       "<div>\n",
       "<style scoped>\n",
       "    .dataframe tbody tr th:only-of-type {\n",
       "        vertical-align: middle;\n",
       "    }\n",
       "\n",
       "    .dataframe tbody tr th {\n",
       "        vertical-align: top;\n",
       "    }\n",
       "\n",
       "    .dataframe thead th {\n",
       "        text-align: right;\n",
       "    }\n",
       "</style>\n",
       "<table border=\"1\" class=\"dataframe\">\n",
       "  <thead>\n",
       "    <tr style=\"text-align: right;\">\n",
       "      <th></th>\n",
       "      <th>Length of current employment</th>\n",
       "    </tr>\n",
       "    <tr>\n",
       "      <th>Length of current employment</th>\n",
       "      <th></th>\n",
       "    </tr>\n",
       "  </thead>\n",
       "  <tbody>\n",
       "    <tr>\n",
       "      <th>1</th>\n",
       "      <td>62</td>\n",
       "    </tr>\n",
       "    <tr>\n",
       "      <th>2</th>\n",
       "      <td>172</td>\n",
       "    </tr>\n",
       "    <tr>\n",
       "      <th>3</th>\n",
       "      <td>339</td>\n",
       "    </tr>\n",
       "    <tr>\n",
       "      <th>4</th>\n",
       "      <td>174</td>\n",
       "    </tr>\n",
       "    <tr>\n",
       "      <th>5</th>\n",
       "      <td>253</td>\n",
       "    </tr>\n",
       "  </tbody>\n",
       "</table>\n",
       "</div>"
      ],
      "text/plain": [
       "                              Length of current employment\n",
       "Length of current employment                              \n",
       "1                                                       62\n",
       "2                                                      172\n",
       "3                                                      339\n",
       "4                                                      174\n",
       "5                                                      253"
      ]
     },
     "execution_count": 48,
     "metadata": {},
     "output_type": "execute_result"
    },
    {
     "name": "stdout",
     "output_type": "stream",
     "text": [
      "\n",
      "\n",
      "                               Creditability\n",
      "Length of current employment               \n",
      "1                                  0.629032\n",
      "2                                  0.593023\n",
      "3                                  0.693215\n",
      "4                                  0.775862\n",
      "5                                  0.747036\n"
     ]
    }
   ],
   "source": [
    "cur_emp_plot = credit_card_data.pivot_table(index='Length of current employment', values='Creditability')\n",
    "cur_emp_plot.plot.bar()\n",
    "plt.ylabel('rate')\n",
    "plt.title('Length of current employment and Creditability')\n",
    "plt.show()\n",
    "\n",
    "cur_emp_plot.mean()\n",
    "\n",
    "print()\n",
    "\n",
    "print(\"The number of cutomers in each Length of current employment group\")\n",
    "credit_card_data.groupby(['Length of current employment'])[['Length of current employment']].count()\n",
    "print()\n",
    "\n",
    "cur_emp_grp = credit_card_data.groupby(['Length of current employment'])[['Creditability']]\n",
    "print(\"\\n\",cur_emp_grp.mean())"
   ]
  },
  {
   "cell_type": "code",
   "execution_count": 29,
   "metadata": {},
   "outputs": [
    {
     "data": {
      "text/plain": [
       "{'boxes': [<matplotlib.lines.Line2D at 0x151d7f65f8>],\n",
       " 'caps': [<matplotlib.lines.Line2D at 0x151d8001d0>,\n",
       "  <matplotlib.lines.Line2D at 0x151d800470>],\n",
       " 'fliers': [<matplotlib.lines.Line2D at 0x151d800b38>],\n",
       " 'means': [],\n",
       " 'medians': [<matplotlib.lines.Line2D at 0x151d800a58>],\n",
       " 'whiskers': [<matplotlib.lines.Line2D at 0x151d7f6898>,\n",
       "  <matplotlib.lines.Line2D at 0x151d7f6c88>]}"
      ]
     },
     "execution_count": 29,
     "metadata": {},
     "output_type": "execute_result"
    },
    {
     "data": {
      "image/png": "[encoded data removed]",
      "text/plain": [
       "<matplotlib.figure.Figure at 0x151d95d710>"
      ]
     },
     "metadata": {},
     "output_type": "display_data"
    }
   ],
   "source": [
    "matplotlib.pyplot.boxplot(credit_card_data['Length of current employment'], notch=True)"
   ]
  },
  {
   "cell_type": "code",
   "execution_count": 49,
   "metadata": {},
   "outputs": [],
   "source": [
    "# This shows that there are not outliers\n",
    "# and cusomters that have their current job for 4-7years have the highest creditability rating"
   ]
  },
  {
   "cell_type": "markdown",
   "metadata": {},
   "source": [
    "## Instalment percent"
   ]
  },
  {
   "cell_type": "code",
   "execution_count": 52,
   "metadata": {},
   "outputs": [
    {
     "data": {
      "text/plain": [
       "<matplotlib.axes._subplots.AxesSubplot at 0x1a15234d30>"
      ]
     },
     "execution_count": 52,
     "metadata": {},
     "output_type": "execute_result"
    },
    {
     "data": {
      "text/plain": [
       "Text(0,0.5,'rate')"
      ]
     },
     "execution_count": 52,
     "metadata": {},
     "output_type": "execute_result"
    },
    {
     "data": {
      "text/plain": [
       "Text(0.5,1,'Instalment percent and Creditability')"
      ]
     },
     "execution_count": 52,
     "metadata": {},
     "output_type": "execute_result"
    },
    {
     "data": {
      "image/png": "[encoded data removed]",
      "text/plain": [
       "<matplotlib.figure.Figure at 0x1a151fc128>"
      ]
     },
     "metadata": {},
     "output_type": "display_data"
    },
    {
     "data": {
      "text/plain": [
       "Creditability    0.715236\n",
       "dtype: float64"
      ]
     },
     "execution_count": 52,
     "metadata": {},
     "output_type": "execute_result"
    },
    {
     "name": "stdout",
     "output_type": "stream",
     "text": [
      "\n",
      "The number of cutomers in each Instalment percent group\n"
     ]
    },
    {
     "data": {
      "text/html": [
       "<div>\n",
       "<style scoped>\n",
       "    .dataframe tbody tr th:only-of-type {\n",
       "        vertical-align: middle;\n",
       "    }\n",
       "\n",
       "    .dataframe tbody tr th {\n",
       "        vertical-align: top;\n",
       "    }\n",
       "\n",
       "    .dataframe thead th {\n",
       "        text-align: right;\n",
       "    }\n",
       "</style>\n",
       "<table border=\"1\" class=\"dataframe\">\n",
       "  <thead>\n",
       "    <tr style=\"text-align: right;\">\n",
       "      <th></th>\n",
       "      <th>Instalment per cent</th>\n",
       "    </tr>\n",
       "    <tr>\n",
       "      <th>Instalment per cent</th>\n",
       "      <th></th>\n",
       "    </tr>\n",
       "  </thead>\n",
       "  <tbody>\n",
       "    <tr>\n",
       "      <th>1</th>\n",
       "      <td>136</td>\n",
       "    </tr>\n",
       "    <tr>\n",
       "      <th>2</th>\n",
       "      <td>231</td>\n",
       "    </tr>\n",
       "    <tr>\n",
       "      <th>3</th>\n",
       "      <td>157</td>\n",
       "    </tr>\n",
       "    <tr>\n",
       "      <th>4</th>\n",
       "      <td>476</td>\n",
       "    </tr>\n",
       "  </tbody>\n",
       "</table>\n",
       "</div>"
      ],
      "text/plain": [
       "                     Instalment per cent\n",
       "Instalment per cent                     \n",
       "1                                    136\n",
       "2                                    231\n",
       "3                                    157\n",
       "4                                    476"
      ]
     },
     "execution_count": 52,
     "metadata": {},
     "output_type": "execute_result"
    },
    {
     "name": "stdout",
     "output_type": "stream",
     "text": [
      "\n",
      "\n",
      "                      Creditability\n",
      "Instalment per cent               \n",
      "1                         0.750000\n",
      "2                         0.731602\n",
      "3                         0.713376\n",
      "4                         0.665966\n"
     ]
    }
   ],
   "source": [
    "instalment_plot = credit_card_data.pivot_table(index='Instalment per cent', values='Creditability')\n",
    "instalment_plot.plot.bar()\n",
    "plt.ylabel('rate')\n",
    "plt.title('Instalment percent and Creditability')\n",
    "plt.show()\n",
    "\n",
    "instalment_plot.mean()\n",
    "\n",
    "print()\n",
    "print(\"The number of cutomers in each Instalment percent group\")\n",
    "credit_card_data.groupby(['Instalment per cent'])[['Instalment per cent']].count()\n",
    "print()\n",
    "\n",
    "instalment_grp = credit_card_data.groupby(['Instalment per cent'])[['Creditability']]\n",
    "print(\"\\n\",instalment_grp.mean())"
   ]
  },
  {
   "cell_type": "code",
   "execution_count": 31,
   "metadata": {},
   "outputs": [
    {
     "data": {
      "text/plain": [
       "{'boxes': [<matplotlib.lines.Line2D at 0x151d7f4f98>],\n",
       " 'caps': [<matplotlib.lines.Line2D at 0x151d7fc9e8>,\n",
       "  <matplotlib.lines.Line2D at 0x151d7fce10>],\n",
       " 'fliers': [<matplotlib.lines.Line2D at 0x151d7d56a0>],\n",
       " 'means': [],\n",
       " 'medians': [<matplotlib.lines.Line2D at 0x151d7d5278>],\n",
       " 'whiskers': [<matplotlib.lines.Line2D at 0x151d7fc128>,\n",
       "  <matplotlib.lines.Line2D at 0x151d7fc5c0>]}"
      ]
     },
     "execution_count": 31,
     "metadata": {},
     "output_type": "execute_result"
    },
    {
     "data": {
      "image/png": "[encoded data removed]",
      "text/plain": [
       "<matplotlib.figure.Figure at 0x151d9079b0>"
      ]
     },
     "metadata": {},
     "output_type": "display_data"
    }
   ],
   "source": [
    "matplotlib.pyplot.boxplot(credit_card_data['Instalment per cent'], notch=True)"
   ]
  },
  {
   "cell_type": "code",
   "execution_count": 54,
   "metadata": {},
   "outputs": [],
   "source": [
    "# there are no outliers and that all the creditabilty rating are all very similar\n",
    "# slowing increasing the rate and the installment precent goes down.\n",
    "# This doesn't give much intell or to be useful in the regression models\n",
    "# since all the rates are similar and they are all around the rate the creditability is normally"
   ]
  },
  {
   "cell_type": "markdown",
   "metadata": {},
   "source": [
    "## Sex & Marital Status"
   ]
  },
  {
   "cell_type": "code",
   "execution_count": 55,
   "metadata": {},
   "outputs": [
    {
     "data": {
      "text/plain": [
       "<matplotlib.axes._subplots.AxesSubplot at 0x1a151fcd30>"
      ]
     },
     "execution_count": 55,
     "metadata": {},
     "output_type": "execute_result"
    },
    {
     "data": {
      "text/plain": [
       "Text(0,0.5,'rate')"
      ]
     },
     "execution_count": 55,
     "metadata": {},
     "output_type": "execute_result"
    },
    {
     "data": {
      "text/plain": [
       "Text(0.5,1,'Sex & Marital Status and Creditability')"
      ]
     },
     "execution_count": 55,
     "metadata": {},
     "output_type": "execute_result"
    },
    {
     "data": {
      "image/png": "[encoded data removed]",
      "text/plain": [
       "<matplotlib.figure.Figure at 0x1a151e1e10>"
      ]
     },
     "metadata": {},
     "output_type": "display_data"
    },
    {
     "data": {
      "text/plain": [
       "Creditability    0.677556\n",
       "dtype: float64"
      ]
     },
     "execution_count": 55,
     "metadata": {},
     "output_type": "execute_result"
    },
    {
     "name": "stdout",
     "output_type": "stream",
     "text": [
      "\n",
      "The number of cutomers in each Sex & Marital Status group\n"
     ]
    },
    {
     "data": {
      "text/html": [
       "<div>\n",
       "<style scoped>\n",
       "    .dataframe tbody tr th:only-of-type {\n",
       "        vertical-align: middle;\n",
       "    }\n",
       "\n",
       "    .dataframe tbody tr th {\n",
       "        vertical-align: top;\n",
       "    }\n",
       "\n",
       "    .dataframe thead th {\n",
       "        text-align: right;\n",
       "    }\n",
       "</style>\n",
       "<table border=\"1\" class=\"dataframe\">\n",
       "  <thead>\n",
       "    <tr style=\"text-align: right;\">\n",
       "      <th></th>\n",
       "      <th>Sex &amp; Marital Status</th>\n",
       "    </tr>\n",
       "    <tr>\n",
       "      <th>Sex &amp; Marital Status</th>\n",
       "      <th></th>\n",
       "    </tr>\n",
       "  </thead>\n",
       "  <tbody>\n",
       "    <tr>\n",
       "      <th>1</th>\n",
       "      <td>50</td>\n",
       "    </tr>\n",
       "    <tr>\n",
       "      <th>2</th>\n",
       "      <td>310</td>\n",
       "    </tr>\n",
       "    <tr>\n",
       "      <th>3</th>\n",
       "      <td>548</td>\n",
       "    </tr>\n",
       "    <tr>\n",
       "      <th>4</th>\n",
       "      <td>92</td>\n",
       "    </tr>\n",
       "  </tbody>\n",
       "</table>\n",
       "</div>"
      ],
      "text/plain": [
       "                      Sex & Marital Status\n",
       "Sex & Marital Status                      \n",
       "1                                       50\n",
       "2                                      310\n",
       "3                                      548\n",
       "4                                       92"
      ]
     },
     "execution_count": 55,
     "metadata": {},
     "output_type": "execute_result"
    },
    {
     "name": "stdout",
     "output_type": "stream",
     "text": [
      "\n",
      "\n",
      "                       Creditability\n",
      "Sex & Marital Status               \n",
      "1                          0.600000\n",
      "2                          0.648387\n",
      "3                          0.733577\n",
      "4                          0.728261\n"
     ]
    }
   ],
   "source": [
    "status_plot = credit_card_data.pivot_table(index='Sex & Marital Status', values='Creditability')\n",
    "status_plot.plot.bar()\n",
    "plt.ylabel('rate')\n",
    "plt.title('Sex & Marital Status and Creditability')\n",
    "plt.show()\n",
    "\n",
    "status_plot.mean()\n",
    "\n",
    "print()\n",
    "print(\"The number of cutomers in each Sex & Marital Status group\")\n",
    "credit_card_data.groupby(['Sex & Marital Status'])[['Sex & Marital Status']].count()\n",
    "print()\n",
    "\n",
    "status_grp = credit_card_data.groupby(['Sex & Marital Status'])[['Creditability']]\n",
    "print(\"\\n\",status_grp.mean())"
   ]
  },
  {
   "cell_type": "code",
   "execution_count": 33,
   "metadata": {},
   "outputs": [
    {
     "data": {
      "text/plain": [
       "{'boxes': [<matplotlib.lines.Line2D at 0x151e31b0b8>],\n",
       " 'caps': [<matplotlib.lines.Line2D at 0x151e31bac8>,\n",
       "  <matplotlib.lines.Line2D at 0x151e31bef0>],\n",
       " 'fliers': [<matplotlib.lines.Line2D at 0x151e323780>],\n",
       " 'means': [],\n",
       " 'medians': [<matplotlib.lines.Line2D at 0x151e323358>],\n",
       " 'whiskers': [<matplotlib.lines.Line2D at 0x151e31b208>,\n",
       "  <matplotlib.lines.Line2D at 0x151e31b6a0>]}"
      ]
     },
     "execution_count": 33,
     "metadata": {},
     "output_type": "execute_result"
    },
    {
     "data": {
      "image/png": "[encoded data removed]",
      "text/plain": [
       "<matplotlib.figure.Figure at 0x151d8abcc0>"
      ]
     },
     "metadata": {},
     "output_type": "display_data"
    }
   ],
   "source": [
    "matplotlib.pyplot.boxplot(credit_card_data['Sex & Marital Status'], notch=True)"
   ]
  },
  {
   "cell_type": "code",
   "execution_count": 56,
   "metadata": {},
   "outputs": [],
   "source": [
    "# No outliers and single males has the highest creditability rating while divorced men have the lowest rating "
   ]
  },
  {
   "cell_type": "markdown",
   "metadata": {},
   "source": [
    "## Guarantors"
   ]
  },
  {
   "cell_type": "code",
   "execution_count": 57,
   "metadata": {},
   "outputs": [
    {
     "data": {
      "text/plain": [
       "<matplotlib.axes._subplots.AxesSubplot at 0x1a15485080>"
      ]
     },
     "execution_count": 57,
     "metadata": {},
     "output_type": "execute_result"
    },
    {
     "data": {
      "text/plain": [
       "Text(0,0.5,'rate')"
      ]
     },
     "execution_count": 57,
     "metadata": {},
     "output_type": "execute_result"
    },
    {
     "data": {
      "text/plain": [
       "Text(0.5,1,'Guarantors and Creditability')"
      ]
     },
     "execution_count": 57,
     "metadata": {},
     "output_type": "execute_result"
    },
    {
     "data": {
      "image/png": "[encoded data removed]",
      "text/plain": [
       "<matplotlib.figure.Figure at 0x1a1578dac8>"
      ]
     },
     "metadata": {},
     "output_type": "display_data"
    },
    {
     "data": {
      "text/plain": [
       "Creditability    0.689593\n",
       "dtype: float64"
      ]
     },
     "execution_count": 57,
     "metadata": {},
     "output_type": "execute_result"
    },
    {
     "name": "stdout",
     "output_type": "stream",
     "text": [
      "\n",
      "The number of cutomers in each Guarantors group\n"
     ]
    },
    {
     "data": {
      "text/html": [
       "<div>\n",
       "<style scoped>\n",
       "    .dataframe tbody tr th:only-of-type {\n",
       "        vertical-align: middle;\n",
       "    }\n",
       "\n",
       "    .dataframe tbody tr th {\n",
       "        vertical-align: top;\n",
       "    }\n",
       "\n",
       "    .dataframe thead th {\n",
       "        text-align: right;\n",
       "    }\n",
       "</style>\n",
       "<table border=\"1\" class=\"dataframe\">\n",
       "  <thead>\n",
       "    <tr style=\"text-align: right;\">\n",
       "      <th></th>\n",
       "      <th>Guarantors</th>\n",
       "    </tr>\n",
       "    <tr>\n",
       "      <th>Guarantors</th>\n",
       "      <th></th>\n",
       "    </tr>\n",
       "  </thead>\n",
       "  <tbody>\n",
       "    <tr>\n",
       "      <th>1</th>\n",
       "      <td>907</td>\n",
       "    </tr>\n",
       "    <tr>\n",
       "      <th>2</th>\n",
       "      <td>41</td>\n",
       "    </tr>\n",
       "    <tr>\n",
       "      <th>3</th>\n",
       "      <td>52</td>\n",
       "    </tr>\n",
       "  </tbody>\n",
       "</table>\n",
       "</div>"
      ],
      "text/plain": [
       "            Guarantors\n",
       "Guarantors            \n",
       "1                  907\n",
       "2                   41\n",
       "3                   52"
      ]
     },
     "execution_count": 57,
     "metadata": {},
     "output_type": "execute_result"
    },
    {
     "name": "stdout",
     "output_type": "stream",
     "text": [
      "\n",
      "\n",
      "             Creditability\n",
      "Guarantors               \n",
      "1                0.700110\n",
      "2                0.560976\n",
      "3                0.807692\n"
     ]
    }
   ],
   "source": [
    "guarantors_plot = credit_card_data.pivot_table(index='Guarantors', values='Creditability')\n",
    "guarantors_plot.plot.bar()\n",
    "plt.ylabel('rate')\n",
    "plt.title('Guarantors and Creditability')\n",
    "plt.show()\n",
    "\n",
    "guarantors_plot.mean()\n",
    "\n",
    "print()\n",
    "print(\"The number of cutomers in each Guarantors group\")\n",
    "credit_card_data.groupby(['Guarantors'])[['Guarantors']].count()\n",
    "print()\n",
    "\n",
    "guarantors_grp = credit_card_data.groupby(['Guarantors'])[['Creditability']]\n",
    "print(\"\\n\",guarantors_grp.mean())"
   ]
  },
  {
   "cell_type": "code",
   "execution_count": 35,
   "metadata": {},
   "outputs": [
    {
     "data": {
      "text/plain": [
       "{'boxes': [<matplotlib.lines.Line2D at 0x151e51fa90>],\n",
       " 'caps': [<matplotlib.lines.Line2D at 0x151e5294e0>,\n",
       "  <matplotlib.lines.Line2D at 0x151e529908>],\n",
       " 'fliers': [<matplotlib.lines.Line2D at 0x151e531198>],\n",
       " 'means': [],\n",
       " 'medians': [<matplotlib.lines.Line2D at 0x151e529d30>],\n",
       " 'whiskers': [<matplotlib.lines.Line2D at 0x151e51fbe0>,\n",
       "  <matplotlib.lines.Line2D at 0x151e5290b8>]}"
      ]
     },
     "execution_count": 35,
     "metadata": {},
     "output_type": "execute_result"
    },
    {
     "data": {
      "image/png": "[encoded data removed]",
      "text/plain": [
       "<matplotlib.figure.Figure at 0x151e3339e8>"
      ]
     },
     "metadata": {},
     "output_type": "display_data"
    }
   ],
   "source": [
    "matplotlib.pyplot.boxplot(credit_card_data['Guarantors'], notch=True)"
   ]
  },
  {
   "cell_type": "code",
   "execution_count": 58,
   "metadata": {},
   "outputs": [],
   "source": [
    "# this shows that cusotmers outside of the first group (no guarantors and co-applicant) are outliers. \n",
    "# so looking at the rating is not the best way to determine the creditability for the regression model.\n",
    "# most customers fall under group one and that their creditabilty rating is 70%\n",
    "# which is just the creditabilty rating in general."
   ]
  },
  {
   "cell_type": "markdown",
   "metadata": {},
   "source": [
    "## Duration in Current address"
   ]
  },
  {
   "cell_type": "code",
   "execution_count": 59,
   "metadata": {},
   "outputs": [
    {
     "data": {
      "text/plain": [
       "<matplotlib.axes._subplots.AxesSubplot at 0x1a15ddb470>"
      ]
     },
     "execution_count": 59,
     "metadata": {},
     "output_type": "execute_result"
    },
    {
     "data": {
      "text/plain": [
       "Text(0,0.5,'rate')"
      ]
     },
     "execution_count": 59,
     "metadata": {},
     "output_type": "execute_result"
    },
    {
     "data": {
      "text/plain": [
       "Text(0.5,1,'Duration in Current address and Creditability')"
      ]
     },
     "execution_count": 59,
     "metadata": {},
     "output_type": "execute_result"
    },
    {
     "data": {
      "image/png": "[encoded data removed]",
      "text/plain": [
       "<matplotlib.figure.Figure at 0x1a154ada58>"
      ]
     },
     "metadata": {},
     "output_type": "display_data"
    },
    {
     "data": {
      "text/plain": [
       "Creditability    0.704827\n",
       "dtype: float64"
      ]
     },
     "execution_count": 59,
     "metadata": {},
     "output_type": "execute_result"
    },
    {
     "name": "stdout",
     "output_type": "stream",
     "text": [
      "\n",
      "The number of cutomers in each Duration in Current address group\n"
     ]
    },
    {
     "data": {
      "text/html": [
       "<div>\n",
       "<style scoped>\n",
       "    .dataframe tbody tr th:only-of-type {\n",
       "        vertical-align: middle;\n",
       "    }\n",
       "\n",
       "    .dataframe tbody tr th {\n",
       "        vertical-align: top;\n",
       "    }\n",
       "\n",
       "    .dataframe thead th {\n",
       "        text-align: right;\n",
       "    }\n",
       "</style>\n",
       "<table border=\"1\" class=\"dataframe\">\n",
       "  <thead>\n",
       "    <tr style=\"text-align: right;\">\n",
       "      <th></th>\n",
       "      <th>Duration in Current address</th>\n",
       "    </tr>\n",
       "    <tr>\n",
       "      <th>Duration in Current address</th>\n",
       "      <th></th>\n",
       "    </tr>\n",
       "  </thead>\n",
       "  <tbody>\n",
       "    <tr>\n",
       "      <th>1</th>\n",
       "      <td>130</td>\n",
       "    </tr>\n",
       "    <tr>\n",
       "      <th>2</th>\n",
       "      <td>308</td>\n",
       "    </tr>\n",
       "    <tr>\n",
       "      <th>3</th>\n",
       "      <td>149</td>\n",
       "    </tr>\n",
       "    <tr>\n",
       "      <th>4</th>\n",
       "      <td>413</td>\n",
       "    </tr>\n",
       "  </tbody>\n",
       "</table>\n",
       "</div>"
      ],
      "text/plain": [
       "                             Duration in Current address\n",
       "Duration in Current address                             \n",
       "1                                                    130\n",
       "2                                                    308\n",
       "3                                                    149\n",
       "4                                                    413"
      ]
     },
     "execution_count": 59,
     "metadata": {},
     "output_type": "execute_result"
    },
    {
     "name": "stdout",
     "output_type": "stream",
     "text": [
      "\n",
      "\n",
      "                              Creditability\n",
      "Duration in Current address               \n",
      "1                                 0.723077\n",
      "2                                 0.685065\n",
      "3                                 0.711409\n",
      "4                                 0.699758\n"
     ]
    }
   ],
   "source": [
    "address_plot = credit_card_data.pivot_table(index='Duration in Current address', values='Creditability')\n",
    "address_plot.plot.bar()\n",
    "plt.ylabel('rate')\n",
    "plt.title('Duration in Current address and Creditability')\n",
    "plt.show()\n",
    "\n",
    "address_plot.mean()\n",
    "\n",
    "print()\n",
    "print(\"The number of cutomers in each Duration in Current address group\")\n",
    "credit_card_data.groupby(['Duration in Current address'])[['Duration in Current address']].count()\n",
    "print()\n",
    "\n",
    "address_grp = credit_card_data.groupby(['Duration in Current address'])[['Creditability']]\n",
    "print(\"\\n\",address_grp.mean())"
   ]
  },
  {
   "cell_type": "code",
   "execution_count": 37,
   "metadata": {},
   "outputs": [
    {
     "data": {
      "text/plain": [
       "{'boxes': [<matplotlib.lines.Line2D at 0x151e818588>],\n",
       " 'caps': [<matplotlib.lines.Line2D at 0x151e818f98>,\n",
       "  <matplotlib.lines.Line2D at 0x151e820400>],\n",
       " 'fliers': [<matplotlib.lines.Line2D at 0x151e820c50>],\n",
       " 'means': [],\n",
       " 'medians': [<matplotlib.lines.Line2D at 0x151e820828>],\n",
       " 'whiskers': [<matplotlib.lines.Line2D at 0x151e8186d8>,\n",
       "  <matplotlib.lines.Line2D at 0x151e818b70>]}"
      ]
     },
     "execution_count": 37,
     "metadata": {},
     "output_type": "execute_result"
    },
    {
     "data": {
      "image/png": "[encoded data removed]",
      "text/plain": [
       "<matplotlib.figure.Figure at 0x151e4fb198>"
      ]
     },
     "metadata": {},
     "output_type": "display_data"
    }
   ],
   "source": [
    "matplotlib.pyplot.boxplot(credit_card_data['Duration in Current address'], notch=True)"
   ]
  },
  {
   "cell_type": "markdown",
   "metadata": {},
   "source": [
    "## Current address has not real value to me all the since all have the similar creditability which is the same probability fo Creditiability"
   ]
  },
  {
   "cell_type": "markdown",
   "metadata": {},
   "source": [
    "## Most Valuable Available asset"
   ]
  },
  {
   "cell_type": "code",
   "execution_count": 60,
   "metadata": {},
   "outputs": [
    {
     "data": {
      "text/plain": [
       "<matplotlib.axes._subplots.AxesSubplot at 0x1a157c6ba8>"
      ]
     },
     "execution_count": 60,
     "metadata": {},
     "output_type": "execute_result"
    },
    {
     "data": {
      "text/plain": [
       "Text(0,0.5,'rate')"
      ]
     },
     "execution_count": 60,
     "metadata": {},
     "output_type": "execute_result"
    },
    {
     "data": {
      "text/plain": [
       "Text(0.5,1,'Most valuable available asset and Creditability')"
      ]
     },
     "execution_count": 60,
     "metadata": {},
     "output_type": "execute_result"
    },
    {
     "data": {
      "image/png": "[encoded data removed]",
      "text/plain": [
       "<matplotlib.figure.Figure at 0x1a157defd0>"
      ]
     },
     "metadata": {},
     "output_type": "display_data"
    },
    {
     "data": {
      "text/plain": [
       "Creditability    0.684726\n",
       "dtype: float64"
      ]
     },
     "execution_count": 60,
     "metadata": {},
     "output_type": "execute_result"
    },
    {
     "name": "stdout",
     "output_type": "stream",
     "text": [
      "\n",
      "The number of cutomers in each Most valuable available asset group\n"
     ]
    },
    {
     "data": {
      "text/html": [
       "<div>\n",
       "<style scoped>\n",
       "    .dataframe tbody tr th:only-of-type {\n",
       "        vertical-align: middle;\n",
       "    }\n",
       "\n",
       "    .dataframe tbody tr th {\n",
       "        vertical-align: top;\n",
       "    }\n",
       "\n",
       "    .dataframe thead th {\n",
       "        text-align: right;\n",
       "    }\n",
       "</style>\n",
       "<table border=\"1\" class=\"dataframe\">\n",
       "  <thead>\n",
       "    <tr style=\"text-align: right;\">\n",
       "      <th></th>\n",
       "      <th>Most valuable available asset</th>\n",
       "    </tr>\n",
       "    <tr>\n",
       "      <th>Most valuable available asset</th>\n",
       "      <th></th>\n",
       "    </tr>\n",
       "  </thead>\n",
       "  <tbody>\n",
       "    <tr>\n",
       "      <th>1</th>\n",
       "      <td>282</td>\n",
       "    </tr>\n",
       "    <tr>\n",
       "      <th>2</th>\n",
       "      <td>232</td>\n",
       "    </tr>\n",
       "    <tr>\n",
       "      <th>3</th>\n",
       "      <td>332</td>\n",
       "    </tr>\n",
       "    <tr>\n",
       "      <th>4</th>\n",
       "      <td>154</td>\n",
       "    </tr>\n",
       "  </tbody>\n",
       "</table>\n",
       "</div>"
      ],
      "text/plain": [
       "                               Most valuable available asset\n",
       "Most valuable available asset                               \n",
       "1                                                        282\n",
       "2                                                        232\n",
       "3                                                        332\n",
       "4                                                        154"
      ]
     },
     "execution_count": 60,
     "metadata": {},
     "output_type": "execute_result"
    },
    {
     "name": "stdout",
     "output_type": "stream",
     "text": [
      "\n",
      "\n",
      "                                Creditability\n",
      "Most valuable available asset               \n",
      "1                                   0.787234\n",
      "2                                   0.693966\n",
      "3                                   0.692771\n",
      "4                                   0.564935\n"
     ]
    }
   ],
   "source": [
    "asset_plot = credit_card_data.pivot_table(index='Most valuable available asset', values='Creditability')\n",
    "asset_plot.plot.bar()\n",
    "plt.ylabel('rate')\n",
    "plt.title('Most valuable available asset and Creditability')\n",
    "plt.show()\n",
    "\n",
    "asset_plot.mean()\n",
    "\n",
    "print()\n",
    "print(\"The number of cutomers in each Most valuable available asset group\")\n",
    "credit_card_data.groupby(['Most valuable available asset'])[['Most valuable available asset']].count()\n",
    "print()\n",
    "\n",
    "asset_grp = credit_card_data.groupby(['Most valuable available asset'])[['Creditability']]\n",
    "print(\"\\n\",asset_grp.mean())"
   ]
  },
  {
   "cell_type": "code",
   "execution_count": 39,
   "metadata": {},
   "outputs": [
    {
     "data": {
      "text/plain": [
       "{'boxes': [<matplotlib.lines.Line2D at 0x151e0e0860>],\n",
       " 'caps': [<matplotlib.lines.Line2D at 0x151e0d3c88>,\n",
       "  <matplotlib.lines.Line2D at 0x151e0d36a0>],\n",
       " 'fliers': [<matplotlib.lines.Line2D at 0x151d91cb70>],\n",
       " 'means': [],\n",
       " 'medians': [<matplotlib.lines.Line2D at 0x151e0b5048>],\n",
       " 'whiskers': [<matplotlib.lines.Line2D at 0x151e0e0588>,\n",
       "  <matplotlib.lines.Line2D at 0x151e0e0ef0>]}"
      ]
     },
     "execution_count": 39,
     "metadata": {},
     "output_type": "execute_result"
    },
    {
     "data": {
      "image/png": "[encoded data removed]",
      "text/plain": [
       "<matplotlib.figure.Figure at 0x151e832128>"
      ]
     },
     "metadata": {},
     "output_type": "display_data"
    }
   ],
   "source": [
    "matplotlib.pyplot.boxplot(credit_card_data['Most valuable available asset'], notch=True)"
   ]
  },
  {
   "cell_type": "code",
   "execution_count": 61,
   "metadata": {},
   "outputs": [],
   "source": [
    "# this shows that there is no outliers and the group 1 (real estate) has the highest crediability rating"
   ]
  },
  {
   "cell_type": "markdown",
   "metadata": {},
   "source": [
    "# Age need to bin"
   ]
  },
  {
   "cell_type": "code",
   "execution_count": 40,
   "metadata": {},
   "outputs": [
    {
     "data": {
      "text/plain": [
       "<matplotlib.axes._subplots.AxesSubplot at 0x151d960d30>"
      ]
     },
     "execution_count": 40,
     "metadata": {},
     "output_type": "execute_result"
    },
    {
     "data": {
      "text/plain": [
       "Text(0,0.5,'rate')"
      ]
     },
     "execution_count": 40,
     "metadata": {},
     "output_type": "execute_result"
    },
    {
     "data": {
      "text/plain": [
       "Text(0.5,1,'Age and Creditability')"
      ]
     },
     "execution_count": 40,
     "metadata": {},
     "output_type": "execute_result"
    },
    {
     "data": {
      "image/png": "[encoded data removed]",
      "text/plain": [
       "<matplotlib.figure.Figure at 0x151e4fbd30>"
      ]
     },
     "metadata": {},
     "output_type": "display_data"
    }
   ],
   "source": [
    "age_plot = credit_card_data.pivot_table(index='Age (years)', values='Creditability')\n",
    "age_plot.plot.bar()\n",
    "plt.ylabel('rate')\n",
    "plt.title('Age and Creditability')\n",
    "plt.show()\n",
    "# age_plot.mean()\n",
    "age_grp = credit_card_data.groupby(['Age (years)'])[['Creditability']]\n",
    "# print(\"\\n\",age_grp.mean())"
   ]
  },
  {
   "cell_type": "code",
   "execution_count": 62,
   "metadata": {},
   "outputs": [
    {
     "data": {
      "text/plain": [
       "{'boxes': [<matplotlib.lines.Line2D at 0x1a15401438>],\n",
       " 'caps': [<matplotlib.lines.Line2D at 0x1a15401ef0>,\n",
       "  <matplotlib.lines.Line2D at 0x1a14e0a2b0>],\n",
       " 'fliers': [<matplotlib.lines.Line2D at 0x1a14e0aeb8>],\n",
       " 'means': [],\n",
       " 'medians': [<matplotlib.lines.Line2D at 0x1a14e0a780>],\n",
       " 'whiskers': [<matplotlib.lines.Line2D at 0x1a15401b00>,\n",
       "  <matplotlib.lines.Line2D at 0x1a154017b8>]}"
      ]
     },
     "execution_count": 62,
     "metadata": {},
     "output_type": "execute_result"
    },
    {
     "data": {
      "image/png": "[encoded data removed]",
      "text/plain": [
       "<matplotlib.figure.Figure at 0x1a15d17160>"
      ]
     },
     "metadata": {},
     "output_type": "display_data"
    }
   ],
   "source": [
    "matplotlib.pyplot.boxplot(credit_card_data['Age (years)'], notch=True)\n",
    "# hence ages after 65 are considered outliers"
   ]
  },
  {
   "cell_type": "code",
   "execution_count": 63,
   "metadata": {},
   "outputs": [
    {
     "data": {
      "text/html": [
       "<div>\n",
       "<style scoped>\n",
       "    .dataframe tbody tr th:only-of-type {\n",
       "        vertical-align: middle;\n",
       "    }\n",
       "\n",
       "    .dataframe tbody tr th {\n",
       "        vertical-align: top;\n",
       "    }\n",
       "\n",
       "    .dataframe thead th {\n",
       "        text-align: right;\n",
       "    }\n",
       "</style>\n",
       "<table border=\"1\" class=\"dataframe\">\n",
       "  <thead>\n",
       "    <tr style=\"text-align: right;\">\n",
       "      <th></th>\n",
       "      <th>Creditability</th>\n",
       "      <th>Account Balance</th>\n",
       "      <th>Duration of Credit (month)</th>\n",
       "      <th>Payment Status of Previous Credit</th>\n",
       "      <th>Purpose</th>\n",
       "      <th>Credit Amount</th>\n",
       "      <th>Value Savings/Stocks</th>\n",
       "      <th>Length of current employment</th>\n",
       "      <th>Instalment per cent</th>\n",
       "      <th>Sex &amp; Marital Status</th>\n",
       "      <th>...</th>\n",
       "      <th>Concurrent Credits</th>\n",
       "      <th>Type of apartment</th>\n",
       "      <th>No of Credits at this Bank</th>\n",
       "      <th>Occupation</th>\n",
       "      <th>No of dependents</th>\n",
       "      <th>Telephone</th>\n",
       "      <th>Foreign Worker</th>\n",
       "      <th>Credit Duration</th>\n",
       "      <th>Credit Amount Grp</th>\n",
       "      <th>Age_grp</th>\n",
       "    </tr>\n",
       "  </thead>\n",
       "  <tbody>\n",
       "    <tr>\n",
       "      <th>0</th>\n",
       "      <td>1</td>\n",
       "      <td>1</td>\n",
       "      <td>18</td>\n",
       "      <td>4</td>\n",
       "      <td>2</td>\n",
       "      <td>1049</td>\n",
       "      <td>1</td>\n",
       "      <td>2</td>\n",
       "      <td>4</td>\n",
       "      <td>2</td>\n",
       "      <td>...</td>\n",
       "      <td>3</td>\n",
       "      <td>1</td>\n",
       "      <td>1</td>\n",
       "      <td>3</td>\n",
       "      <td>1</td>\n",
       "      <td>1</td>\n",
       "      <td>1</td>\n",
       "      <td>2</td>\n",
       "      <td>1</td>\n",
       "      <td>1</td>\n",
       "    </tr>\n",
       "    <tr>\n",
       "      <th>1</th>\n",
       "      <td>1</td>\n",
       "      <td>1</td>\n",
       "      <td>9</td>\n",
       "      <td>4</td>\n",
       "      <td>0</td>\n",
       "      <td>2799</td>\n",
       "      <td>1</td>\n",
       "      <td>3</td>\n",
       "      <td>2</td>\n",
       "      <td>3</td>\n",
       "      <td>...</td>\n",
       "      <td>3</td>\n",
       "      <td>1</td>\n",
       "      <td>2</td>\n",
       "      <td>3</td>\n",
       "      <td>2</td>\n",
       "      <td>1</td>\n",
       "      <td>1</td>\n",
       "      <td>1</td>\n",
       "      <td>2</td>\n",
       "      <td>2</td>\n",
       "    </tr>\n",
       "    <tr>\n",
       "      <th>2</th>\n",
       "      <td>1</td>\n",
       "      <td>2</td>\n",
       "      <td>12</td>\n",
       "      <td>2</td>\n",
       "      <td>9</td>\n",
       "      <td>841</td>\n",
       "      <td>2</td>\n",
       "      <td>4</td>\n",
       "      <td>2</td>\n",
       "      <td>2</td>\n",
       "      <td>...</td>\n",
       "      <td>3</td>\n",
       "      <td>1</td>\n",
       "      <td>1</td>\n",
       "      <td>2</td>\n",
       "      <td>1</td>\n",
       "      <td>1</td>\n",
       "      <td>1</td>\n",
       "      <td>1</td>\n",
       "      <td>1</td>\n",
       "      <td>1</td>\n",
       "    </tr>\n",
       "    <tr>\n",
       "      <th>3</th>\n",
       "      <td>1</td>\n",
       "      <td>1</td>\n",
       "      <td>12</td>\n",
       "      <td>4</td>\n",
       "      <td>0</td>\n",
       "      <td>2122</td>\n",
       "      <td>1</td>\n",
       "      <td>3</td>\n",
       "      <td>3</td>\n",
       "      <td>3</td>\n",
       "      <td>...</td>\n",
       "      <td>3</td>\n",
       "      <td>1</td>\n",
       "      <td>2</td>\n",
       "      <td>2</td>\n",
       "      <td>2</td>\n",
       "      <td>1</td>\n",
       "      <td>2</td>\n",
       "      <td>1</td>\n",
       "      <td>1</td>\n",
       "      <td>2</td>\n",
       "    </tr>\n",
       "    <tr>\n",
       "      <th>4</th>\n",
       "      <td>1</td>\n",
       "      <td>1</td>\n",
       "      <td>12</td>\n",
       "      <td>4</td>\n",
       "      <td>0</td>\n",
       "      <td>2171</td>\n",
       "      <td>1</td>\n",
       "      <td>3</td>\n",
       "      <td>4</td>\n",
       "      <td>3</td>\n",
       "      <td>...</td>\n",
       "      <td>1</td>\n",
       "      <td>2</td>\n",
       "      <td>2</td>\n",
       "      <td>2</td>\n",
       "      <td>1</td>\n",
       "      <td>1</td>\n",
       "      <td>2</td>\n",
       "      <td>1</td>\n",
       "      <td>1</td>\n",
       "      <td>2</td>\n",
       "    </tr>\n",
       "  </tbody>\n",
       "</table>\n",
       "<p>5 rows × 24 columns</p>\n",
       "</div>"
      ],
      "text/plain": [
       "   Creditability  Account Balance  Duration of Credit (month)  \\\n",
       "0              1                1                          18   \n",
       "1              1                1                           9   \n",
       "2              1                2                          12   \n",
       "3              1                1                          12   \n",
       "4              1                1                          12   \n",
       "\n",
       "   Payment Status of Previous Credit  Purpose  Credit Amount  \\\n",
       "0                                  4        2           1049   \n",
       "1                                  4        0           2799   \n",
       "2                                  2        9            841   \n",
       "3                                  4        0           2122   \n",
       "4                                  4        0           2171   \n",
       "\n",
       "   Value Savings/Stocks  Length of current employment  Instalment per cent  \\\n",
       "0                     1                             2                    4   \n",
       "1                     1                             3                    2   \n",
       "2                     2                             4                    2   \n",
       "3                     1                             3                    3   \n",
       "4                     1                             3                    4   \n",
       "\n",
       "   Sex & Marital Status   ...     Concurrent Credits  Type of apartment  \\\n",
       "0                     2   ...                      3                  1   \n",
       "1                     3   ...                      3                  1   \n",
       "2                     2   ...                      3                  1   \n",
       "3                     3   ...                      3                  1   \n",
       "4                     3   ...                      1                  2   \n",
       "\n",
       "   No of Credits at this Bank  Occupation  No of dependents  Telephone  \\\n",
       "0                           1           3                 1          1   \n",
       "1                           2           3                 2          1   \n",
       "2                           1           2                 1          1   \n",
       "3                           2           2                 2          1   \n",
       "4                           2           2                 1          1   \n",
       "\n",
       "   Foreign Worker  Credit Duration  Credit Amount Grp  Age_grp  \n",
       "0               1                2                  1        1  \n",
       "1               1                1                  2        2  \n",
       "2               1                1                  1        1  \n",
       "3               2                1                  1        2  \n",
       "4               2                1                  1        2  \n",
       "\n",
       "[5 rows x 24 columns]"
      ]
     },
     "execution_count": 63,
     "metadata": {},
     "output_type": "execute_result"
    }
   ],
   "source": [
    "age_bins = [18,33,47,61,76]\n",
    "age_grp = pd.cut(credit_card_data['Age (years)'], age_bins,labels=[1,2,3,4])\n",
    "age_accepted = pd.cut(credit_card_data[credit_card_data['Creditability']==1]['Age (years)'], age_bins, labels=[1,2,3,4])\n",
    "credit_card_data['Age_grp'] = age_grp\n",
    "credit_card_data.head()"
   ]
  },
  {
   "cell_type": "code",
   "execution_count": 64,
   "metadata": {},
   "outputs": [
    {
     "data": {
      "text/plain": [
       "<matplotlib.axes._subplots.AxesSubplot at 0x1a14942240>"
      ]
     },
     "execution_count": 64,
     "metadata": {},
     "output_type": "execute_result"
    },
    {
     "data": {
      "text/plain": [
       "Text(0,0.5,'rate')"
      ]
     },
     "execution_count": 64,
     "metadata": {},
     "output_type": "execute_result"
    },
    {
     "data": {
      "text/plain": [
       "Text(0.5,1,'Creditability based on Age')"
      ]
     },
     "execution_count": 64,
     "metadata": {},
     "output_type": "execute_result"
    },
    {
     "data": {
      "image/png": "[encoded data removed]",
      "text/plain": [
       "<matplotlib.figure.Figure at 0x1051c99b0>"
      ]
     },
     "metadata": {},
     "output_type": "display_data"
    },
    {
     "data": {
      "text/plain": [
       "Creditability    0.736004\n",
       "dtype: float64"
      ]
     },
     "execution_count": 64,
     "metadata": {},
     "output_type": "execute_result"
    }
   ],
   "source": [
    "age_plot = credit_card_data.pivot_table(index='Age_grp', values=\"Creditability\")\n",
    "age_plot.plot.bar()\n",
    "plt.ylabel('rate')\n",
    "plt.title('Creditability based on Age')\n",
    "plt.show()\n",
    "\n",
    "\n",
    "age_plot.mean()\n",
    "\n"
   ]
  },
  {
   "cell_type": "code",
   "execution_count": 65,
   "metadata": {},
   "outputs": [
    {
     "name": "stdout",
     "output_type": "stream",
     "text": [
      "The number of cutomers in each Age_grp group\n"
     ]
    },
    {
     "data": {
      "text/html": [
       "<div>\n",
       "<style scoped>\n",
       "    .dataframe tbody tr th:only-of-type {\n",
       "        vertical-align: middle;\n",
       "    }\n",
       "\n",
       "    .dataframe tbody tr th {\n",
       "        vertical-align: top;\n",
       "    }\n",
       "\n",
       "    .dataframe thead th {\n",
       "        text-align: right;\n",
       "    }\n",
       "</style>\n",
       "<table border=\"1\" class=\"dataframe\">\n",
       "  <thead>\n",
       "    <tr style=\"text-align: right;\">\n",
       "      <th></th>\n",
       "      <th>Age_grp</th>\n",
       "    </tr>\n",
       "    <tr>\n",
       "      <th>Age_grp</th>\n",
       "      <th></th>\n",
       "    </tr>\n",
       "  </thead>\n",
       "  <tbody>\n",
       "    <tr>\n",
       "      <th>1</th>\n",
       "      <td>514</td>\n",
       "    </tr>\n",
       "    <tr>\n",
       "      <th>2</th>\n",
       "      <td>337</td>\n",
       "    </tr>\n",
       "    <tr>\n",
       "      <th>3</th>\n",
       "      <td>111</td>\n",
       "    </tr>\n",
       "    <tr>\n",
       "      <th>4</th>\n",
       "      <td>38</td>\n",
       "    </tr>\n",
       "  </tbody>\n",
       "</table>\n",
       "</div>"
      ],
      "text/plain": [
       "         Age_grp\n",
       "Age_grp         \n",
       "1            514\n",
       "2            337\n",
       "3            111\n",
       "4             38"
      ]
     },
     "execution_count": 65,
     "metadata": {},
     "output_type": "execute_result"
    },
    {
     "name": "stdout",
     "output_type": "stream",
     "text": [
      "\n"
     ]
    },
    {
     "data": {
      "text/html": [
       "<div>\n",
       "<style scoped>\n",
       "    .dataframe tbody tr th:only-of-type {\n",
       "        vertical-align: middle;\n",
       "    }\n",
       "\n",
       "    .dataframe tbody tr th {\n",
       "        vertical-align: top;\n",
       "    }\n",
       "\n",
       "    .dataframe thead th {\n",
       "        text-align: right;\n",
       "    }\n",
       "</style>\n",
       "<table border=\"1\" class=\"dataframe\">\n",
       "  <thead>\n",
       "    <tr style=\"text-align: right;\">\n",
       "      <th></th>\n",
       "      <th>Creditability</th>\n",
       "    </tr>\n",
       "    <tr>\n",
       "      <th>Age_grp</th>\n",
       "      <th></th>\n",
       "    </tr>\n",
       "  </thead>\n",
       "  <tbody>\n",
       "    <tr>\n",
       "      <th>1</th>\n",
       "      <td>0.647860</td>\n",
       "    </tr>\n",
       "    <tr>\n",
       "      <th>2</th>\n",
       "      <td>0.759644</td>\n",
       "    </tr>\n",
       "    <tr>\n",
       "      <th>3</th>\n",
       "      <td>0.720721</td>\n",
       "    </tr>\n",
       "    <tr>\n",
       "      <th>4</th>\n",
       "      <td>0.815789</td>\n",
       "    </tr>\n",
       "  </tbody>\n",
       "</table>\n",
       "</div>"
      ],
      "text/plain": [
       "         Creditability\n",
       "Age_grp               \n",
       "1             0.647860\n",
       "2             0.759644\n",
       "3             0.720721\n",
       "4             0.815789"
      ]
     },
     "execution_count": 65,
     "metadata": {},
     "output_type": "execute_result"
    }
   ],
   "source": [
    "print(\"The number of cutomers in each Age_grp group\")\n",
    "credit_card_data.groupby(['Age_grp'])[['Age_grp']].count()\n",
    "print()\n",
    "\n",
    "age_grpby = credit_card_data.groupby(['Age_grp'])[['Creditability']]\n",
    "age_grpby.mean()"
   ]
  },
  {
   "cell_type": "code",
   "execution_count": 66,
   "metadata": {},
   "outputs": [],
   "source": [
    "# while age group of customer greater than 60 have the highest creditability\n",
    "# it also has the smallest number of customers in that group and majority of themwere outliers"
   ]
  },
  {
   "cell_type": "markdown",
   "metadata": {},
   "source": [
    "## Concurrent Credits"
   ]
  },
  {
   "cell_type": "code",
   "execution_count": 67,
   "metadata": {},
   "outputs": [
    {
     "data": {
      "text/plain": [
       "<matplotlib.axes._subplots.AxesSubplot at 0x10b027cf8>"
      ]
     },
     "execution_count": 67,
     "metadata": {},
     "output_type": "execute_result"
    },
    {
     "data": {
      "text/plain": [
       "Text(0,0.5,'rate')"
      ]
     },
     "execution_count": 67,
     "metadata": {},
     "output_type": "execute_result"
    },
    {
     "data": {
      "text/plain": [
       "Text(0.5,1,'Concurrent Credits and Creditability')"
      ]
     },
     "execution_count": 67,
     "metadata": {},
     "output_type": "execute_result"
    },
    {
     "data": {
      "image/png": "[encoded data removed]",
      "text/plain": [
       "<matplotlib.figure.Figure at 0x1a156f5b00>"
      ]
     },
     "metadata": {},
     "output_type": "display_data"
    },
    {
     "data": {
      "text/plain": [
       "Creditability    0.636829\n",
       "dtype: float64"
      ]
     },
     "execution_count": 67,
     "metadata": {},
     "output_type": "execute_result"
    },
    {
     "name": "stdout",
     "output_type": "stream",
     "text": [
      "\n",
      "The number of cutomers in each Concurrent Credits group\n"
     ]
    },
    {
     "data": {
      "text/html": [
       "<div>\n",
       "<style scoped>\n",
       "    .dataframe tbody tr th:only-of-type {\n",
       "        vertical-align: middle;\n",
       "    }\n",
       "\n",
       "    .dataframe tbody tr th {\n",
       "        vertical-align: top;\n",
       "    }\n",
       "\n",
       "    .dataframe thead th {\n",
       "        text-align: right;\n",
       "    }\n",
       "</style>\n",
       "<table border=\"1\" class=\"dataframe\">\n",
       "  <thead>\n",
       "    <tr style=\"text-align: right;\">\n",
       "      <th></th>\n",
       "      <th>Concurrent Credits</th>\n",
       "    </tr>\n",
       "    <tr>\n",
       "      <th>Concurrent Credits</th>\n",
       "      <th></th>\n",
       "    </tr>\n",
       "  </thead>\n",
       "  <tbody>\n",
       "    <tr>\n",
       "      <th>1</th>\n",
       "      <td>139</td>\n",
       "    </tr>\n",
       "    <tr>\n",
       "      <th>2</th>\n",
       "      <td>47</td>\n",
       "    </tr>\n",
       "    <tr>\n",
       "      <th>3</th>\n",
       "      <td>814</td>\n",
       "    </tr>\n",
       "  </tbody>\n",
       "</table>\n",
       "</div>"
      ],
      "text/plain": [
       "                    Concurrent Credits\n",
       "Concurrent Credits                    \n",
       "1                                  139\n",
       "2                                   47\n",
       "3                                  814"
      ]
     },
     "execution_count": 67,
     "metadata": {},
     "output_type": "execute_result"
    },
    {
     "name": "stdout",
     "output_type": "stream",
     "text": [
      "\n",
      "\n",
      "                     Creditability\n",
      "Concurrent Credits               \n",
      "1                        0.589928\n",
      "2                        0.595745\n",
      "3                        0.724816\n"
     ]
    }
   ],
   "source": [
    "con_cred_plot = credit_card_data.pivot_table(index='Concurrent Credits', values='Creditability')\n",
    "con_cred_plot.plot.bar()\n",
    "plt.ylabel('rate')\n",
    "plt.title('Concurrent Credits and Creditability')\n",
    "plt.show()\n",
    "\n",
    "con_cred_plot.mean()\n",
    "\n",
    "print()\n",
    "print(\"The number of cutomers in each Concurrent Credits group\")\n",
    "credit_card_data.groupby(['Concurrent Credits'])[['Concurrent Credits']].count()\n",
    "print()\n",
    "\n",
    "con_cred_grp = credit_card_data.groupby(['Concurrent Credits'])[['Creditability']]\n",
    "print(\"\\n\",con_cred_grp.mean())"
   ]
  },
  {
   "cell_type": "code",
   "execution_count": 46,
   "metadata": {},
   "outputs": [
    {
     "data": {
      "text/plain": [
       "{'boxes': [<matplotlib.lines.Line2D at 0x151eaf8080>],\n",
       " 'caps': [<matplotlib.lines.Line2D at 0x151eaf8a90>,\n",
       "  <matplotlib.lines.Line2D at 0x151eaf8eb8>],\n",
       " 'fliers': [<matplotlib.lines.Line2D at 0x151eb00748>],\n",
       " 'means': [],\n",
       " 'medians': [<matplotlib.lines.Line2D at 0x151eb00320>],\n",
       " 'whiskers': [<matplotlib.lines.Line2D at 0x151eaf81d0>,\n",
       "  <matplotlib.lines.Line2D at 0x151eaf8668>]}"
      ]
     },
     "execution_count": 46,
     "metadata": {},
     "output_type": "execute_result"
    },
    {
     "data": {
      "image/png": "[encoded data removed]",
      "text/plain": [
       "<matplotlib.figure.Figure at 0x151d8c4048>"
      ]
     },
     "metadata": {},
     "output_type": "display_data"
    }
   ],
   "source": [
    "matplotlib.pyplot.boxplot(credit_card_data['Concurrent Credits'], notch=True)"
   ]
  },
  {
   "cell_type": "code",
   "execution_count": 68,
   "metadata": {},
   "outputs": [],
   "source": [
    "# This shows that there are outliers (customers is group 1(bank) and 2(stores))\n",
    "# and the higest creditability rate is for group 3  (no concurrent credit installment plan) "
   ]
  },
  {
   "cell_type": "markdown",
   "metadata": {},
   "source": [
    "## Type of apartment"
   ]
  },
  {
   "cell_type": "code",
   "execution_count": 69,
   "metadata": {},
   "outputs": [
    {
     "data": {
      "text/plain": [
       "<matplotlib.axes._subplots.AxesSubplot at 0x1a1599fcc0>"
      ]
     },
     "execution_count": 69,
     "metadata": {},
     "output_type": "execute_result"
    },
    {
     "data": {
      "text/plain": [
       "Text(0,0.5,'rate')"
      ]
     },
     "execution_count": 69,
     "metadata": {},
     "output_type": "execute_result"
    },
    {
     "data": {
      "text/plain": [
       "Text(0.5,1,'Type of apartment and Creditability')"
      ]
     },
     "execution_count": 69,
     "metadata": {},
     "output_type": "execute_result"
    },
    {
     "data": {
      "image/png": "[encoded data removed]",
      "text/plain": [
       "<matplotlib.figure.Figure at 0x1a150630b8>"
      ]
     },
     "metadata": {},
     "output_type": "display_data"
    },
    {
     "data": {
      "text/plain": [
       "Creditability    0.64574\n",
       "dtype: float64"
      ]
     },
     "execution_count": 69,
     "metadata": {},
     "output_type": "execute_result"
    },
    {
     "name": "stdout",
     "output_type": "stream",
     "text": [
      "\n",
      "The number of cutomers in each Type of apartment group\n"
     ]
    },
    {
     "data": {
      "text/html": [
       "<div>\n",
       "<style scoped>\n",
       "    .dataframe tbody tr th:only-of-type {\n",
       "        vertical-align: middle;\n",
       "    }\n",
       "\n",
       "    .dataframe tbody tr th {\n",
       "        vertical-align: top;\n",
       "    }\n",
       "\n",
       "    .dataframe thead th {\n",
       "        text-align: right;\n",
       "    }\n",
       "</style>\n",
       "<table border=\"1\" class=\"dataframe\">\n",
       "  <thead>\n",
       "    <tr style=\"text-align: right;\">\n",
       "      <th></th>\n",
       "      <th>Type of apartment</th>\n",
       "    </tr>\n",
       "    <tr>\n",
       "      <th>Type of apartment</th>\n",
       "      <th></th>\n",
       "    </tr>\n",
       "  </thead>\n",
       "  <tbody>\n",
       "    <tr>\n",
       "      <th>1</th>\n",
       "      <td>179</td>\n",
       "    </tr>\n",
       "    <tr>\n",
       "      <th>2</th>\n",
       "      <td>714</td>\n",
       "    </tr>\n",
       "    <tr>\n",
       "      <th>3</th>\n",
       "      <td>107</td>\n",
       "    </tr>\n",
       "  </tbody>\n",
       "</table>\n",
       "</div>"
      ],
      "text/plain": [
       "                   Type of apartment\n",
       "Type of apartment                   \n",
       "1                                179\n",
       "2                                714\n",
       "3                                107"
      ]
     },
     "execution_count": 69,
     "metadata": {},
     "output_type": "execute_result"
    },
    {
     "name": "stdout",
     "output_type": "stream",
     "text": [
      "\n",
      "\n",
      "                    Creditability\n",
      "Type of apartment               \n",
      "1                       0.608939\n",
      "2                       0.739496\n",
      "3                       0.588785\n"
     ]
    }
   ],
   "source": [
    "apt_plot = credit_card_data.pivot_table(index='Type of apartment', values='Creditability')\n",
    "apt_plot.plot.bar()\n",
    "plt.ylabel('rate')\n",
    "plt.title('Type of apartment and Creditability')\n",
    "plt.show()\n",
    "\n",
    "apt_plot.mean()\n",
    "\n",
    "print()\n",
    "print(\"The number of cutomers in each Type of apartment group\")\n",
    "credit_card_data.groupby(['Type of apartment'])[['Type of apartment']].count()\n",
    "print()\n",
    "\n",
    "apt_grp = credit_card_data.groupby(['Type of apartment'])[['Creditability']]\n",
    "print(\"\\n\",apt_grp.mean())"
   ]
  },
  {
   "cell_type": "code",
   "execution_count": 48,
   "metadata": {},
   "outputs": [
    {
     "data": {
      "text/plain": [
       "{'boxes': [<matplotlib.lines.Line2D at 0x151ec8b160>],\n",
       " 'caps': [<matplotlib.lines.Line2D at 0x151ec8bb70>,\n",
       "  <matplotlib.lines.Line2D at 0x151ec8bf98>],\n",
       " 'fliers': [<matplotlib.lines.Line2D at 0x151ec92828>],\n",
       " 'means': [],\n",
       " 'medians': [<matplotlib.lines.Line2D at 0x151ec92400>],\n",
       " 'whiskers': [<matplotlib.lines.Line2D at 0x151ec8b2b0>,\n",
       "  <matplotlib.lines.Line2D at 0x151ec8b748>]}"
      ]
     },
     "execution_count": 48,
     "metadata": {},
     "output_type": "execute_result"
    },
    {
     "data": {
      "image/png": "[encoded data removed]",
      "text/plain": [
       "<matplotlib.figure.Figure at 0x151e994da0>"
      ]
     },
     "metadata": {},
     "output_type": "display_data"
    }
   ],
   "source": [
    "matplotlib.pyplot.boxplot(credit_card_data['Type of apartment'], notch=True)"
   ]
  },
  {
   "cell_type": "code",
   "execution_count": 70,
   "metadata": {},
   "outputs": [],
   "source": [
    "# outliers are the customers in group 1(rent) and 3(for free) majority of the customers own their home which is 73% creditabilty rating.  "
   ]
  },
  {
   "cell_type": "markdown",
   "metadata": {},
   "source": [
    "## No of Credits at this Bank"
   ]
  },
  {
   "cell_type": "code",
   "execution_count": 71,
   "metadata": {},
   "outputs": [
    {
     "data": {
      "text/plain": [
       "<matplotlib.axes._subplots.AxesSubplot at 0x1a151565c0>"
      ]
     },
     "execution_count": 71,
     "metadata": {},
     "output_type": "execute_result"
    },
    {
     "data": {
      "text/plain": [
       "Text(0,0.5,'rate')"
      ]
     },
     "execution_count": 71,
     "metadata": {},
     "output_type": "execute_result"
    },
    {
     "data": {
      "text/plain": [
       "Text(0.5,1,'No of Credits at this Bank and Creditability')"
      ]
     },
     "execution_count": 71,
     "metadata": {},
     "output_type": "execute_result"
    },
    {
     "data": {
      "image/png": "[encoded data removed]",
      "text/plain": [
       "<matplotlib.figure.Figure at 0x1a1518d4a8>"
      ]
     },
     "metadata": {},
     "output_type": "display_data"
    },
    {
     "data": {
      "text/plain": [
       "Creditability    0.715037\n",
       "dtype: float64"
      ]
     },
     "execution_count": 71,
     "metadata": {},
     "output_type": "execute_result"
    },
    {
     "name": "stdout",
     "output_type": "stream",
     "text": [
      "\n",
      "The number of cutomers in each No of Credits at this Bank group\n"
     ]
    },
    {
     "data": {
      "text/html": [
       "<div>\n",
       "<style scoped>\n",
       "    .dataframe tbody tr th:only-of-type {\n",
       "        vertical-align: middle;\n",
       "    }\n",
       "\n",
       "    .dataframe tbody tr th {\n",
       "        vertical-align: top;\n",
       "    }\n",
       "\n",
       "    .dataframe thead th {\n",
       "        text-align: right;\n",
       "    }\n",
       "</style>\n",
       "<table border=\"1\" class=\"dataframe\">\n",
       "  <thead>\n",
       "    <tr style=\"text-align: right;\">\n",
       "      <th></th>\n",
       "      <th>No of Credits at this Bank</th>\n",
       "    </tr>\n",
       "    <tr>\n",
       "      <th>No of Credits at this Bank</th>\n",
       "      <th></th>\n",
       "    </tr>\n",
       "  </thead>\n",
       "  <tbody>\n",
       "    <tr>\n",
       "      <th>1</th>\n",
       "      <td>633</td>\n",
       "    </tr>\n",
       "    <tr>\n",
       "      <th>2</th>\n",
       "      <td>333</td>\n",
       "    </tr>\n",
       "    <tr>\n",
       "      <th>3</th>\n",
       "      <td>28</td>\n",
       "    </tr>\n",
       "    <tr>\n",
       "      <th>4</th>\n",
       "      <td>6</td>\n",
       "    </tr>\n",
       "  </tbody>\n",
       "</table>\n",
       "</div>"
      ],
      "text/plain": [
       "                            No of Credits at this Bank\n",
       "No of Credits at this Bank                            \n",
       "1                                                  633\n",
       "2                                                  333\n",
       "3                                                   28\n",
       "4                                                    6"
      ]
     },
     "execution_count": 71,
     "metadata": {},
     "output_type": "execute_result"
    },
    {
     "name": "stdout",
     "output_type": "stream",
     "text": [
      "\n",
      "\n",
      "                             Creditability\n",
      "No of Credits at this Bank               \n",
      "1                                0.684044\n",
      "2                                0.723724\n",
      "3                                0.785714\n",
      "4                                0.666667\n"
     ]
    }
   ],
   "source": [
    "no_cr_bk_plot = credit_card_data.pivot_table(index='No of Credits at this Bank', values='Creditability')\n",
    "no_cr_bk_plot.plot.bar()\n",
    "plt.ylabel('rate')\n",
    "plt.title('No of Credits at this Bank and Creditability')\n",
    "plt.show()\n",
    "\n",
    "no_cr_bk_plot.mean()\n",
    "\n",
    "print()\n",
    "print(\"The number of cutomers in each No of Credits at this Bank group\")\n",
    "credit_card_data.groupby(['No of Credits at this Bank'])[['No of Credits at this Bank']].count()\n",
    "print()\n",
    "\n",
    "no_cr_bk_grp = credit_card_data.groupby(['No of Credits at this Bank'])[['Creditability']]\n",
    "print(\"\\n\",no_cr_bk_grp.mean())"
   ]
  },
  {
   "cell_type": "code",
   "execution_count": 50,
   "metadata": {},
   "outputs": [
    {
     "data": {
      "text/plain": [
       "{'boxes': [<matplotlib.lines.Line2D at 0x151eea00b8>],\n",
       " 'caps': [<matplotlib.lines.Line2D at 0x151eea0ac8>,\n",
       "  <matplotlib.lines.Line2D at 0x151eea0ef0>],\n",
       " 'fliers': [<matplotlib.lines.Line2D at 0x151eeaa780>],\n",
       " 'means': [],\n",
       " 'medians': [<matplotlib.lines.Line2D at 0x151eeaa358>],\n",
       " 'whiskers': [<matplotlib.lines.Line2D at 0x151eea0208>,\n",
       "  <matplotlib.lines.Line2D at 0x151eea06a0>]}"
      ]
     },
     "execution_count": 50,
     "metadata": {},
     "output_type": "execute_result"
    },
    {
     "data": {
      "image/png": "[encoded data removed]",
      "text/plain": [
       "<matplotlib.figure.Figure at 0x151ec60240>"
      ]
     },
     "metadata": {},
     "output_type": "display_data"
    }
   ],
   "source": [
    "matplotlib.pyplot.boxplot(credit_card_data['No of Credits at this Bank'], notch=True)"
   ]
  },
  {
   "cell_type": "code",
   "execution_count": 72,
   "metadata": {},
   "outputs": [],
   "source": [
    "# customers that 4 existing credits at the bank are outliers\n",
    "# and the people with 2 or 3 existing credits have the highest creditabilty rating"
   ]
  },
  {
   "cell_type": "markdown",
   "metadata": {},
   "source": [
    "## Occupation"
   ]
  },
  {
   "cell_type": "code",
   "execution_count": 73,
   "metadata": {},
   "outputs": [
    {
     "data": {
      "text/plain": [
       "<matplotlib.axes._subplots.AxesSubplot at 0x1a156c79b0>"
      ]
     },
     "execution_count": 73,
     "metadata": {},
     "output_type": "execute_result"
    },
    {
     "data": {
      "text/plain": [
       "Text(0,0.5,'rate')"
      ]
     },
     "execution_count": 73,
     "metadata": {},
     "output_type": "execute_result"
    },
    {
     "data": {
      "text/plain": [
       "Text(0.5,1,'Occupation and Creditability')"
      ]
     },
     "execution_count": 73,
     "metadata": {},
     "output_type": "execute_result"
    },
    {
     "data": {
      "image/png": "[encoded data removed]",
      "text/plain": [
       "<matplotlib.figure.Figure at 0x1a152d9940>"
      ]
     },
     "metadata": {},
     "output_type": "display_data"
    },
    {
     "data": {
      "text/plain": [
       "Creditability    0.690496\n",
       "dtype: float64"
      ]
     },
     "execution_count": 73,
     "metadata": {},
     "output_type": "execute_result"
    },
    {
     "name": "stdout",
     "output_type": "stream",
     "text": [
      "\n",
      "The number of cutomers in each Occupation group\n"
     ]
    },
    {
     "data": {
      "text/html": [
       "<div>\n",
       "<style scoped>\n",
       "    .dataframe tbody tr th:only-of-type {\n",
       "        vertical-align: middle;\n",
       "    }\n",
       "\n",
       "    .dataframe tbody tr th {\n",
       "        vertical-align: top;\n",
       "    }\n",
       "\n",
       "    .dataframe thead th {\n",
       "        text-align: right;\n",
       "    }\n",
       "</style>\n",
       "<table border=\"1\" class=\"dataframe\">\n",
       "  <thead>\n",
       "    <tr style=\"text-align: right;\">\n",
       "      <th></th>\n",
       "      <th>Occupation</th>\n",
       "    </tr>\n",
       "    <tr>\n",
       "      <th>Occupation</th>\n",
       "      <th></th>\n",
       "    </tr>\n",
       "  </thead>\n",
       "  <tbody>\n",
       "    <tr>\n",
       "      <th>1</th>\n",
       "      <td>22</td>\n",
       "    </tr>\n",
       "    <tr>\n",
       "      <th>2</th>\n",
       "      <td>200</td>\n",
       "    </tr>\n",
       "    <tr>\n",
       "      <th>3</th>\n",
       "      <td>630</td>\n",
       "    </tr>\n",
       "    <tr>\n",
       "      <th>4</th>\n",
       "      <td>148</td>\n",
       "    </tr>\n",
       "  </tbody>\n",
       "</table>\n",
       "</div>"
      ],
      "text/plain": [
       "            Occupation\n",
       "Occupation            \n",
       "1                   22\n",
       "2                  200\n",
       "3                  630\n",
       "4                  148"
      ]
     },
     "execution_count": 73,
     "metadata": {},
     "output_type": "execute_result"
    },
    {
     "name": "stdout",
     "output_type": "stream",
     "text": [
      "\n",
      "\n",
      "             Creditability\n",
      "Occupation               \n",
      "1                0.681818\n",
      "2                0.720000\n",
      "3                0.704762\n",
      "4                0.655405\n"
     ]
    }
   ],
   "source": [
    "ocpt_plot = credit_card_data.pivot_table(index='Occupation', values='Creditability')\n",
    "ocpt_plot.plot.bar()\n",
    "plt.ylabel('rate')\n",
    "plt.title('Occupation and Creditability')\n",
    "plt.show()\n",
    "\n",
    "ocpt_plot.mean()\n",
    "\n",
    "print()\n",
    "print(\"The number of cutomers in each Occupation group\")\n",
    "credit_card_data.groupby(['Occupation'])[['Occupation']].count()\n",
    "print()\n",
    "\n",
    "ocpt_grp = credit_card_data.groupby(['Occupation'])[['Creditability']]\n",
    "print(\"\\n\",ocpt_grp.mean())"
   ]
  },
  {
   "cell_type": "code",
   "execution_count": 52,
   "metadata": {},
   "outputs": [
    {
     "data": {
      "text/plain": [
       "{'boxes': [<matplotlib.lines.Line2D at 0x151e7382b0>],\n",
       " 'caps': [<matplotlib.lines.Line2D at 0x151dc242b0>,\n",
       "  <matplotlib.lines.Line2D at 0x151dc552b0>],\n",
       " 'fliers': [<matplotlib.lines.Line2D at 0x151dc55e80>],\n",
       " 'means': [],\n",
       " 'medians': [<matplotlib.lines.Line2D at 0x151dc550f0>],\n",
       " 'whiskers': [<matplotlib.lines.Line2D at 0x151e7380b8>,\n",
       "  <matplotlib.lines.Line2D at 0x151e738f98>]}"
      ]
     },
     "execution_count": 52,
     "metadata": {},
     "output_type": "execute_result"
    },
    {
     "data": {
      "image/png": "[encoded data removed]",
      "text/plain": [
       "<matplotlib.figure.Figure at 0x151eeba470>"
      ]
     },
     "metadata": {},
     "output_type": "display_data"
    }
   ],
   "source": [
    "matplotlib.pyplot.boxplot(credit_card_data['Occupation'], notch=True)"
   ]
  },
  {
   "cell_type": "code",
   "execution_count": null,
   "metadata": {},
   "outputs": [],
   "source": [
    "# outliers exist at every occupation group category that is not 3(skilled employees)\n",
    "# and skilled employes has almost the exact sam creditabilty rating as the mean of creditability"
   ]
  },
  {
   "cell_type": "markdown",
   "metadata": {},
   "source": [
    "## No of dependents"
   ]
  },
  {
   "cell_type": "code",
   "execution_count": 53,
   "metadata": {},
   "outputs": [
    {
     "data": {
      "text/plain": [
       "<matplotlib.axes._subplots.AxesSubplot at 0x151e7124e0>"
      ]
     },
     "execution_count": 53,
     "metadata": {},
     "output_type": "execute_result"
    },
    {
     "data": {
      "text/plain": [
       "Text(0,0.5,'rate')"
      ]
     },
     "execution_count": 53,
     "metadata": {},
     "output_type": "execute_result"
    },
    {
     "data": {
      "text/plain": [
       "Text(0.5,1,'No of dependents and Creditability')"
      ]
     },
     "execution_count": 53,
     "metadata": {},
     "output_type": "execute_result"
    },
    {
     "data": {
      "image/png": "[encoded data removed]",
      "text/plain": [
       "<matplotlib.figure.Figure at 0x151e73ee10>"
      ]
     },
     "metadata": {},
     "output_type": "display_data"
    },
    {
     "data": {
      "text/plain": [
       "Creditability    0.701317\n",
       "dtype: float64"
      ]
     },
     "execution_count": 53,
     "metadata": {},
     "output_type": "execute_result"
    },
    {
     "name": "stdout",
     "output_type": "stream",
     "text": [
      "\n",
      "\n",
      "                   Creditability\n",
      "No of dependents               \n",
      "1                      0.699408\n",
      "2                      0.703226\n"
     ]
    }
   ],
   "source": [
    "dependents_plot = credit_card_data.pivot_table(index='No of dependents', values='Creditability')\n",
    "dependents_plot.plot.bar()\n",
    "plt.ylabel('rate')\n",
    "plt.title('No of dependents and Creditability')\n",
    "plt.show()\n",
    "\n",
    "dependents_plot.mean()\n",
    "\n",
    "print()\n",
    "dependents_grp = credit_card_data.groupby(['No of dependents'])[['Creditability']]\n",
    "print(\"\\n\",dependents_grp.mean())"
   ]
  },
  {
   "cell_type": "code",
   "execution_count": 54,
   "metadata": {},
   "outputs": [
    {
     "data": {
      "text/plain": [
       "{'boxes': [<matplotlib.lines.Line2D at 0x151d7d5e10>],\n",
       " 'caps': [<matplotlib.lines.Line2D at 0x151e4e2fd0>,\n",
       "  <matplotlib.lines.Line2D at 0x151e856748>],\n",
       " 'fliers': [<matplotlib.lines.Line2D at 0x151e856278>],\n",
       " 'means': [],\n",
       " 'medians': [<matplotlib.lines.Line2D at 0x151e856518>],\n",
       " 'whiskers': [<matplotlib.lines.Line2D at 0x151e4e2b70>,\n",
       "  <matplotlib.lines.Line2D at 0x151e4e2710>]}"
      ]
     },
     "execution_count": 54,
     "metadata": {},
     "output_type": "execute_result"
    },
    {
     "data": {
      "image/png": "[encoded data removed]",
      "text/plain": [
       "<matplotlib.figure.Figure at 0x151ec652e8>"
      ]
     },
     "metadata": {},
     "output_type": "display_data"
    }
   ],
   "source": [
    "matplotlib.pyplot.boxplot(credit_card_data['No of dependents'], notch=True)"
   ]
  },
  {
   "cell_type": "markdown",
   "metadata": {},
   "source": [
    "customers with 2 dependents are outliers\n",
    "# Number of Dependents have no effect of creditability. Same valuabilty as creditability. and number of dependents have the same rate."
   ]
  },
  {
   "cell_type": "markdown",
   "metadata": {},
   "source": [
    "## Telephone"
   ]
  },
  {
   "cell_type": "code",
   "execution_count": 74,
   "metadata": {},
   "outputs": [
    {
     "data": {
      "text/plain": [
       "<matplotlib.axes._subplots.AxesSubplot at 0x1a152d9e48>"
      ]
     },
     "execution_count": 74,
     "metadata": {},
     "output_type": "execute_result"
    },
    {
     "data": {
      "text/plain": [
       "Text(0,0.5,'rate')"
      ]
     },
     "execution_count": 74,
     "metadata": {},
     "output_type": "execute_result"
    },
    {
     "data": {
      "text/plain": [
       "Text(0.5,1,'Telephone and Creditability')"
      ]
     },
     "execution_count": 74,
     "metadata": {},
     "output_type": "execute_result"
    },
    {
     "data": {
      "image/png": "[encoded data removed]",
      "text/plain": [
       "<matplotlib.figure.Figure at 0x1a15a02898>"
      ]
     },
     "metadata": {},
     "output_type": "display_data"
    },
    {
     "data": {
      "text/plain": [
       "Creditability    0.703269\n",
       "dtype: float64"
      ]
     },
     "execution_count": 74,
     "metadata": {},
     "output_type": "execute_result"
    },
    {
     "name": "stdout",
     "output_type": "stream",
     "text": [
      "\n",
      "The number of cutomers in each Telephone group\n"
     ]
    },
    {
     "data": {
      "text/html": [
       "<div>\n",
       "<style scoped>\n",
       "    .dataframe tbody tr th:only-of-type {\n",
       "        vertical-align: middle;\n",
       "    }\n",
       "\n",
       "    .dataframe tbody tr th {\n",
       "        vertical-align: top;\n",
       "    }\n",
       "\n",
       "    .dataframe thead th {\n",
       "        text-align: right;\n",
       "    }\n",
       "</style>\n",
       "<table border=\"1\" class=\"dataframe\">\n",
       "  <thead>\n",
       "    <tr style=\"text-align: right;\">\n",
       "      <th></th>\n",
       "      <th>Telephone</th>\n",
       "    </tr>\n",
       "    <tr>\n",
       "      <th>Telephone</th>\n",
       "      <th></th>\n",
       "    </tr>\n",
       "  </thead>\n",
       "  <tbody>\n",
       "    <tr>\n",
       "      <th>1</th>\n",
       "      <td>596</td>\n",
       "    </tr>\n",
       "    <tr>\n",
       "      <th>2</th>\n",
       "      <td>404</td>\n",
       "    </tr>\n",
       "  </tbody>\n",
       "</table>\n",
       "</div>"
      ],
      "text/plain": [
       "           Telephone\n",
       "Telephone           \n",
       "1                596\n",
       "2                404"
      ]
     },
     "execution_count": 74,
     "metadata": {},
     "output_type": "execute_result"
    },
    {
     "name": "stdout",
     "output_type": "stream",
     "text": [
      "\n",
      "\n",
      "            Creditability\n",
      "Telephone               \n",
      "1               0.686242\n",
      "2               0.720297\n"
     ]
    }
   ],
   "source": [
    "phone_plot = credit_card_data.pivot_table(index='Telephone', values='Creditability')\n",
    "phone_plot.plot.bar()\n",
    "plt.ylabel('rate')\n",
    "plt.title('Telephone and Creditability')\n",
    "plt.show()\n",
    "\n",
    "phone_plot.mean()\n",
    "\n",
    "print()\n",
    "print(\"The number of cutomers in each Telephone group\")\n",
    "credit_card_data.groupby(['Telephone'])[['Telephone']].count()\n",
    "print()\n",
    "\n",
    "phone_grp = credit_card_data.groupby(['Telephone'])[['Creditability']]\n",
    "print(\"\\n\",phone_grp.mean())"
   ]
  },
  {
   "cell_type": "code",
   "execution_count": 56,
   "metadata": {},
   "outputs": [
    {
     "data": {
      "text/plain": [
       "{'boxes': [<matplotlib.lines.Line2D at 0x151f001f28>],\n",
       " 'caps': [<matplotlib.lines.Line2D at 0x151f00a978>,\n",
       "  <matplotlib.lines.Line2D at 0x151f00ada0>],\n",
       " 'fliers': [<matplotlib.lines.Line2D at 0x151f010630>],\n",
       " 'means': [],\n",
       " 'medians': [<matplotlib.lines.Line2D at 0x151f010208>],\n",
       " 'whiskers': [<matplotlib.lines.Line2D at 0x151f00a0b8>,\n",
       "  <matplotlib.lines.Line2D at 0x151f00a550>]}"
      ]
     },
     "execution_count": 56,
     "metadata": {},
     "output_type": "execute_result"
    },
    {
     "data": {
      "image/png": "[encoded data removed]",
      "text/plain": [
       "<matplotlib.figure.Figure at 0x151e3f96a0>"
      ]
     },
     "metadata": {},
     "output_type": "display_data"
    }
   ],
   "source": [
    "matplotlib.pyplot.boxplot(credit_card_data['Telephone'], notch=True)"
   ]
  },
  {
   "cell_type": "markdown",
   "metadata": {},
   "source": [
    "# Telephone has the same creditability mean as just creditablilty.\n",
    "# No variation in the whether the person had a telephone or not"
   ]
  },
  {
   "cell_type": "markdown",
   "metadata": {},
   "source": [
    "## Foreign Worker"
   ]
  },
  {
   "cell_type": "code",
   "execution_count": 75,
   "metadata": {},
   "outputs": [
    {
     "data": {
      "text/plain": [
       "<matplotlib.axes._subplots.AxesSubplot at 0x1a150d3860>"
      ]
     },
     "execution_count": 75,
     "metadata": {},
     "output_type": "execute_result"
    },
    {
     "data": {
      "text/plain": [
       "Text(0,0.5,'rate')"
      ]
     },
     "execution_count": 75,
     "metadata": {},
     "output_type": "execute_result"
    },
    {
     "data": {
      "text/plain": [
       "Text(0.5,1,'Foreign Worker and Creditability')"
      ]
     },
     "execution_count": 75,
     "metadata": {},
     "output_type": "execute_result"
    },
    {
     "data": {
      "image/png": "[encoded data removed]",
      "text/plain": [
       "<matplotlib.figure.Figure at 0x1a15f6d0f0>"
      ]
     },
     "metadata": {},
     "output_type": "display_data"
    },
    {
     "data": {
      "text/plain": [
       "Creditability    0.79226\n",
       "dtype: float64"
      ]
     },
     "execution_count": 75,
     "metadata": {},
     "output_type": "execute_result"
    },
    {
     "name": "stdout",
     "output_type": "stream",
     "text": [
      "\n",
      "The number of cutomers in each Foreign Worker group\n"
     ]
    },
    {
     "data": {
      "text/html": [
       "<div>\n",
       "<style scoped>\n",
       "    .dataframe tbody tr th:only-of-type {\n",
       "        vertical-align: middle;\n",
       "    }\n",
       "\n",
       "    .dataframe tbody tr th {\n",
       "        vertical-align: top;\n",
       "    }\n",
       "\n",
       "    .dataframe thead th {\n",
       "        text-align: right;\n",
       "    }\n",
       "</style>\n",
       "<table border=\"1\" class=\"dataframe\">\n",
       "  <thead>\n",
       "    <tr style=\"text-align: right;\">\n",
       "      <th></th>\n",
       "      <th>Foreign Worker</th>\n",
       "    </tr>\n",
       "    <tr>\n",
       "      <th>Foreign Worker</th>\n",
       "      <th></th>\n",
       "    </tr>\n",
       "  </thead>\n",
       "  <tbody>\n",
       "    <tr>\n",
       "      <th>1</th>\n",
       "      <td>963</td>\n",
       "    </tr>\n",
       "    <tr>\n",
       "      <th>2</th>\n",
       "      <td>37</td>\n",
       "    </tr>\n",
       "  </tbody>\n",
       "</table>\n",
       "</div>"
      ],
      "text/plain": [
       "                Foreign Worker\n",
       "Foreign Worker                \n",
       "1                          963\n",
       "2                           37"
      ]
     },
     "execution_count": 75,
     "metadata": {},
     "output_type": "execute_result"
    },
    {
     "name": "stdout",
     "output_type": "stream",
     "text": [
      "\n",
      "\n",
      "                 Creditability\n",
      "Foreign Worker               \n",
      "1                    0.692627\n",
      "2                    0.891892\n"
     ]
    }
   ],
   "source": [
    "foreign_worker_plot = credit_card_data.pivot_table(index='Foreign Worker', values='Creditability')\n",
    "foreign_worker_plot.plot.bar()\n",
    "plt.ylabel('rate')\n",
    "plt.title('Foreign Worker and Creditability')\n",
    "plt.show()\n",
    "\n",
    "foreign_worker_plot.mean()\n",
    "\n",
    "print()\n",
    "print(\"The number of cutomers in each Foreign Worker group\")\n",
    "credit_card_data.groupby(['Foreign Worker'])[['Foreign Worker']].count()\n",
    "print()\n",
    "\n",
    "foreign_worker_grp = credit_card_data.groupby(['Foreign Worker'])[['Creditability']]\n",
    "print(\"\\n\",foreign_worker_grp.mean())"
   ]
  },
  {
   "cell_type": "code",
   "execution_count": 58,
   "metadata": {},
   "outputs": [
    {
     "data": {
      "text/plain": [
       "{'boxes': [<matplotlib.lines.Line2D at 0x151f22a6a0>],\n",
       " 'caps': [<matplotlib.lines.Line2D at 0x151f2310f0>,\n",
       "  <matplotlib.lines.Line2D at 0x151f231518>],\n",
       " 'fliers': [<matplotlib.lines.Line2D at 0x151f231d68>],\n",
       " 'means': [],\n",
       " 'medians': [<matplotlib.lines.Line2D at 0x151f231940>],\n",
       " 'whiskers': [<matplotlib.lines.Line2D at 0x151f22a7f0>,\n",
       "  <matplotlib.lines.Line2D at 0x151f22ac88>]}"
      ]
     },
     "execution_count": 58,
     "metadata": {},
     "output_type": "execute_result"
    },
    {
     "data": {
      "image/png": "[encoded data removed]",
      "text/plain": [
       "<matplotlib.figure.Figure at 0x151e83f240>"
      ]
     },
     "metadata": {},
     "output_type": "display_data"
    }
   ],
   "source": [
    "matplotlib.pyplot.boxplot(credit_card_data['Foreign Worker'], notch=True)"
   ]
  },
  {
   "cell_type": "code",
   "execution_count": null,
   "metadata": {},
   "outputs": [],
   "source": [
    "# Customers that are not foreign worke is the minority of the dataset and is any outlier"
   ]
  },
  {
   "cell_type": "markdown",
   "metadata": {},
   "source": [
    "## Deleting cells"
   ]
  },
  {
   "cell_type": "code",
   "execution_count": 59,
   "metadata": {},
   "outputs": [],
   "source": [
    "#Deleting Cabin and ticket column\n",
    "credit_card_data.drop(['Duration in Current address','No of dependents','Telephone'], axis=1, inplace=True)"
   ]
  },
  {
   "cell_type": "code",
   "execution_count": 60,
   "metadata": {},
   "outputs": [
    {
     "data": {
      "text/html": [
       "<div>\n",
       "<style scoped>\n",
       "    .dataframe tbody tr th:only-of-type {\n",
       "        vertical-align: middle;\n",
       "    }\n",
       "\n",
       "    .dataframe tbody tr th {\n",
       "        vertical-align: top;\n",
       "    }\n",
       "\n",
       "    .dataframe thead th {\n",
       "        text-align: right;\n",
       "    }\n",
       "</style>\n",
       "<table border=\"1\" class=\"dataframe\">\n",
       "  <thead>\n",
       "    <tr style=\"text-align: right;\">\n",
       "      <th></th>\n",
       "      <th>Creditability</th>\n",
       "      <th>Account Balance</th>\n",
       "      <th>Duration of Credit (month)</th>\n",
       "      <th>Payment Status of Previous Credit</th>\n",
       "      <th>Purpose</th>\n",
       "      <th>Credit Amount</th>\n",
       "      <th>Value Savings/Stocks</th>\n",
       "      <th>Length of current employment</th>\n",
       "      <th>Instalment per cent</th>\n",
       "      <th>Sex &amp; Marital Status</th>\n",
       "      <th>...</th>\n",
       "      <th>Most valuable available asset</th>\n",
       "      <th>Age (years)</th>\n",
       "      <th>Concurrent Credits</th>\n",
       "      <th>Type of apartment</th>\n",
       "      <th>No of Credits at this Bank</th>\n",
       "      <th>Occupation</th>\n",
       "      <th>Foreign Worker</th>\n",
       "      <th>Credit Duration</th>\n",
       "      <th>Credit Amount Grp</th>\n",
       "      <th>Age_grp</th>\n",
       "    </tr>\n",
       "  </thead>\n",
       "  <tbody>\n",
       "    <tr>\n",
       "      <th>0</th>\n",
       "      <td>1</td>\n",
       "      <td>1</td>\n",
       "      <td>18</td>\n",
       "      <td>4</td>\n",
       "      <td>2</td>\n",
       "      <td>1049</td>\n",
       "      <td>1</td>\n",
       "      <td>2</td>\n",
       "      <td>4</td>\n",
       "      <td>2</td>\n",
       "      <td>...</td>\n",
       "      <td>2</td>\n",
       "      <td>21</td>\n",
       "      <td>3</td>\n",
       "      <td>1</td>\n",
       "      <td>1</td>\n",
       "      <td>3</td>\n",
       "      <td>1</td>\n",
       "      <td>2</td>\n",
       "      <td>1</td>\n",
       "      <td>1</td>\n",
       "    </tr>\n",
       "    <tr>\n",
       "      <th>1</th>\n",
       "      <td>1</td>\n",
       "      <td>1</td>\n",
       "      <td>9</td>\n",
       "      <td>4</td>\n",
       "      <td>0</td>\n",
       "      <td>2799</td>\n",
       "      <td>1</td>\n",
       "      <td>3</td>\n",
       "      <td>2</td>\n",
       "      <td>3</td>\n",
       "      <td>...</td>\n",
       "      <td>1</td>\n",
       "      <td>36</td>\n",
       "      <td>3</td>\n",
       "      <td>1</td>\n",
       "      <td>2</td>\n",
       "      <td>3</td>\n",
       "      <td>1</td>\n",
       "      <td>1</td>\n",
       "      <td>2</td>\n",
       "      <td>2</td>\n",
       "    </tr>\n",
       "    <tr>\n",
       "      <th>2</th>\n",
       "      <td>1</td>\n",
       "      <td>2</td>\n",
       "      <td>12</td>\n",
       "      <td>2</td>\n",
       "      <td>9</td>\n",
       "      <td>841</td>\n",
       "      <td>2</td>\n",
       "      <td>4</td>\n",
       "      <td>2</td>\n",
       "      <td>2</td>\n",
       "      <td>...</td>\n",
       "      <td>1</td>\n",
       "      <td>23</td>\n",
       "      <td>3</td>\n",
       "      <td>1</td>\n",
       "      <td>1</td>\n",
       "      <td>2</td>\n",
       "      <td>1</td>\n",
       "      <td>1</td>\n",
       "      <td>1</td>\n",
       "      <td>1</td>\n",
       "    </tr>\n",
       "    <tr>\n",
       "      <th>3</th>\n",
       "      <td>1</td>\n",
       "      <td>1</td>\n",
       "      <td>12</td>\n",
       "      <td>4</td>\n",
       "      <td>0</td>\n",
       "      <td>2122</td>\n",
       "      <td>1</td>\n",
       "      <td>3</td>\n",
       "      <td>3</td>\n",
       "      <td>3</td>\n",
       "      <td>...</td>\n",
       "      <td>1</td>\n",
       "      <td>39</td>\n",
       "      <td>3</td>\n",
       "      <td>1</td>\n",
       "      <td>2</td>\n",
       "      <td>2</td>\n",
       "      <td>2</td>\n",
       "      <td>1</td>\n",
       "      <td>1</td>\n",
       "      <td>2</td>\n",
       "    </tr>\n",
       "    <tr>\n",
       "      <th>4</th>\n",
       "      <td>1</td>\n",
       "      <td>1</td>\n",
       "      <td>12</td>\n",
       "      <td>4</td>\n",
       "      <td>0</td>\n",
       "      <td>2171</td>\n",
       "      <td>1</td>\n",
       "      <td>3</td>\n",
       "      <td>4</td>\n",
       "      <td>3</td>\n",
       "      <td>...</td>\n",
       "      <td>2</td>\n",
       "      <td>38</td>\n",
       "      <td>1</td>\n",
       "      <td>2</td>\n",
       "      <td>2</td>\n",
       "      <td>2</td>\n",
       "      <td>2</td>\n",
       "      <td>1</td>\n",
       "      <td>1</td>\n",
       "      <td>2</td>\n",
       "    </tr>\n",
       "  </tbody>\n",
       "</table>\n",
       "<p>5 rows × 21 columns</p>\n",
       "</div>"
      ],
      "text/plain": [
       "   Creditability  Account Balance  Duration of Credit (month)  \\\n",
       "0              1                1                          18   \n",
       "1              1                1                           9   \n",
       "2              1                2                          12   \n",
       "3              1                1                          12   \n",
       "4              1                1                          12   \n",
       "\n",
       "   Payment Status of Previous Credit  Purpose  Credit Amount  \\\n",
       "0                                  4        2           1049   \n",
       "1                                  4        0           2799   \n",
       "2                                  2        9            841   \n",
       "3                                  4        0           2122   \n",
       "4                                  4        0           2171   \n",
       "\n",
       "   Value Savings/Stocks  Length of current employment  Instalment per cent  \\\n",
       "0                     1                             2                    4   \n",
       "1                     1                             3                    2   \n",
       "2                     2                             4                    2   \n",
       "3                     1                             3                    3   \n",
       "4                     1                             3                    4   \n",
       "\n",
       "   Sex & Marital Status   ...    Most valuable available asset  Age (years)  \\\n",
       "0                     2   ...                                2           21   \n",
       "1                     3   ...                                1           36   \n",
       "2                     2   ...                                1           23   \n",
       "3                     3   ...                                1           39   \n",
       "4                     3   ...                                2           38   \n",
       "\n",
       "   Concurrent Credits  Type of apartment  No of Credits at this Bank  \\\n",
       "0                   3                  1                           1   \n",
       "1                   3                  1                           2   \n",
       "2                   3                  1                           1   \n",
       "3                   3                  1                           2   \n",
       "4                   1                  2                           2   \n",
       "\n",
       "   Occupation  Foreign Worker  Credit Duration Credit Amount Grp Age_grp  \n",
       "0           3               1                2                 1       1  \n",
       "1           3               1                1                 2       2  \n",
       "2           2               1                1                 1       1  \n",
       "3           2               2                1                 1       2  \n",
       "4           2               2                1                 1       2  \n",
       "\n",
       "[5 rows x 21 columns]"
      ]
     },
     "execution_count": 60,
     "metadata": {},
     "output_type": "execute_result"
    }
   ],
   "source": [
    "credit_card_data.head()"
   ]
  },
  {
   "cell_type": "code",
   "execution_count": 61,
   "metadata": {},
   "outputs": [
    {
     "name": "stdout",
     "output_type": "stream",
     "text": [
      "<class 'pandas.core.frame.DataFrame'>\n",
      "RangeIndex: 1000 entries, 0 to 999\n",
      "Data columns (total 21 columns):\n",
      "Creditability                        1000 non-null int64\n",
      "Account Balance                      1000 non-null int64\n",
      "Duration of Credit (month)           1000 non-null int64\n",
      "Payment Status of Previous Credit    1000 non-null int64\n",
      "Purpose                              1000 non-null int64\n",
      "Credit Amount                        1000 non-null int64\n",
      "Value Savings/Stocks                 1000 non-null int64\n",
      "Length of current employment         1000 non-null int64\n",
      "Instalment per cent                  1000 non-null int64\n",
      "Sex & Marital Status                 1000 non-null int64\n",
      "Guarantors                           1000 non-null int64\n",
      "Most valuable available asset        1000 non-null int64\n",
      "Age (years)                          1000 non-null int64\n",
      "Concurrent Credits                   1000 non-null int64\n",
      "Type of apartment                    1000 non-null int64\n",
      "No of Credits at this Bank           1000 non-null int64\n",
      "Occupation                           1000 non-null int64\n",
      "Foreign Worker                       1000 non-null int64\n",
      "Credit Duration                      1000 non-null category\n",
      "Credit Amount Grp                    1000 non-null category\n",
      "Age_grp                              1000 non-null category\n",
      "dtypes: category(3), int64(18)\n",
      "memory usage: 144.4 KB\n"
     ]
    }
   ],
   "source": [
    "credit_card_data.info()"
   ]
  },
  {
   "cell_type": "code",
   "execution_count": null,
   "metadata": {},
   "outputs": [],
   "source": []
  },
  {
   "cell_type": "markdown",
   "metadata": {},
   "source": [
    "# Determining what attributes are the most important and are the least dependent on each other."
   ]
  },
  {
   "cell_type": "code",
   "execution_count": 70,
   "metadata": {},
   "outputs": [
    {
     "data": {
      "text/html": [
       "<div>\n",
       "<style scoped>\n",
       "    .dataframe tbody tr th:only-of-type {\n",
       "        vertical-align: middle;\n",
       "    }\n",
       "\n",
       "    .dataframe tbody tr th {\n",
       "        vertical-align: top;\n",
       "    }\n",
       "\n",
       "    .dataframe thead th {\n",
       "        text-align: right;\n",
       "    }\n",
       "</style>\n",
       "<table border=\"1\" class=\"dataframe\">\n",
       "  <thead>\n",
       "    <tr style=\"text-align: right;\">\n",
       "      <th></th>\n",
       "      <th>Creditability</th>\n",
       "      <th>Account Balance</th>\n",
       "      <th>Duration of Credit (month)</th>\n",
       "      <th>Payment Status of Previous Credit</th>\n",
       "      <th>Purpose</th>\n",
       "      <th>Credit Amount</th>\n",
       "      <th>Value Savings/Stocks</th>\n",
       "      <th>Length of current employment</th>\n",
       "      <th>Instalment per cent</th>\n",
       "      <th>Sex &amp; Marital Status</th>\n",
       "      <th>...</th>\n",
       "      <th>Most valuable available asset</th>\n",
       "      <th>Age (years)</th>\n",
       "      <th>Concurrent Credits</th>\n",
       "      <th>Type of apartment</th>\n",
       "      <th>No of Credits at this Bank</th>\n",
       "      <th>Occupation</th>\n",
       "      <th>Foreign Worker</th>\n",
       "      <th>Credit Duration</th>\n",
       "      <th>Credit Amount Grp</th>\n",
       "      <th>Age_grp</th>\n",
       "    </tr>\n",
       "  </thead>\n",
       "  <tbody>\n",
       "    <tr>\n",
       "      <th>0</th>\n",
       "      <td>1</td>\n",
       "      <td>1</td>\n",
       "      <td>18</td>\n",
       "      <td>4</td>\n",
       "      <td>2</td>\n",
       "      <td>1049</td>\n",
       "      <td>1</td>\n",
       "      <td>2</td>\n",
       "      <td>4</td>\n",
       "      <td>2</td>\n",
       "      <td>...</td>\n",
       "      <td>2</td>\n",
       "      <td>21</td>\n",
       "      <td>3</td>\n",
       "      <td>1</td>\n",
       "      <td>1</td>\n",
       "      <td>3</td>\n",
       "      <td>1</td>\n",
       "      <td>2</td>\n",
       "      <td>1</td>\n",
       "      <td>1</td>\n",
       "    </tr>\n",
       "    <tr>\n",
       "      <th>1</th>\n",
       "      <td>1</td>\n",
       "      <td>1</td>\n",
       "      <td>9</td>\n",
       "      <td>4</td>\n",
       "      <td>0</td>\n",
       "      <td>2799</td>\n",
       "      <td>1</td>\n",
       "      <td>3</td>\n",
       "      <td>2</td>\n",
       "      <td>3</td>\n",
       "      <td>...</td>\n",
       "      <td>1</td>\n",
       "      <td>36</td>\n",
       "      <td>3</td>\n",
       "      <td>1</td>\n",
       "      <td>2</td>\n",
       "      <td>3</td>\n",
       "      <td>1</td>\n",
       "      <td>1</td>\n",
       "      <td>2</td>\n",
       "      <td>2</td>\n",
       "    </tr>\n",
       "    <tr>\n",
       "      <th>2</th>\n",
       "      <td>1</td>\n",
       "      <td>2</td>\n",
       "      <td>12</td>\n",
       "      <td>2</td>\n",
       "      <td>9</td>\n",
       "      <td>841</td>\n",
       "      <td>2</td>\n",
       "      <td>4</td>\n",
       "      <td>2</td>\n",
       "      <td>2</td>\n",
       "      <td>...</td>\n",
       "      <td>1</td>\n",
       "      <td>23</td>\n",
       "      <td>3</td>\n",
       "      <td>1</td>\n",
       "      <td>1</td>\n",
       "      <td>2</td>\n",
       "      <td>1</td>\n",
       "      <td>1</td>\n",
       "      <td>1</td>\n",
       "      <td>1</td>\n",
       "    </tr>\n",
       "    <tr>\n",
       "      <th>3</th>\n",
       "      <td>1</td>\n",
       "      <td>1</td>\n",
       "      <td>12</td>\n",
       "      <td>4</td>\n",
       "      <td>0</td>\n",
       "      <td>2122</td>\n",
       "      <td>1</td>\n",
       "      <td>3</td>\n",
       "      <td>3</td>\n",
       "      <td>3</td>\n",
       "      <td>...</td>\n",
       "      <td>1</td>\n",
       "      <td>39</td>\n",
       "      <td>3</td>\n",
       "      <td>1</td>\n",
       "      <td>2</td>\n",
       "      <td>2</td>\n",
       "      <td>2</td>\n",
       "      <td>1</td>\n",
       "      <td>1</td>\n",
       "      <td>2</td>\n",
       "    </tr>\n",
       "    <tr>\n",
       "      <th>4</th>\n",
       "      <td>1</td>\n",
       "      <td>1</td>\n",
       "      <td>12</td>\n",
       "      <td>4</td>\n",
       "      <td>0</td>\n",
       "      <td>2171</td>\n",
       "      <td>1</td>\n",
       "      <td>3</td>\n",
       "      <td>4</td>\n",
       "      <td>3</td>\n",
       "      <td>...</td>\n",
       "      <td>2</td>\n",
       "      <td>38</td>\n",
       "      <td>1</td>\n",
       "      <td>2</td>\n",
       "      <td>2</td>\n",
       "      <td>2</td>\n",
       "      <td>2</td>\n",
       "      <td>1</td>\n",
       "      <td>1</td>\n",
       "      <td>2</td>\n",
       "    </tr>\n",
       "  </tbody>\n",
       "</table>\n",
       "<p>5 rows × 21 columns</p>\n",
       "</div>"
      ],
      "text/plain": [
       "   Creditability  Account Balance  Duration of Credit (month)  \\\n",
       "0              1                1                          18   \n",
       "1              1                1                           9   \n",
       "2              1                2                          12   \n",
       "3              1                1                          12   \n",
       "4              1                1                          12   \n",
       "\n",
       "   Payment Status of Previous Credit  Purpose  Credit Amount  \\\n",
       "0                                  4        2           1049   \n",
       "1                                  4        0           2799   \n",
       "2                                  2        9            841   \n",
       "3                                  4        0           2122   \n",
       "4                                  4        0           2171   \n",
       "\n",
       "   Value Savings/Stocks  Length of current employment  Instalment per cent  \\\n",
       "0                     1                             2                    4   \n",
       "1                     1                             3                    2   \n",
       "2                     2                             4                    2   \n",
       "3                     1                             3                    3   \n",
       "4                     1                             3                    4   \n",
       "\n",
       "   Sex & Marital Status   ...    Most valuable available asset  Age (years)  \\\n",
       "0                     2   ...                                2           21   \n",
       "1                     3   ...                                1           36   \n",
       "2                     2   ...                                1           23   \n",
       "3                     3   ...                                1           39   \n",
       "4                     3   ...                                2           38   \n",
       "\n",
       "   Concurrent Credits  Type of apartment  No of Credits at this Bank  \\\n",
       "0                   3                  1                           1   \n",
       "1                   3                  1                           2   \n",
       "2                   3                  1                           1   \n",
       "3                   3                  1                           2   \n",
       "4                   1                  2                           2   \n",
       "\n",
       "   Occupation  Foreign Worker  Credit Duration Credit Amount Grp Age_grp  \n",
       "0           3               1                2                 1       1  \n",
       "1           3               1                1                 2       2  \n",
       "2           2               1                1                 1       1  \n",
       "3           2               2                1                 1       2  \n",
       "4           2               2                1                 1       2  \n",
       "\n",
       "[5 rows x 21 columns]"
      ]
     },
     "execution_count": 70,
     "metadata": {},
     "output_type": "execute_result"
    }
   ],
   "source": [
    "credit_card_data.head()"
   ]
  },
  {
   "cell_type": "code",
   "execution_count": 71,
   "metadata": {},
   "outputs": [
    {
     "data": {
      "text/html": [
       "<div>\n",
       "<style scoped>\n",
       "    .dataframe tbody tr th:only-of-type {\n",
       "        vertical-align: middle;\n",
       "    }\n",
       "\n",
       "    .dataframe tbody tr th {\n",
       "        vertical-align: top;\n",
       "    }\n",
       "\n",
       "    .dataframe thead th {\n",
       "        text-align: right;\n",
       "    }\n",
       "</style>\n",
       "<table border=\"1\" class=\"dataframe\">\n",
       "  <thead>\n",
       "    <tr style=\"text-align: right;\">\n",
       "      <th></th>\n",
       "      <th>Creditability</th>\n",
       "      <th>Account Balance</th>\n",
       "      <th>Duration of Credit (month)</th>\n",
       "      <th>Payment Status of Previous Credit</th>\n",
       "      <th>Purpose</th>\n",
       "      <th>Credit Amount</th>\n",
       "      <th>Value Savings/Stocks</th>\n",
       "      <th>Length of current employment</th>\n",
       "      <th>Instalment per cent</th>\n",
       "      <th>Sex &amp; Marital Status</th>\n",
       "      <th>Guarantors</th>\n",
       "      <th>Most valuable available asset</th>\n",
       "      <th>Age (years)</th>\n",
       "      <th>Concurrent Credits</th>\n",
       "      <th>Type of apartment</th>\n",
       "      <th>No of Credits at this Bank</th>\n",
       "      <th>Occupation</th>\n",
       "      <th>Foreign Worker</th>\n",
       "    </tr>\n",
       "  </thead>\n",
       "  <tbody>\n",
       "    <tr>\n",
       "      <th>Creditability</th>\n",
       "      <td>1.000000</td>\n",
       "      <td>0.350847</td>\n",
       "      <td>-0.214927</td>\n",
       "      <td>0.228785</td>\n",
       "      <td>-0.017979</td>\n",
       "      <td>-0.154740</td>\n",
       "      <td>0.178943</td>\n",
       "      <td>0.116002</td>\n",
       "      <td>-0.072404</td>\n",
       "      <td>0.088184</td>\n",
       "      <td>0.025137</td>\n",
       "      <td>-0.142612</td>\n",
       "      <td>0.091272</td>\n",
       "      <td>0.109844</td>\n",
       "      <td>0.018119</td>\n",
       "      <td>0.045732</td>\n",
       "      <td>-0.032735</td>\n",
       "      <td>0.082079</td>\n",
       "    </tr>\n",
       "    <tr>\n",
       "      <th>Account Balance</th>\n",
       "      <td>0.350847</td>\n",
       "      <td>1.000000</td>\n",
       "      <td>-0.072013</td>\n",
       "      <td>0.192191</td>\n",
       "      <td>0.028783</td>\n",
       "      <td>-0.042695</td>\n",
       "      <td>0.222867</td>\n",
       "      <td>0.106339</td>\n",
       "      <td>-0.005280</td>\n",
       "      <td>0.043261</td>\n",
       "      <td>-0.127737</td>\n",
       "      <td>-0.032260</td>\n",
       "      <td>0.058631</td>\n",
       "      <td>0.068274</td>\n",
       "      <td>0.023335</td>\n",
       "      <td>0.076005</td>\n",
       "      <td>0.040663</td>\n",
       "      <td>-0.035187</td>\n",
       "    </tr>\n",
       "    <tr>\n",
       "      <th>Duration of Credit (month)</th>\n",
       "      <td>-0.214927</td>\n",
       "      <td>-0.072013</td>\n",
       "      <td>1.000000</td>\n",
       "      <td>-0.077186</td>\n",
       "      <td>0.147492</td>\n",
       "      <td>0.624988</td>\n",
       "      <td>0.047661</td>\n",
       "      <td>0.057381</td>\n",
       "      <td>0.074749</td>\n",
       "      <td>0.014789</td>\n",
       "      <td>-0.024490</td>\n",
       "      <td>0.303971</td>\n",
       "      <td>-0.037550</td>\n",
       "      <td>-0.062884</td>\n",
       "      <td>0.153126</td>\n",
       "      <td>-0.011284</td>\n",
       "      <td>0.210910</td>\n",
       "      <td>-0.134680</td>\n",
       "    </tr>\n",
       "    <tr>\n",
       "      <th>Payment Status of Previous Credit</th>\n",
       "      <td>0.228785</td>\n",
       "      <td>0.192191</td>\n",
       "      <td>-0.077186</td>\n",
       "      <td>1.000000</td>\n",
       "      <td>-0.090336</td>\n",
       "      <td>-0.059915</td>\n",
       "      <td>0.039058</td>\n",
       "      <td>0.138225</td>\n",
       "      <td>0.044375</td>\n",
       "      <td>0.042171</td>\n",
       "      <td>-0.040676</td>\n",
       "      <td>-0.053777</td>\n",
       "      <td>0.146337</td>\n",
       "      <td>0.159957</td>\n",
       "      <td>0.061428</td>\n",
       "      <td>0.437066</td>\n",
       "      <td>0.010350</td>\n",
       "      <td>0.028554</td>\n",
       "    </tr>\n",
       "    <tr>\n",
       "      <th>Purpose</th>\n",
       "      <td>-0.017979</td>\n",
       "      <td>0.028783</td>\n",
       "      <td>0.147492</td>\n",
       "      <td>-0.090336</td>\n",
       "      <td>1.000000</td>\n",
       "      <td>0.068480</td>\n",
       "      <td>-0.018684</td>\n",
       "      <td>0.016013</td>\n",
       "      <td>0.048369</td>\n",
       "      <td>0.000157</td>\n",
       "      <td>-0.017607</td>\n",
       "      <td>0.010966</td>\n",
       "      <td>-0.000892</td>\n",
       "      <td>-0.100230</td>\n",
       "      <td>0.013495</td>\n",
       "      <td>0.054935</td>\n",
       "      <td>0.008085</td>\n",
       "      <td>-0.113244</td>\n",
       "    </tr>\n",
       "    <tr>\n",
       "      <th>Credit Amount</th>\n",
       "      <td>-0.154740</td>\n",
       "      <td>-0.042695</td>\n",
       "      <td>0.624988</td>\n",
       "      <td>-0.059915</td>\n",
       "      <td>0.068480</td>\n",
       "      <td>1.000000</td>\n",
       "      <td>0.064632</td>\n",
       "      <td>-0.008376</td>\n",
       "      <td>-0.271322</td>\n",
       "      <td>-0.016094</td>\n",
       "      <td>-0.027831</td>\n",
       "      <td>0.311602</td>\n",
       "      <td>0.032273</td>\n",
       "      <td>-0.069392</td>\n",
       "      <td>0.133024</td>\n",
       "      <td>0.020785</td>\n",
       "      <td>0.285393</td>\n",
       "      <td>-0.030662</td>\n",
       "    </tr>\n",
       "    <tr>\n",
       "      <th>Value Savings/Stocks</th>\n",
       "      <td>0.178943</td>\n",
       "      <td>0.222867</td>\n",
       "      <td>0.047661</td>\n",
       "      <td>0.039058</td>\n",
       "      <td>-0.018684</td>\n",
       "      <td>0.064632</td>\n",
       "      <td>1.000000</td>\n",
       "      <td>0.120950</td>\n",
       "      <td>0.021993</td>\n",
       "      <td>0.017349</td>\n",
       "      <td>-0.105069</td>\n",
       "      <td>0.018948</td>\n",
       "      <td>0.083434</td>\n",
       "      <td>0.001908</td>\n",
       "      <td>0.006644</td>\n",
       "      <td>-0.021644</td>\n",
       "      <td>0.011709</td>\n",
       "      <td>0.010450</td>\n",
       "    </tr>\n",
       "    <tr>\n",
       "      <th>Length of current employment</th>\n",
       "      <td>0.116002</td>\n",
       "      <td>0.106339</td>\n",
       "      <td>0.057381</td>\n",
       "      <td>0.138225</td>\n",
       "      <td>0.016013</td>\n",
       "      <td>-0.008376</td>\n",
       "      <td>0.120950</td>\n",
       "      <td>1.000000</td>\n",
       "      <td>0.126161</td>\n",
       "      <td>0.111278</td>\n",
       "      <td>-0.008116</td>\n",
       "      <td>0.087187</td>\n",
       "      <td>0.259116</td>\n",
       "      <td>-0.007279</td>\n",
       "      <td>0.115077</td>\n",
       "      <td>0.125791</td>\n",
       "      <td>0.101225</td>\n",
       "      <td>-0.022845</td>\n",
       "    </tr>\n",
       "    <tr>\n",
       "      <th>Instalment per cent</th>\n",
       "      <td>-0.072404</td>\n",
       "      <td>-0.005280</td>\n",
       "      <td>0.074749</td>\n",
       "      <td>0.044375</td>\n",
       "      <td>0.048369</td>\n",
       "      <td>-0.271322</td>\n",
       "      <td>0.021993</td>\n",
       "      <td>0.126161</td>\n",
       "      <td>1.000000</td>\n",
       "      <td>0.119308</td>\n",
       "      <td>-0.011398</td>\n",
       "      <td>0.053391</td>\n",
       "      <td>0.057271</td>\n",
       "      <td>0.007894</td>\n",
       "      <td>0.091229</td>\n",
       "      <td>0.021669</td>\n",
       "      <td>0.097755</td>\n",
       "      <td>-0.094762</td>\n",
       "    </tr>\n",
       "    <tr>\n",
       "      <th>Sex &amp; Marital Status</th>\n",
       "      <td>0.088184</td>\n",
       "      <td>0.043261</td>\n",
       "      <td>0.014789</td>\n",
       "      <td>0.042171</td>\n",
       "      <td>0.000157</td>\n",
       "      <td>-0.016094</td>\n",
       "      <td>0.017349</td>\n",
       "      <td>0.111278</td>\n",
       "      <td>0.119308</td>\n",
       "      <td>1.000000</td>\n",
       "      <td>0.050634</td>\n",
       "      <td>-0.006940</td>\n",
       "      <td>0.005150</td>\n",
       "      <td>-0.026747</td>\n",
       "      <td>0.098934</td>\n",
       "      <td>0.064672</td>\n",
       "      <td>-0.011956</td>\n",
       "      <td>0.073103</td>\n",
       "    </tr>\n",
       "    <tr>\n",
       "      <th>Guarantors</th>\n",
       "      <td>0.025137</td>\n",
       "      <td>-0.127737</td>\n",
       "      <td>-0.024490</td>\n",
       "      <td>-0.040676</td>\n",
       "      <td>-0.017607</td>\n",
       "      <td>-0.027831</td>\n",
       "      <td>-0.105069</td>\n",
       "      <td>-0.008116</td>\n",
       "      <td>-0.011398</td>\n",
       "      <td>0.050634</td>\n",
       "      <td>1.000000</td>\n",
       "      <td>-0.155450</td>\n",
       "      <td>-0.029826</td>\n",
       "      <td>-0.038235</td>\n",
       "      <td>-0.065449</td>\n",
       "      <td>-0.025447</td>\n",
       "      <td>-0.057963</td>\n",
       "      <td>0.140190</td>\n",
       "    </tr>\n",
       "    <tr>\n",
       "      <th>Most valuable available asset</th>\n",
       "      <td>-0.142612</td>\n",
       "      <td>-0.032260</td>\n",
       "      <td>0.303971</td>\n",
       "      <td>-0.053777</td>\n",
       "      <td>0.010966</td>\n",
       "      <td>0.311602</td>\n",
       "      <td>0.018948</td>\n",
       "      <td>0.087187</td>\n",
       "      <td>0.053391</td>\n",
       "      <td>-0.006940</td>\n",
       "      <td>-0.155450</td>\n",
       "      <td>1.000000</td>\n",
       "      <td>0.074551</td>\n",
       "      <td>-0.107593</td>\n",
       "      <td>0.342969</td>\n",
       "      <td>-0.007765</td>\n",
       "      <td>0.276149</td>\n",
       "      <td>-0.132462</td>\n",
       "    </tr>\n",
       "    <tr>\n",
       "      <th>Age (years)</th>\n",
       "      <td>0.091272</td>\n",
       "      <td>0.058631</td>\n",
       "      <td>-0.037550</td>\n",
       "      <td>0.146337</td>\n",
       "      <td>-0.000892</td>\n",
       "      <td>0.032273</td>\n",
       "      <td>0.083434</td>\n",
       "      <td>0.259116</td>\n",
       "      <td>0.057271</td>\n",
       "      <td>0.005150</td>\n",
       "      <td>-0.029826</td>\n",
       "      <td>0.074551</td>\n",
       "      <td>1.000000</td>\n",
       "      <td>-0.030472</td>\n",
       "      <td>0.303346</td>\n",
       "      <td>0.150718</td>\n",
       "      <td>0.015383</td>\n",
       "      <td>0.013981</td>\n",
       "    </tr>\n",
       "    <tr>\n",
       "      <th>Concurrent Credits</th>\n",
       "      <td>0.109844</td>\n",
       "      <td>0.068274</td>\n",
       "      <td>-0.062884</td>\n",
       "      <td>0.159957</td>\n",
       "      <td>-0.100230</td>\n",
       "      <td>-0.069392</td>\n",
       "      <td>0.001908</td>\n",
       "      <td>-0.007279</td>\n",
       "      <td>0.007894</td>\n",
       "      <td>-0.026747</td>\n",
       "      <td>-0.038235</td>\n",
       "      <td>-0.107593</td>\n",
       "      <td>-0.030472</td>\n",
       "      <td>1.000000</td>\n",
       "      <td>-0.097398</td>\n",
       "      <td>-0.055810</td>\n",
       "      <td>0.006077</td>\n",
       "      <td>0.007700</td>\n",
       "    </tr>\n",
       "    <tr>\n",
       "      <th>Type of apartment</th>\n",
       "      <td>0.018119</td>\n",
       "      <td>0.023335</td>\n",
       "      <td>0.153126</td>\n",
       "      <td>0.061428</td>\n",
       "      <td>0.013495</td>\n",
       "      <td>0.133024</td>\n",
       "      <td>0.006644</td>\n",
       "      <td>0.115077</td>\n",
       "      <td>0.091229</td>\n",
       "      <td>0.098934</td>\n",
       "      <td>-0.065449</td>\n",
       "      <td>0.342969</td>\n",
       "      <td>0.303346</td>\n",
       "      <td>-0.097398</td>\n",
       "      <td>1.000000</td>\n",
       "      <td>0.050020</td>\n",
       "      <td>0.104243</td>\n",
       "      <td>-0.083336</td>\n",
       "    </tr>\n",
       "    <tr>\n",
       "      <th>No of Credits at this Bank</th>\n",
       "      <td>0.045732</td>\n",
       "      <td>0.076005</td>\n",
       "      <td>-0.011284</td>\n",
       "      <td>0.437066</td>\n",
       "      <td>0.054935</td>\n",
       "      <td>0.020785</td>\n",
       "      <td>-0.021644</td>\n",
       "      <td>0.125791</td>\n",
       "      <td>0.021669</td>\n",
       "      <td>0.064672</td>\n",
       "      <td>-0.025447</td>\n",
       "      <td>-0.007765</td>\n",
       "      <td>0.150718</td>\n",
       "      <td>-0.055810</td>\n",
       "      <td>0.050020</td>\n",
       "      <td>1.000000</td>\n",
       "      <td>-0.026321</td>\n",
       "      <td>-0.018893</td>\n",
       "    </tr>\n",
       "    <tr>\n",
       "      <th>Occupation</th>\n",
       "      <td>-0.032735</td>\n",
       "      <td>0.040663</td>\n",
       "      <td>0.210910</td>\n",
       "      <td>0.010350</td>\n",
       "      <td>0.008085</td>\n",
       "      <td>0.285393</td>\n",
       "      <td>0.011709</td>\n",
       "      <td>0.101225</td>\n",
       "      <td>0.097755</td>\n",
       "      <td>-0.011956</td>\n",
       "      <td>-0.057963</td>\n",
       "      <td>0.276149</td>\n",
       "      <td>0.015383</td>\n",
       "      <td>0.006077</td>\n",
       "      <td>0.104243</td>\n",
       "      <td>-0.026321</td>\n",
       "      <td>1.000000</td>\n",
       "      <td>-0.092835</td>\n",
       "    </tr>\n",
       "    <tr>\n",
       "      <th>Foreign Worker</th>\n",
       "      <td>0.082079</td>\n",
       "      <td>-0.035187</td>\n",
       "      <td>-0.134680</td>\n",
       "      <td>0.028554</td>\n",
       "      <td>-0.113244</td>\n",
       "      <td>-0.030662</td>\n",
       "      <td>0.010450</td>\n",
       "      <td>-0.022845</td>\n",
       "      <td>-0.094762</td>\n",
       "      <td>0.073103</td>\n",
       "      <td>0.140190</td>\n",
       "      <td>-0.132462</td>\n",
       "      <td>0.013981</td>\n",
       "      <td>0.007700</td>\n",
       "      <td>-0.083336</td>\n",
       "      <td>-0.018893</td>\n",
       "      <td>-0.092835</td>\n",
       "      <td>1.000000</td>\n",
       "    </tr>\n",
       "  </tbody>\n",
       "</table>\n",
       "</div>"
      ],
      "text/plain": [
       "                                   Creditability  Account Balance  \\\n",
       "Creditability                           1.000000         0.350847   \n",
       "Account Balance                         0.350847         1.000000   \n",
       "Duration of Credit (month)             -0.214927        -0.072013   \n",
       "Payment Status of Previous Credit       0.228785         0.192191   \n",
       "Purpose                                -0.017979         0.028783   \n",
       "Credit Amount                          -0.154740        -0.042695   \n",
       "Value Savings/Stocks                    0.178943         0.222867   \n",
       "Length of current employment            0.116002         0.106339   \n",
       "Instalment per cent                    -0.072404        -0.005280   \n",
       "Sex & Marital Status                    0.088184         0.043261   \n",
       "Guarantors                              0.025137        -0.127737   \n",
       "Most valuable available asset          -0.142612        -0.032260   \n",
       "Age (years)                             0.091272         0.058631   \n",
       "Concurrent Credits                      0.109844         0.068274   \n",
       "Type of apartment                       0.018119         0.023335   \n",
       "No of Credits at this Bank              0.045732         0.076005   \n",
       "Occupation                             -0.032735         0.040663   \n",
       "Foreign Worker                          0.082079        -0.035187   \n",
       "\n",
       "                                   Duration of Credit (month)  \\\n",
       "Creditability                                       -0.214927   \n",
       "Account Balance                                     -0.072013   \n",
       "Duration of Credit (month)                           1.000000   \n",
       "Payment Status of Previous Credit                   -0.077186   \n",
       "Purpose                                              0.147492   \n",
       "Credit Amount                                        0.624988   \n",
       "Value Savings/Stocks                                 0.047661   \n",
       "Length of current employment                         0.057381   \n",
       "Instalment per cent                                  0.074749   \n",
       "Sex & Marital Status                                 0.014789   \n",
       "Guarantors                                          -0.024490   \n",
       "Most valuable available asset                        0.303971   \n",
       "Age (years)                                         -0.037550   \n",
       "Concurrent Credits                                  -0.062884   \n",
       "Type of apartment                                    0.153126   \n",
       "No of Credits at this Bank                          -0.011284   \n",
       "Occupation                                           0.210910   \n",
       "Foreign Worker                                      -0.134680   \n",
       "\n",
       "                                   Payment Status of Previous Credit  \\\n",
       "Creditability                                               0.228785   \n",
       "Account Balance                                             0.192191   \n",
       "Duration of Credit (month)                                 -0.077186   \n",
       "Payment Status of Previous Credit                           1.000000   \n",
       "Purpose                                                    -0.090336   \n",
       "Credit Amount                                              -0.059915   \n",
       "Value Savings/Stocks                                        0.039058   \n",
       "Length of current employment                                0.138225   \n",
       "Instalment per cent                                         0.044375   \n",
       "Sex & Marital Status                                        0.042171   \n",
       "Guarantors                                                 -0.040676   \n",
       "Most valuable available asset                              -0.053777   \n",
       "Age (years)                                                 0.146337   \n",
       "Concurrent Credits                                          0.159957   \n",
       "Type of apartment                                           0.061428   \n",
       "No of Credits at this Bank                                  0.437066   \n",
       "Occupation                                                  0.010350   \n",
       "Foreign Worker                                              0.028554   \n",
       "\n",
       "                                    Purpose  Credit Amount  \\\n",
       "Creditability                     -0.017979      -0.154740   \n",
       "Account Balance                    0.028783      -0.042695   \n",
       "Duration of Credit (month)         0.147492       0.624988   \n",
       "Payment Status of Previous Credit -0.090336      -0.059915   \n",
       "Purpose                            1.000000       0.068480   \n",
       "Credit Amount                      0.068480       1.000000   \n",
       "Value Savings/Stocks              -0.018684       0.064632   \n",
       "Length of current employment       0.016013      -0.008376   \n",
       "Instalment per cent                0.048369      -0.271322   \n",
       "Sex & Marital Status               0.000157      -0.016094   \n",
       "Guarantors                        -0.017607      -0.027831   \n",
       "Most valuable available asset      0.010966       0.311602   \n",
       "Age (years)                       -0.000892       0.032273   \n",
       "Concurrent Credits                -0.100230      -0.069392   \n",
       "Type of apartment                  0.013495       0.133024   \n",
       "No of Credits at this Bank         0.054935       0.020785   \n",
       "Occupation                         0.008085       0.285393   \n",
       "Foreign Worker                    -0.113244      -0.030662   \n",
       "\n",
       "                                   Value Savings/Stocks  \\\n",
       "Creditability                                  0.178943   \n",
       "Account Balance                                0.222867   \n",
       "Duration of Credit (month)                     0.047661   \n",
       "Payment Status of Previous Credit              0.039058   \n",
       "Purpose                                       -0.018684   \n",
       "Credit Amount                                  0.064632   \n",
       "Value Savings/Stocks                           1.000000   \n",
       "Length of current employment                   0.120950   \n",
       "Instalment per cent                            0.021993   \n",
       "Sex & Marital Status                           0.017349   \n",
       "Guarantors                                    -0.105069   \n",
       "Most valuable available asset                  0.018948   \n",
       "Age (years)                                    0.083434   \n",
       "Concurrent Credits                             0.001908   \n",
       "Type of apartment                              0.006644   \n",
       "No of Credits at this Bank                    -0.021644   \n",
       "Occupation                                     0.011709   \n",
       "Foreign Worker                                 0.010450   \n",
       "\n",
       "                                   Length of current employment  \\\n",
       "Creditability                                          0.116002   \n",
       "Account Balance                                        0.106339   \n",
       "Duration of Credit (month)                             0.057381   \n",
       "Payment Status of Previous Credit                      0.138225   \n",
       "Purpose                                                0.016013   \n",
       "Credit Amount                                         -0.008376   \n",
       "Value Savings/Stocks                                   0.120950   \n",
       "Length of current employment                           1.000000   \n",
       "Instalment per cent                                    0.126161   \n",
       "Sex & Marital Status                                   0.111278   \n",
       "Guarantors                                            -0.008116   \n",
       "Most valuable available asset                          0.087187   \n",
       "Age (years)                                            0.259116   \n",
       "Concurrent Credits                                    -0.007279   \n",
       "Type of apartment                                      0.115077   \n",
       "No of Credits at this Bank                             0.125791   \n",
       "Occupation                                             0.101225   \n",
       "Foreign Worker                                        -0.022845   \n",
       "\n",
       "                                   Instalment per cent  Sex & Marital Status  \\\n",
       "Creditability                                -0.072404              0.088184   \n",
       "Account Balance                              -0.005280              0.043261   \n",
       "Duration of Credit (month)                    0.074749              0.014789   \n",
       "Payment Status of Previous Credit             0.044375              0.042171   \n",
       "Purpose                                       0.048369              0.000157   \n",
       "Credit Amount                                -0.271322             -0.016094   \n",
       "Value Savings/Stocks                          0.021993              0.017349   \n",
       "Length of current employment                  0.126161              0.111278   \n",
       "Instalment per cent                           1.000000              0.119308   \n",
       "Sex & Marital Status                          0.119308              1.000000   \n",
       "Guarantors                                   -0.011398              0.050634   \n",
       "Most valuable available asset                 0.053391             -0.006940   \n",
       "Age (years)                                   0.057271              0.005150   \n",
       "Concurrent Credits                            0.007894             -0.026747   \n",
       "Type of apartment                             0.091229              0.098934   \n",
       "No of Credits at this Bank                    0.021669              0.064672   \n",
       "Occupation                                    0.097755             -0.011956   \n",
       "Foreign Worker                               -0.094762              0.073103   \n",
       "\n",
       "                                   Guarantors  Most valuable available asset  \\\n",
       "Creditability                        0.025137                      -0.142612   \n",
       "Account Balance                     -0.127737                      -0.032260   \n",
       "Duration of Credit (month)          -0.024490                       0.303971   \n",
       "Payment Status of Previous Credit   -0.040676                      -0.053777   \n",
       "Purpose                             -0.017607                       0.010966   \n",
       "Credit Amount                       -0.027831                       0.311602   \n",
       "Value Savings/Stocks                -0.105069                       0.018948   \n",
       "Length of current employment        -0.008116                       0.087187   \n",
       "Instalment per cent                 -0.011398                       0.053391   \n",
       "Sex & Marital Status                 0.050634                      -0.006940   \n",
       "Guarantors                           1.000000                      -0.155450   \n",
       "Most valuable available asset       -0.155450                       1.000000   \n",
       "Age (years)                         -0.029826                       0.074551   \n",
       "Concurrent Credits                  -0.038235                      -0.107593   \n",
       "Type of apartment                   -0.065449                       0.342969   \n",
       "No of Credits at this Bank          -0.025447                      -0.007765   \n",
       "Occupation                          -0.057963                       0.276149   \n",
       "Foreign Worker                       0.140190                      -0.132462   \n",
       "\n",
       "                                   Age (years)  Concurrent Credits  \\\n",
       "Creditability                         0.091272            0.109844   \n",
       "Account Balance                       0.058631            0.068274   \n",
       "Duration of Credit (month)           -0.037550           -0.062884   \n",
       "Payment Status of Previous Credit     0.146337            0.159957   \n",
       "Purpose                              -0.000892           -0.100230   \n",
       "Credit Amount                         0.032273           -0.069392   \n",
       "Value Savings/Stocks                  0.083434            0.001908   \n",
       "Length of current employment          0.259116           -0.007279   \n",
       "Instalment per cent                   0.057271            0.007894   \n",
       "Sex & Marital Status                  0.005150           -0.026747   \n",
       "Guarantors                           -0.029826           -0.038235   \n",
       "Most valuable available asset         0.074551           -0.107593   \n",
       "Age (years)                           1.000000           -0.030472   \n",
       "Concurrent Credits                   -0.030472            1.000000   \n",
       "Type of apartment                     0.303346           -0.097398   \n",
       "No of Credits at this Bank            0.150718           -0.055810   \n",
       "Occupation                            0.015383            0.006077   \n",
       "Foreign Worker                        0.013981            0.007700   \n",
       "\n",
       "                                   Type of apartment  \\\n",
       "Creditability                               0.018119   \n",
       "Account Balance                             0.023335   \n",
       "Duration of Credit (month)                  0.153126   \n",
       "Payment Status of Previous Credit           0.061428   \n",
       "Purpose                                     0.013495   \n",
       "Credit Amount                               0.133024   \n",
       "Value Savings/Stocks                        0.006644   \n",
       "Length of current employment                0.115077   \n",
       "Instalment per cent                         0.091229   \n",
       "Sex & Marital Status                        0.098934   \n",
       "Guarantors                                 -0.065449   \n",
       "Most valuable available asset               0.342969   \n",
       "Age (years)                                 0.303346   \n",
       "Concurrent Credits                         -0.097398   \n",
       "Type of apartment                           1.000000   \n",
       "No of Credits at this Bank                  0.050020   \n",
       "Occupation                                  0.104243   \n",
       "Foreign Worker                             -0.083336   \n",
       "\n",
       "                                   No of Credits at this Bank  Occupation  \\\n",
       "Creditability                                        0.045732   -0.032735   \n",
       "Account Balance                                      0.076005    0.040663   \n",
       "Duration of Credit (month)                          -0.011284    0.210910   \n",
       "Payment Status of Previous Credit                    0.437066    0.010350   \n",
       "Purpose                                              0.054935    0.008085   \n",
       "Credit Amount                                        0.020785    0.285393   \n",
       "Value Savings/Stocks                                -0.021644    0.011709   \n",
       "Length of current employment                         0.125791    0.101225   \n",
       "Instalment per cent                                  0.021669    0.097755   \n",
       "Sex & Marital Status                                 0.064672   -0.011956   \n",
       "Guarantors                                          -0.025447   -0.057963   \n",
       "Most valuable available asset                       -0.007765    0.276149   \n",
       "Age (years)                                          0.150718    0.015383   \n",
       "Concurrent Credits                                  -0.055810    0.006077   \n",
       "Type of apartment                                    0.050020    0.104243   \n",
       "No of Credits at this Bank                           1.000000   -0.026321   \n",
       "Occupation                                          -0.026321    1.000000   \n",
       "Foreign Worker                                      -0.018893   -0.092835   \n",
       "\n",
       "                                   Foreign Worker  \n",
       "Creditability                            0.082079  \n",
       "Account Balance                         -0.035187  \n",
       "Duration of Credit (month)              -0.134680  \n",
       "Payment Status of Previous Credit        0.028554  \n",
       "Purpose                                 -0.113244  \n",
       "Credit Amount                           -0.030662  \n",
       "Value Savings/Stocks                     0.010450  \n",
       "Length of current employment            -0.022845  \n",
       "Instalment per cent                     -0.094762  \n",
       "Sex & Marital Status                     0.073103  \n",
       "Guarantors                               0.140190  \n",
       "Most valuable available asset           -0.132462  \n",
       "Age (years)                              0.013981  \n",
       "Concurrent Credits                       0.007700  \n",
       "Type of apartment                       -0.083336  \n",
       "No of Credits at this Bank              -0.018893  \n",
       "Occupation                              -0.092835  \n",
       "Foreign Worker                           1.000000  "
      ]
     },
     "execution_count": 71,
     "metadata": {},
     "output_type": "execute_result"
    }
   ],
   "source": [
    "credit_card_data.corr()"
   ]
  },
  {
   "cell_type": "code",
   "execution_count": 72,
   "metadata": {},
   "outputs": [
    {
     "name": "stdout",
     "output_type": "stream",
     "text": [
      "               Creditability\n",
      "Creditability            1.0\n"
     ]
    }
   ],
   "source": [
    "print(credit_card_data[[\"Creditability\", 'Age_grp']].corr())"
   ]
  },
  {
   "cell_type": "markdown",
   "metadata": {},
   "source": [
    "## Understanding the correlations\n",
    "As shown above the Account Balance has the highest correlation with the Credibility with 0.35 and type of apartment has the least correlation with Credibility of 0.018<br><br>\n",
    "looking at the attribute correlation is credit Amt and Duration have the highest correlation among the attributes. when designing the regression models it is important to have the independent variable not highly correlated with each other hence we will only be using one of\n"
   ]
  },
  {
   "cell_type": "markdown",
   "metadata": {},
   "source": [
    "## From the heat map and the correlation chart there is very little correlation against creditability. the highest is .35 correlation  with Account Balance and creditabilty and the least correlated is purpose with -0.017\n",
    "\n",
    "we deleted Telephone and Dependency. will there is very little correlation between any of the columns and Creditbilty these columns have very little variation between the values found within the columns"
   ]
  },
  {
   "cell_type": "code",
   "execution_count": 78,
   "metadata": {},
   "outputs": [],
   "source": [
    "from sklearn import tree"
   ]
  },
  {
   "cell_type": "markdown",
   "metadata": {},
   "source": [
    "# Baseline model first\n",
    "training one model on the training set using the entire feature set adn evaluating its performance"
   ]
  },
  {
   "cell_type": "code",
   "execution_count": 92,
   "metadata": {},
   "outputs": [],
   "source": [
    "X = credit_card_data[[\"Account Balance\",\"Payment Status of Previous Credit\",\"Purpose\",\"Value Savings/Stocks\",\n",
    "                     \"Length of current employment\", \"Instalment per cent\", \"Sex & Marital Status\",\n",
    "                     \"Guarantors\", \"Most valuable available asset\", \"Concurrent Credits\", \"Type of apartment\",\n",
    "                     \"No of Credits at this Bank\", \"Occupation\", \"Foreign Worker\",\n",
    "                     \"Credit Duration\", \"Credit Amount Grp\", \"Age_grp\"]]\n",
    "Y = credit_card_data['Creditability']"
   ]
  },
  {
   "cell_type": "code",
   "execution_count": 93,
   "metadata": {},
   "outputs": [],
   "source": [
    "from sklearn.model_selection import train_test_split\n",
    "X_train, X_test, Y_train, Y_test = train_test_split(X, Y, test_size = 0.2, random_state = 0)"
   ]
  },
  {
   "cell_type": "code",
   "execution_count": 94,
   "metadata": {},
   "outputs": [],
   "source": [
    "clf = tree.DecisionTreeClassifier()\n",
    "clf = clf.fit(X_train, Y_train)"
   ]
  },
  {
   "cell_type": "code",
   "execution_count": 95,
   "metadata": {},
   "outputs": [
    {
     "name": "stdout",
     "output_type": "stream",
     "text": [
      "200\n"
     ]
    },
    {
     "data": {
      "text/plain": [
       "993    0\n",
       "859    0\n",
       "298    1\n",
       "553    1\n",
       "672    1\n",
       "971    0\n",
       "27     1\n",
       "231    1\n",
       "306    1\n",
       "706    1\n",
       "496    1\n",
       "558    1\n",
       "784    0\n",
       "239    1\n",
       "578    0\n",
       "55     1\n",
       "906    0\n",
       "175    1\n",
       "14     1\n",
       "77     1\n",
       "31     1\n",
       "481    1\n",
       "310    1\n",
       "311    1\n",
       "883    0\n",
       "788    0\n",
       "45     0\n",
       "103    1\n",
       "760    0\n",
       "1      1\n",
       "      ..\n",
       "945    0\n",
       "795    0\n",
       "145    1\n",
       "826    0\n",
       "492    1\n",
       "751    0\n",
       "240    1\n",
       "648    1\n",
       "886    0\n",
       "144    1\n",
       "767    0\n",
       "999    0\n",
       "467    1\n",
       "315    1\n",
       "989    0\n",
       "922    0\n",
       "717    0\n",
       "458    1\n",
       "773    0\n",
       "204    1\n",
       "834    0\n",
       "832    0\n",
       "435    1\n",
       "5      1\n",
       "769    0\n",
       "679    1\n",
       "722    1\n",
       "215    1\n",
       "653    1\n",
       "150    1\n",
       "Name: Creditability, Length: 200, dtype: int64"
      ]
     },
     "execution_count": 95,
     "metadata": {},
     "output_type": "execute_result"
    }
   ],
   "source": [
    "print(Y_test.count())\n",
    "Y_test"
   ]
  },
  {
   "cell_type": "code",
   "execution_count": 96,
   "metadata": {},
   "outputs": [
    {
     "data": {
      "text/plain": [
       "array([1, 1, 1, 1, 1, 0, 1, 1, 1, 0, 1, 1, 0, 0, 1, 1, 1, 1, 0, 1, 1, 0,\n",
       "       1, 1, 0, 1, 0, 1, 0, 1, 0, 1, 1, 0, 1, 0, 1, 0, 0, 1, 1, 0, 1, 1,\n",
       "       1, 1, 1, 1, 1, 1, 1, 1, 1, 1, 0, 1, 1, 1, 1, 1, 1, 1, 1, 1, 1, 1,\n",
       "       1, 1, 1, 0, 0, 1, 1, 1, 0, 1, 1, 1, 1, 0, 1, 1, 0, 0, 0, 1, 1, 0,\n",
       "       1, 1, 1, 1, 0, 1, 1, 1, 1, 1, 1, 1, 1, 1, 1, 0, 1, 1, 1, 1, 0, 1,\n",
       "       0, 1, 0, 1, 1, 0, 0, 0, 1, 0, 1, 0, 0, 1, 1, 1, 1, 1, 0, 0, 1, 1,\n",
       "       1, 1, 1, 0, 1, 1, 1, 0, 0, 0, 0, 1, 0, 1, 0, 1, 1, 1, 1, 1, 1, 1,\n",
       "       0, 0, 1, 1, 1, 1, 1, 1, 1, 0, 0, 1, 1, 1, 1, 1, 1, 0, 1, 1, 0, 0,\n",
       "       1, 1, 0, 1, 1, 1, 1, 1, 1, 0, 1, 1, 0, 1, 1, 1, 1, 1, 1, 1, 1, 0,\n",
       "       1, 1])"
      ]
     },
     "execution_count": 96,
     "metadata": {},
     "output_type": "execute_result"
    }
   ],
   "source": [
    "predicted = clf.predict(X_test)\n",
    "predicted"
   ]
  },
  {
   "cell_type": "code",
   "execution_count": 97,
   "metadata": {},
   "outputs": [],
   "source": [
    "pred_correct = np.sum(Y_test  == predicted)"
   ]
  },
  {
   "cell_type": "code",
   "execution_count": 98,
   "metadata": {},
   "outputs": [
    {
     "data": {
      "text/plain": [
       "0.705"
      ]
     },
     "execution_count": 98,
     "metadata": {},
     "output_type": "execute_result"
    }
   ],
   "source": [
    "pred_correct/Y_test.count()"
   ]
  },
  {
   "cell_type": "markdown",
   "metadata": {},
   "source": [
    "so out if 200 test values whne using all attrubitutes and the random sampl = 0 \n",
    "you have roughly 69% accuarcy. which is the almost the same probability that the creditibiliy is given"
   ]
  },
  {
   "cell_type": "code",
   "execution_count": 136,
   "metadata": {},
   "outputs": [],
   "source": [
    "from sklearn.naive_bayes import GaussianNB # Gaussian Naive Bayes\n",
    "from sklearn import model_selection\n",
    "\n",
    "\n",
    "from sklearn.metrics import classification_report\n",
    "from sklearn.metrics import confusion_matrix\n",
    "from sklearn.metrics import accuracy_score"
   ]
  },
  {
   "cell_type": "code",
   "execution_count": 137,
   "metadata": {},
   "outputs": [
    {
     "name": "stdout",
     "output_type": "stream",
     "text": [
      "NB accuracy: 0.743750 (0.052515)\n"
     ]
    }
   ],
   "source": [
    "scoring = 'accuracy'\n",
    "#Model Performance\n",
    "#setting performance parameters\n",
    "kfold = model_selection.KFold(n_splits=10, random_state=seed)\n",
    "\n",
    "#calling the cross validation function\n",
    "cv_results = model_selection.cross_val_score(GaussianNB(), X_train, Y_train, cv=kfold, scoring=scoring)\n",
    "\n",
    "#displaying the mean and standard deviation of the prediction\n",
    "msg = \"%s: %f (%f)\" % ('NB accuracy', cv_results.mean(), cv_results.std())\n",
    "print(msg)"
   ]
  },
  {
   "cell_type": "code",
   "execution_count": null,
   "metadata": {},
   "outputs": [],
   "source": []
  },
  {
   "cell_type": "markdown",
   "metadata": {},
   "source": [
    "# Decision tree with PCA"
   ]
  },
  {
   "cell_type": "code",
   "execution_count": 128,
   "metadata": {},
   "outputs": [],
   "source": [
    "X_train, X_test, Y_train, Y_test = train_test_split(X, Y, test_size = 0.2)"
   ]
  },
  {
   "cell_type": "code",
   "execution_count": 130,
   "metadata": {},
   "outputs": [
    {
     "data": {
      "text/plain": [
       "StandardScaler(copy=True, with_mean=True, with_std=True)"
      ]
     },
     "execution_count": 130,
     "metadata": {},
     "output_type": "execute_result"
    }
   ],
   "source": [
    "from sklearn.preprocessing import StandardScaler\n",
    "scaler = StandardScaler()\n",
    "scaler.fit(X_train)\n",
    "X_train = scaler.transform(X_train)\n",
    "X_test= scaler.transform(X_test)"
   ]
  },
  {
   "cell_type": "code",
   "execution_count": 131,
   "metadata": {},
   "outputs": [],
   "source": [
    "from sklearn.decomposition import PCA\n",
    "pca=PCA(.85)"
   ]
  },
  {
   "cell_type": "code",
   "execution_count": 132,
   "metadata": {},
   "outputs": [
    {
     "data": {
      "text/plain": [
       "PCA(copy=True, iterated_power='auto', n_components=0.85, random_state=None,\n",
       "  svd_solver='auto', tol=0.0, whiten=False)"
      ]
     },
     "execution_count": 132,
     "metadata": {},
     "output_type": "execute_result"
    }
   ],
   "source": [
    "pca.fit(X_train)"
   ]
  },
  {
   "cell_type": "code",
   "execution_count": 133,
   "metadata": {},
   "outputs": [],
   "source": [
    "X_train = pca.transform(X_train)\n",
    "X_test = pca.transform(X_test)"
   ]
  },
  {
   "cell_type": "code",
   "execution_count": 123,
   "metadata": {},
   "outputs": [],
   "source": [
    "clf = tree.DecisionTreeClassifier()\n",
    "clf = clf.fit(X_train, Y_train)"
   ]
  },
  {
   "cell_type": "code",
   "execution_count": 124,
   "metadata": {},
   "outputs": [],
   "source": [
    "predicted = clf.predict(X_test)"
   ]
  },
  {
   "cell_type": "code",
   "execution_count": 125,
   "metadata": {},
   "outputs": [
    {
     "data": {
      "text/plain": [
       "array([1, 1, 0, 1, 0, 1, 1, 1, 1, 1, 0, 0, 1, 1, 1, 0, 1, 0, 1, 0, 1, 1,\n",
       "       1, 1, 1, 0, 0, 1, 1, 1, 1, 1, 1, 1, 1, 1, 0, 1, 0, 1, 1, 0, 0, 1,\n",
       "       1, 1, 1, 0, 1, 0, 0, 1, 1, 1, 0, 1, 0, 1, 1, 1, 1, 1, 1, 1, 0, 1,\n",
       "       1, 0, 0, 1, 1, 1, 1, 1, 0, 0, 1, 1, 1, 0, 0, 0, 0, 1, 1, 1, 0, 1,\n",
       "       1, 1, 1, 1, 0, 1, 1, 1, 1, 1, 0, 1, 1, 1, 0, 0, 0, 0, 1, 1, 1, 0,\n",
       "       1, 0, 1, 1, 1, 0, 0, 1, 1, 1, 0, 1, 1, 1, 1, 0, 0, 1, 1, 1, 1, 1,\n",
       "       0, 1, 1, 0, 1, 1, 1, 0, 0, 1, 1, 1, 1, 1, 1, 0, 0, 0, 1, 0, 1, 1,\n",
       "       1, 1, 1, 0, 1, 1, 1, 1, 0, 1, 1, 1, 1, 0, 0, 1, 0, 1, 1, 0, 1, 0,\n",
       "       1, 1, 1, 1, 1, 0, 1, 0, 1, 1, 1, 1, 0, 1, 0, 0, 1, 0, 1, 1, 1, 0,\n",
       "       1, 0])"
      ]
     },
     "execution_count": 125,
     "metadata": {},
     "output_type": "execute_result"
    }
   ],
   "source": [
    "predicted"
   ]
  },
  {
   "cell_type": "code",
   "execution_count": 126,
   "metadata": {},
   "outputs": [
    {
     "data": {
      "text/plain": [
       "0.67"
      ]
     },
     "execution_count": 126,
     "metadata": {},
     "output_type": "execute_result"
    }
   ],
   "source": [
    "clf.score(X_test,Y_test)"
   ]
  },
  {
   "cell_type": "code",
   "execution_count": null,
   "metadata": {},
   "outputs": [],
   "source": []
  }
 ],
 "metadata": {
  "kernelspec": {
   "display_name": "Python 3",
   "language": "python",
   "name": "python3"
  },
  "language_info": {
   "codemirror_mode": {
    "name": "ipython",
    "version": 3
   },
   "file_extension": ".py",
   "mimetype": "text/x-python",
   "name": "python",
   "nbconvert_exporter": "python",
   "pygments_lexer": "ipython3",
   "version": "3.6.4"
  }
 },
 "nbformat": 4,
 "nbformat_minor": 2
}
